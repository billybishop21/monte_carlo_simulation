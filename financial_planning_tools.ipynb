{
 "cells": [
  {
   "cell_type": "markdown",
   "source": [
    "# Financial Planning with APIs and Simulations\n",
    "\n",
    "In this Challenge, you’ll create two financial analysis tools by using a single Jupyter notebook:\n",
    "\n",
    "Part 1: A financial planner for emergencies. The members will be able to use this tool to visualize their current savings. The members can then determine if they have enough reserves for an emergency fund.\n",
    "\n",
    "Part 2: A financial planner for retirement. This tool will forecast the performance of their retirement portfolio in 30 years. To do this, the tool will make an Alpaca API call via the Alpaca SDK to get historical price data for use in Monte Carlo simulations.\n",
    "\n",
    "You’ll use the information from the Monte Carlo simulation to answer questions about the portfolio in your Jupyter notebook.\n",
    "\n"
   ],
   "metadata": {}
  },
  {
   "cell_type": "code",
   "execution_count": 120,
   "source": [
    "# Import the required libraries and dependencies\r\n",
    "import os\r\n",
    "import requests\r\n",
    "import json\r\n",
    "import pandas as pd\r\n",
    "import numpy as np\r\n",
    "from dotenv import load_dotenv\r\n",
    "import alpaca_trade_api as tradeapi\r\n",
    "from MCForecastTools import MCSimulation\r\n",
    "\r\n",
    "%matplotlib inline"
   ],
   "outputs": [],
   "metadata": {}
  },
  {
   "cell_type": "code",
   "execution_count": 121,
   "source": [
    "# Load the environment variables from the .env file\r\n",
    "# by calling the load_dotenv function\r\n",
    "load_dotenv()"
   ],
   "outputs": [
    {
     "output_type": "execute_result",
     "data": {
      "text/plain": [
       "True"
      ]
     },
     "metadata": {},
     "execution_count": 121
    }
   ],
   "metadata": {}
  },
  {
   "cell_type": "markdown",
   "source": [
    "## Part 1: Create a Financial Planner for Emergencies"
   ],
   "metadata": {}
  },
  {
   "cell_type": "markdown",
   "source": [
    "### Evaluate the Cryptocurrency Wallet by Using the Requests Library\n",
    "\n",
    "In this section, you’ll determine the current value of a member’s cryptocurrency wallet. You’ll collect the current prices for the Bitcoin and Ethereum cryptocurrencies by using the Python Requests library. For the prototype, you’ll assume that the member holds the 1.2 Bitcoins (BTC) and 5.3 Ethereum coins (ETH). To do all this, complete the following steps:\n",
    "\n",
    "1. Create a variable named `monthly_income`, and set its value to `12000`.\n",
    "\n",
    "2. Use the Requests library to get the current price (in US dollars) of Bitcoin (BTC) and Ethereum (ETH) by using the API endpoints that the starter code supplies.\n",
    "\n",
    "3. Navigate the JSON response object to access the current price of each coin, and store each in a variable.\n",
    "\n",
    "    > **Hint** Note the specific identifier for each cryptocurrency in the API JSON response. The Bitcoin identifier is `1`, and the Ethereum identifier is `1027`.\n",
    "\n",
    "4. Calculate the value, in US dollars, of the current amount of each cryptocurrency and of the entire cryptocurrency wallet.\n",
    "\n"
   ],
   "metadata": {}
  },
  {
   "cell_type": "code",
   "execution_count": 122,
   "source": [
    "# The current number of coins for each cryptocurrency asset held in the portfolio.\r\n",
    "btc_coins = 1.2\r\n",
    "eth_coins = 5.3"
   ],
   "outputs": [],
   "metadata": {}
  },
  {
   "cell_type": "markdown",
   "source": [
    "#### Step 1: Create a variable named `monthly_income`, and set its value to `12000`."
   ],
   "metadata": {}
  },
  {
   "cell_type": "code",
   "execution_count": 123,
   "source": [
    "# The monthly amount for the member's household income\r\n",
    "monthly_income = 12000"
   ],
   "outputs": [],
   "metadata": {}
  },
  {
   "cell_type": "markdown",
   "source": [
    "#### Review the endpoint URLs for the API calls to Free Crypto API in order to get the current pricing information for both BTC and ETH."
   ],
   "metadata": {}
  },
  {
   "cell_type": "code",
   "execution_count": 124,
   "source": [
    "# The Free Crypto API Call endpoint URLs for the held cryptocurrency assets\r\n",
    "btc_url = \"https://api.alternative.me/v2/ticker/Bitcoin/?convert=USD\"\r\n",
    "eth_url = \"https://api.alternative.me/v2/ticker/Ethereum/?convert=USD\""
   ],
   "outputs": [],
   "metadata": {}
  },
  {
   "cell_type": "markdown",
   "source": [
    "#### Step 2. Use the Requests library to get the current price (in US dollars) of Bitcoin (BTC) and Ethereum (ETH) by using the API endpoints that the starter code supplied."
   ],
   "metadata": {}
  },
  {
   "cell_type": "code",
   "execution_count": 125,
   "source": [
    "# Using the Python requests library, make an API call to access the current price of BTC\r\n",
    "btc_response = requests.get(btc_url).json()\r\n",
    "\r\n",
    "# Use the json.dumps function to review the response data from the API call\r\n",
    "# Use the indent and sort_keys parameters to make the response object readable\r\n",
    "print(json.dumps(btc_response, indent=4, sort_keys=True))"
   ],
   "outputs": [
    {
     "output_type": "stream",
     "name": "stdout",
     "text": [
      "{\n",
      "    \"data\": {\n",
      "        \"1\": {\n",
      "            \"circulating_supply\": 18761268,\n",
      "            \"id\": 1,\n",
      "            \"last_updated\": 1626741293,\n",
      "            \"max_supply\": 21000000,\n",
      "            \"name\": \"Bitcoin\",\n",
      "            \"quotes\": {\n",
      "                \"USD\": {\n",
      "                    \"market_cap\": 580252472383,\n",
      "                    \"percent_change_1h\": 0.151593905081363,\n",
      "                    \"percent_change_24h\": -2.39057792893425,\n",
      "                    \"percent_change_7d\": -6.80556229020961,\n",
      "                    \"percentage_change_1h\": 0.151593905081363,\n",
      "                    \"percentage_change_24h\": -2.39057792893425,\n",
      "                    \"percentage_change_7d\": -6.80556229020961,\n",
      "                    \"price\": 30999.0,\n",
      "                    \"volume_24h\": 20240280217\n",
      "                }\n",
      "            },\n",
      "            \"rank\": 1,\n",
      "            \"symbol\": \"BTC\",\n",
      "            \"total_supply\": 18761268,\n",
      "            \"website_slug\": \"bitcoin\"\n",
      "        }\n",
      "    },\n",
      "    \"metadata\": {\n",
      "        \"error\": null,\n",
      "        \"num_cryptocurrencies\": 3120,\n",
      "        \"timestamp\": 1626741293\n",
      "    }\n",
      "}\n"
     ]
    }
   ],
   "metadata": {}
  },
  {
   "cell_type": "code",
   "execution_count": 126,
   "source": [
    "# Using the Python requests library, make an API call to access the current price ETH\r\n",
    "eth_response = requests.get(eth_url).json()\r\n",
    "\r\n",
    "# Use the json.dumps function to review the response data from the API call\r\n",
    "# Use the indent and sort_keys parameters to make the response object readable\r\n",
    "print(json.dumps(eth_response, indent=4, sort_keys=True))\r\n"
   ],
   "outputs": [
    {
     "output_type": "stream",
     "name": "stdout",
     "text": [
      "{\n",
      "    \"data\": {\n",
      "        \"1027\": {\n",
      "            \"circulating_supply\": 116761891,\n",
      "            \"id\": 1027,\n",
      "            \"last_updated\": 1626741294,\n",
      "            \"max_supply\": 0,\n",
      "            \"name\": \"Ethereum\",\n",
      "            \"quotes\": {\n",
      "                \"USD\": {\n",
      "                    \"market_cap\": 213084639122,\n",
      "                    \"percent_change_1h\": 0.241359100352668,\n",
      "                    \"percent_change_24h\": -3.48283639313621,\n",
      "                    \"percent_change_7d\": -10.286242925301,\n",
      "                    \"percentage_change_1h\": 0.241359100352668,\n",
      "                    \"percentage_change_24h\": -3.48283639313621,\n",
      "                    \"percentage_change_7d\": -10.286242925301,\n",
      "                    \"price\": 1832.4,\n",
      "                    \"volume_24h\": 15898379538\n",
      "                }\n",
      "            },\n",
      "            \"rank\": 2,\n",
      "            \"symbol\": \"ETH\",\n",
      "            \"total_supply\": 116761891,\n",
      "            \"website_slug\": \"ethereum\"\n",
      "        }\n",
      "    },\n",
      "    \"metadata\": {\n",
      "        \"error\": null,\n",
      "        \"num_cryptocurrencies\": 3120,\n",
      "        \"timestamp\": 1626741294\n",
      "    }\n",
      "}\n"
     ]
    }
   ],
   "metadata": {}
  },
  {
   "cell_type": "markdown",
   "source": [
    "#### Step 3: Navigate the JSON response object to access the current price of each coin, and store each in a variable."
   ],
   "metadata": {}
  },
  {
   "cell_type": "code",
   "execution_count": 127,
   "source": [
    "# Navigate the BTC response object to access the current price of BTC\r\n",
    "btc_price = btc_response[\"data\"][\"1\"][\"quotes\"][\"USD\"][\"price\"]\r\n",
    "\r\n",
    "# Print the current price of BTC\r\n",
    "print(f\"The current price of bitcoin is ${btc_price:.2f}.\")"
   ],
   "outputs": [
    {
     "output_type": "stream",
     "name": "stdout",
     "text": [
      "The current price of bitcoin is $30999.00.\n"
     ]
    }
   ],
   "metadata": {}
  },
  {
   "cell_type": "code",
   "execution_count": 128,
   "source": [
    "# Navigate the BTC response object to access the current price of ETH\r\n",
    "eth_price = eth_response[\"data\"][\"1027\"][\"quotes\"][\"USD\"][\"price\"]\r\n",
    "\r\n",
    "# Print the current price of ETH\r\n",
    "print(f\"The current price of ethereum is ${eth_price:.2f}.\")"
   ],
   "outputs": [
    {
     "output_type": "stream",
     "name": "stdout",
     "text": [
      "The current price of ethereum is $1832.40.\n"
     ]
    }
   ],
   "metadata": {}
  },
  {
   "cell_type": "markdown",
   "source": [
    "#### Step 4: Calculate the value, in US dollars, of the current amount of each cryptocurrency and of the entire cryptocurrency wallet."
   ],
   "metadata": {}
  },
  {
   "cell_type": "code",
   "execution_count": 129,
   "source": [
    "# Compute the current value of the BTC holding \r\n",
    "btc_value = btc_coins * btc_price\r\n",
    "\r\n",
    "# Print current value of your holding in BTC\r\n",
    "print(f\"The current value of bitcoin currently held in your wallet is ${btc_value:.2f}.\")\r\n"
   ],
   "outputs": [
    {
     "output_type": "stream",
     "name": "stdout",
     "text": [
      "The current value of bitcoin currently held in your wallet is $37198.80.\n"
     ]
    }
   ],
   "metadata": {}
  },
  {
   "cell_type": "code",
   "execution_count": 130,
   "source": [
    "# Compute the current value of the ETH holding \r\n",
    "eth_value = eth_coins * eth_price\r\n",
    "\r\n",
    "# Print current value of your holding in ETH\r\n",
    "print(f\"The current value of ethereum currently held in your wallet is ${eth_value:.2f}.\")\r\n"
   ],
   "outputs": [
    {
     "output_type": "stream",
     "name": "stdout",
     "text": [
      "The current value of ethereum currently held in your wallet is $9711.72.\n"
     ]
    }
   ],
   "metadata": {}
  },
  {
   "cell_type": "code",
   "execution_count": 131,
   "source": [
    "# Compute the total value of the cryptocurrency wallet\r\n",
    "# Add the value of the BTC holding to the value of the ETH holding\r\n",
    "total_crypto_wallet = btc_value + eth_value\r\n",
    "\r\n",
    "# Print current cryptocurrency wallet balance\r\n",
    "print(f\"The total value of USD in your wallet is ${total_crypto_wallet:.2f}.\")"
   ],
   "outputs": [
    {
     "output_type": "stream",
     "name": "stdout",
     "text": [
      "The total value of USD in your wallet is $46910.52.\n"
     ]
    }
   ],
   "metadata": {}
  },
  {
   "cell_type": "markdown",
   "source": [
    "### Evaluate the Stock and Bond Holdings by Using the Alpaca SDK\n",
    "\n",
    "In this section, you’ll determine the current value of a member’s stock and bond holdings. You’ll make an API call to Alpaca via the Alpaca SDK to get the current closing prices of the SPDR S&P 500 ETF Trust (ticker: SPY) and of the iShares Core US Aggregate Bond ETF (ticker: AGG). For the prototype, assume that the member holds 110 shares of SPY, which represents the stock portion of their portfolio, and 200 shares of AGG, which represents the bond portion. To do all this, complete the following steps:\n",
    "\n",
    "1. In the `Starter_Code` folder, create an environment file (`.env`) to store the values of your Alpaca API key and Alpaca secret key.\n",
    "\n",
    "2. Set the variables for the Alpaca API and secret keys. Using the Alpaca SDK, create the Alpaca `tradeapi.REST` object. In this object, include the parameters for the Alpaca API key, the secret key, and the version number.\n",
    "\n",
    "3. Set the following parameters for the Alpaca API call:\n",
    "\n",
    "    - `tickers`: Use the tickers for the member’s stock and bond holdings.\n",
    "\n",
    "    - `timeframe`: Use a time frame of one day.\n",
    "\n",
    "    - `start_date` and `end_date`: Use the same date for these parameters, and format them with the date of the previous weekday (or `2020-08-07`). This is because you want the one closing price for the most-recent trading day.\n",
    "\n",
    "4. Get the current closing prices for `SPY` and `AGG` by using the Alpaca `get_barset` function. Format the response as a Pandas DataFrame by including the `df` property at the end of the `get_barset` function.\n",
    "\n",
    "5. Navigating the Alpaca response DataFrame, select the `SPY` and `AGG` closing prices, and store them as variables.\n",
    "\n",
    "6. Calculate the value, in US dollars, of the current amount of shares in each of the stock and bond portions of the portfolio, and print the results.\n"
   ],
   "metadata": {}
  },
  {
   "cell_type": "markdown",
   "source": [
    "#### Review the total number of shares held in both (SPY) and (AGG)."
   ],
   "metadata": {}
  },
  {
   "cell_type": "code",
   "execution_count": 132,
   "source": [
    "# Current amount of shares held in both the stock (SPY) and bond (AGG) portion of the portfolio.\r\n",
    "spy_shares = 110\r\n",
    "agg_shares = 200"
   ],
   "outputs": [],
   "metadata": {}
  },
  {
   "cell_type": "markdown",
   "source": [
    "#### Step 1: In the `Starter_Code` folder, create an environment file (`.env`) to store the values of your Alpaca API key and Alpaca secret key."
   ],
   "metadata": {}
  },
  {
   "cell_type": "markdown",
   "source": [
    "#### Step 2: Set the variables for the Alpaca API and secret keys. Using the Alpaca SDK, create the Alpaca `tradeapi.REST` object. In this object, include the parameters for the Alpaca API key, the secret key, and the version number."
   ],
   "metadata": {}
  },
  {
   "cell_type": "code",
   "execution_count": 133,
   "source": [
    "# Set the variables for the Alpaca API and secret keys\r\n",
    "alpaca_api_key = os.getenv(\"ALPACA_API_KEY\")\r\n",
    "alpaca_secret_key = os.getenv(\"ALPACA_SECRET_KEY\")\r\n",
    "\r\n",
    "# Create the Alpaca tradeapi.REST object\r\n",
    "alpaca = tradeapi.REST(\r\n",
    "    alpaca_api_key,\r\n",
    "    alpaca_secret_key,\r\n",
    "    api_version=\"v2\"\r\n",
    ")"
   ],
   "outputs": [],
   "metadata": {}
  },
  {
   "cell_type": "markdown",
   "source": [
    "#### Step 3: Set the following parameters for the Alpaca API call:\n",
    "\n",
    "- `tickers`: Use the tickers for the member’s stock and bond holdings.\n",
    "\n",
    "- `timeframe`: Use a time frame of one day.\n",
    "\n",
    "- `start_date` and `end_date`: Use the same date for these parameters, and format them with the date of the previous weekday (or `2020-08-07`). This is because you want the one closing price for the most-recent trading day.\n"
   ],
   "metadata": {}
  },
  {
   "cell_type": "code",
   "execution_count": 134,
   "source": [
    "# Set the tickers for both the bond and stock portion of the portfolio\r\n",
    "tickers = [\"SPY\", \"AGG\"]\r\n",
    "\r\n",
    "# Set timeframe to 1D \r\n",
    "timeframe = \"1D\"\r\n",
    "\r\n",
    "# Format current date as ISO format\r\n",
    "# Set both the start and end date at the date of your prior weekday \r\n",
    "# This will give you the closing price of the previous trading day\r\n",
    "# Alternatively you can use a start and end date of 2020-08-07\r\n",
    "start_date = pd.Timestamp(\"2021-07-14\", tz=\"America/New_York\").isoformat()\r\n",
    "end_date = pd.Timestamp(\"2021-07-14\", tz=\"America/New_York\").isoformat()"
   ],
   "outputs": [],
   "metadata": {}
  },
  {
   "cell_type": "markdown",
   "source": [
    "#### Step 4: Get the current closing prices for `SPY` and `AGG` by using the Alpaca `get_barset` function. Format the response as a Pandas DataFrame by including the `df` property at the end of the `get_barset` function."
   ],
   "metadata": {}
  },
  {
   "cell_type": "code",
   "execution_count": 135,
   "source": [
    "# Use the Alpaca get_barset function to get current closing prices the portfolio\r\n",
    "# Be sure to set the `df` property after the function to format the response object as a DataFrame\r\n",
    "prices_df = alpaca.get_barset(\r\n",
    "    tickers,\r\n",
    "    timeframe,\r\n",
    "    start = start_date,\r\n",
    "    end = end_date,\r\n",
    "    limit=1000\r\n",
    ").df\r\n",
    "\r\n",
    "# Review the first 5 rows of the Alpaca DataFrame\r\n",
    "prices_df"
   ],
   "outputs": [
    {
     "output_type": "execute_result",
     "data": {
      "text/plain": [
       "                              AGG                                       SPY  \\\n",
       "                             open    high      low   close   volume    open   \n",
       "time                                                                          \n",
       "2021-07-14 00:00:00-04:00  115.59  115.76  115.569  115.75  3907266  437.39   \n",
       "\n",
       "                                                             \n",
       "                             high     low   close    volume  \n",
       "time                                                         \n",
       "2021-07-14 00:00:00-04:00  437.92  434.91  436.22  54445950  "
      ],
      "text/html": [
       "<div>\n",
       "<style scoped>\n",
       "    .dataframe tbody tr th:only-of-type {\n",
       "        vertical-align: middle;\n",
       "    }\n",
       "\n",
       "    .dataframe tbody tr th {\n",
       "        vertical-align: top;\n",
       "    }\n",
       "\n",
       "    .dataframe thead tr th {\n",
       "        text-align: left;\n",
       "    }\n",
       "\n",
       "    .dataframe thead tr:last-of-type th {\n",
       "        text-align: right;\n",
       "    }\n",
       "</style>\n",
       "<table border=\"1\" class=\"dataframe\">\n",
       "  <thead>\n",
       "    <tr>\n",
       "      <th></th>\n",
       "      <th colspan=\"5\" halign=\"left\">AGG</th>\n",
       "      <th colspan=\"5\" halign=\"left\">SPY</th>\n",
       "    </tr>\n",
       "    <tr>\n",
       "      <th></th>\n",
       "      <th>open</th>\n",
       "      <th>high</th>\n",
       "      <th>low</th>\n",
       "      <th>close</th>\n",
       "      <th>volume</th>\n",
       "      <th>open</th>\n",
       "      <th>high</th>\n",
       "      <th>low</th>\n",
       "      <th>close</th>\n",
       "      <th>volume</th>\n",
       "    </tr>\n",
       "    <tr>\n",
       "      <th>time</th>\n",
       "      <th></th>\n",
       "      <th></th>\n",
       "      <th></th>\n",
       "      <th></th>\n",
       "      <th></th>\n",
       "      <th></th>\n",
       "      <th></th>\n",
       "      <th></th>\n",
       "      <th></th>\n",
       "      <th></th>\n",
       "    </tr>\n",
       "  </thead>\n",
       "  <tbody>\n",
       "    <tr>\n",
       "      <th>2021-07-14 00:00:00-04:00</th>\n",
       "      <td>115.59</td>\n",
       "      <td>115.76</td>\n",
       "      <td>115.569</td>\n",
       "      <td>115.75</td>\n",
       "      <td>3907266</td>\n",
       "      <td>437.39</td>\n",
       "      <td>437.92</td>\n",
       "      <td>434.91</td>\n",
       "      <td>436.22</td>\n",
       "      <td>54445950</td>\n",
       "    </tr>\n",
       "  </tbody>\n",
       "</table>\n",
       "</div>"
      ]
     },
     "metadata": {},
     "execution_count": 135
    }
   ],
   "metadata": {}
  },
  {
   "cell_type": "markdown",
   "source": [
    "#### Step 5: Navigating the Alpaca response DataFrame, select the `SPY` and `AGG` closing prices, and store them as variables."
   ],
   "metadata": {}
  },
  {
   "cell_type": "code",
   "execution_count": 136,
   "source": [
    "# Access the closing price for AGG from the Alpaca DataFrame\r\n",
    "# Converting the value to a floating point number\r\n",
    "agg_close_price = float(prices_df[\"AGG\"][\"close\"])\r\n",
    "\r\n",
    "# Print the AGG closing price\r\n",
    "agg_close_price\r\n"
   ],
   "outputs": [
    {
     "output_type": "execute_result",
     "data": {
      "text/plain": [
       "115.75"
      ]
     },
     "metadata": {},
     "execution_count": 136
    }
   ],
   "metadata": {}
  },
  {
   "cell_type": "code",
   "execution_count": 137,
   "source": [
    "# Access the closing price for SPY from the Alpaca DataFrame\r\n",
    "# Converting the value to a floating point number\r\n",
    "spy_close_price = float(prices_df[\"SPY\"][\"close\"])\r\n",
    "\r\n",
    "# Print the SPY closing price\r\n",
    "spy_close_price\r\n"
   ],
   "outputs": [
    {
     "output_type": "execute_result",
     "data": {
      "text/plain": [
       "436.22"
      ]
     },
     "metadata": {},
     "execution_count": 137
    }
   ],
   "metadata": {}
  },
  {
   "cell_type": "markdown",
   "source": [
    "#### Step 6: Calculate the value, in US dollars, of the current amount of shares in each of the stock and bond portions of the portfolio, and print the results."
   ],
   "metadata": {}
  },
  {
   "cell_type": "code",
   "execution_count": 138,
   "source": [
    "# Calculate the current value of the bond portion of the portfolio\r\n",
    "agg_value = agg_shares * agg_close_price\r\n",
    "\r\n",
    "# Print the current value of the bond portfolio\r\n",
    "print(f\"The value of the bond portfolio is ${agg_value:.2f}.\")\r\n"
   ],
   "outputs": [
    {
     "output_type": "stream",
     "name": "stdout",
     "text": [
      "The value of the bond portfolio is $23150.00.\n"
     ]
    }
   ],
   "metadata": {}
  },
  {
   "cell_type": "code",
   "execution_count": 139,
   "source": [
    "# Calculate the current value of the stock portion of the portfolio\r\n",
    "spy_value = spy_shares * spy_close_price\r\n",
    "\r\n",
    "# Print the current value of the stock portfolio\r\n",
    "print(f\"The current value of the stock portfolio is ${spy_value:.2f}.\")\r\n"
   ],
   "outputs": [
    {
     "output_type": "stream",
     "name": "stdout",
     "text": [
      "The current value of the stock portfolio is $47984.20.\n"
     ]
    }
   ],
   "metadata": {}
  },
  {
   "cell_type": "code",
   "execution_count": 140,
   "source": [
    "# Calculate the total value of the stock and bond portion of the portfolio\r\n",
    "total_stocks_bonds = agg_value + spy_value\r\n",
    "\r\n",
    "# Print the current balance of the stock and bond portion of the portfolio\r\n",
    "print(f\"The total portfolio value is ${total_stocks_bonds:.2f}.\")\r\n"
   ],
   "outputs": [
    {
     "output_type": "stream",
     "name": "stdout",
     "text": [
      "The total portfolio value is $71134.20.\n"
     ]
    }
   ],
   "metadata": {}
  },
  {
   "cell_type": "code",
   "execution_count": 141,
   "source": [
    "# Calculate the total value of the member's entire savings portfolio\r\n",
    "# Add the value of the cryptocurrency walled to the value of the total stocks and bonds\r\n",
    "total_portfolio = total_crypto_wallet + total_stocks_bonds\r\n",
    "\r\n",
    "# Print current cryptocurrency wallet balance plus the total stocks and bonds portfolio\r\n",
    "print(f\"The total savings portfolio is ${total_portfolio:.2f}.\")\r\n"
   ],
   "outputs": [
    {
     "output_type": "stream",
     "name": "stdout",
     "text": [
      "The total savings portfolio is $118044.72.\n"
     ]
    }
   ],
   "metadata": {}
  },
  {
   "cell_type": "markdown",
   "source": [
    "### Evaluate the Emergency Fund\n",
    "\n",
    "In this section, you’ll use the valuations for the cryptocurrency wallet and for the stock and bond portions of the portfolio to determine if the credit union member has enough savings to build an emergency fund into their financial plan. To do this, complete the following steps:\n",
    "\n",
    "1. Create a Python list named `savings_data` that has two elements. The first element contains the total value of the cryptocurrency wallet. The second element contains the total value of the stock and bond portions of the portfolio.\n",
    "\n",
    "2. Use the `savings_data` list to create a Pandas DataFrame named `savings_df`, and then display this DataFrame. The function to create the DataFrame should take the following three parameters:\n",
    "\n",
    "    - `savings_data`: Use the list that you just created.\n",
    "\n",
    "    - `columns`: Set this parameter equal to a Python list with a single value called `amount`.\n",
    "\n",
    "    - `index`: Set this parameter equal to a Python list with the values of `crypto` and `stock/bond`.\n",
    "\n",
    "3. Use the `savings_df` DataFrame to plot a pie chart that visualizes the composition of the member’s portfolio. The y-axis of the pie chart uses `amount`. Be sure to add a title.\n",
    "\n",
    "4. Using Python, determine if the current portfolio has enough to create an emergency fund as part of the member’s financial plan. Ideally, an emergency fund should equal to three times the member’s monthly income. To do this, implement the following steps:\n",
    "\n",
    "    1. Create a variable named `emergency_fund_value`, and set it equal to three times the value of the member’s `monthly_income` of $12000. (You set this earlier in Part 1).\n",
    "\n",
    "    2. Create a series of three if statements to determine if the member’s total portfolio is large enough to fund the emergency portfolio:\n",
    "\n",
    "        1. If the total portfolio value is greater than the emergency fund value, display a message congratulating the member for having enough money in this fund.\n",
    "\n",
    "        2. Else if the total portfolio value is equal to the emergency fund value, display a message congratulating the member on reaching this important financial goal.\n",
    "\n",
    "        3. Else the total portfolio is less than the emergency fund value, so display a message showing how many dollars away the member is from reaching the goal. (Subtract the total portfolio value from the emergency fund value.)\n"
   ],
   "metadata": {}
  },
  {
   "cell_type": "markdown",
   "source": [
    "#### Step 1: Create a Python list named `savings_data` that has two elements. The first element contains the total value of the cryptocurrency wallet. The second element contains the total value of the stock and bond portions of the portfolio."
   ],
   "metadata": {}
  },
  {
   "cell_type": "code",
   "execution_count": 142,
   "source": [
    "# Consolidate financial assets data into a Python list\r\n",
    "savings_data = [total_crypto_wallet, total_stocks_bonds]\r\n",
    "\r\n",
    "# Review the Python list savings_data\r\n",
    "savings_data"
   ],
   "outputs": [
    {
     "output_type": "execute_result",
     "data": {
      "text/plain": [
       "[46910.52, 71134.20000000001]"
      ]
     },
     "metadata": {},
     "execution_count": 142
    }
   ],
   "metadata": {}
  },
  {
   "cell_type": "markdown",
   "source": [
    "#### Step 2: Use the `savings_data` list to create a Pandas DataFrame named `savings_df`, and then display this DataFrame. The function to create the DataFrame should take the following three parameters:\n",
    "\n",
    "- `savings_data`: Use the list that you just created.\n",
    "\n",
    "- `columns`: Set this parameter equal to a Python list with a single value called `amount`.\n",
    "\n",
    "- `index`: Set this parameter equal to a Python list with the values of `crypto` and `stock/bond`.\n"
   ],
   "metadata": {}
  },
  {
   "cell_type": "code",
   "execution_count": 143,
   "source": [
    "# Create a Pandas DataFrame called savings_df\r\n",
    "column_names = ['amount']\r\n",
    "\r\n",
    "savings_df = pd.DataFrame(\r\n",
    "    data=savings_data,\r\n",
    "    columns=column_names,\r\n",
    "    index=[\"crypto\", \"stock/bond\"]\r\n",
    ")\r\n",
    "\r\n",
    "\r\n",
    "# Display the savings_df DataFrame\r\n",
    "display(savings_df)"
   ],
   "outputs": [
    {
     "output_type": "display_data",
     "data": {
      "text/plain": [
       "              amount\n",
       "crypto      46910.52\n",
       "stock/bond  71134.20"
      ],
      "text/html": [
       "<div>\n",
       "<style scoped>\n",
       "    .dataframe tbody tr th:only-of-type {\n",
       "        vertical-align: middle;\n",
       "    }\n",
       "\n",
       "    .dataframe tbody tr th {\n",
       "        vertical-align: top;\n",
       "    }\n",
       "\n",
       "    .dataframe thead th {\n",
       "        text-align: right;\n",
       "    }\n",
       "</style>\n",
       "<table border=\"1\" class=\"dataframe\">\n",
       "  <thead>\n",
       "    <tr style=\"text-align: right;\">\n",
       "      <th></th>\n",
       "      <th>amount</th>\n",
       "    </tr>\n",
       "  </thead>\n",
       "  <tbody>\n",
       "    <tr>\n",
       "      <th>crypto</th>\n",
       "      <td>46910.52</td>\n",
       "    </tr>\n",
       "    <tr>\n",
       "      <th>stock/bond</th>\n",
       "      <td>71134.20</td>\n",
       "    </tr>\n",
       "  </tbody>\n",
       "</table>\n",
       "</div>"
      ]
     },
     "metadata": {}
    }
   ],
   "metadata": {}
  },
  {
   "cell_type": "markdown",
   "source": [
    "#### Step 3: Use the `savings_df` DataFrame to plot a pie chart that visualizes the composition of the member’s portfolio. The y-axis of the pie chart uses `amount`. Be sure to add a title."
   ],
   "metadata": {}
  },
  {
   "cell_type": "code",
   "execution_count": 144,
   "source": [
    "# Plot the total value of the member's portfolio (crypto and stock/bond) in a pie chart\r\n",
    "savings_df.plot.pie(figsize=(9,9), subplots=True, autopct=\"%.2f\", fontsize=20)"
   ],
   "outputs": [
    {
     "output_type": "execute_result",
     "data": {
      "text/plain": [
       "array([<AxesSubplot:ylabel='amount'>], dtype=object)"
      ]
     },
     "metadata": {},
     "execution_count": 144
    },
    {
     "output_type": "display_data",
     "data": {
      "text/plain": [
       "<Figure size 648x648 with 1 Axes>"
      ],
      "image/png": "[encoded data removed]"
     },
     "metadata": {}
    }
   ],
   "metadata": {}
  },
  {
   "cell_type": "markdown",
   "source": [
    "#### Step 4: Using Python, determine if the current portfolio has enough to create an emergency fund as part of the member’s financial plan. Ideally, an emergency fund should equal to three times the member’s monthly income. To do this, implement the following steps:\n",
    "\n",
    "Step 1. Create a variable named `emergency_fund_value`, and set it equal to three times the value of the member’s `monthly_income` of 12000. (You set this earlier in Part 1).\n",
    "\n",
    "Step 2. Create a series of three if statements to determine if the member’s total portfolio is large enough to fund the emergency portfolio:\n",
    "\n",
    "* If the total portfolio value is greater than the emergency fund value, display a message congratulating the member for having enough money in this fund.\n",
    "\n",
    "* Else if the total portfolio value is equal to the emergency fund value, display a message congratulating the member on reaching this important financial goal.\n",
    "\n",
    "* Else the total portfolio is less than the emergency fund value, so display a message showing how many dollars away the member is from reaching the goal. (Subtract the total portfolio value from the emergency fund value.)\n"
   ],
   "metadata": {}
  },
  {
   "cell_type": "markdown",
   "source": [
    "##### Step 4-1: Create a variable named `emergency_fund_value`, and set it equal to three times the value of the member’s `monthly_income` of 12000. (You set this earlier in Part 1)."
   ],
   "metadata": {}
  },
  {
   "cell_type": "code",
   "execution_count": 145,
   "source": [
    "# Create a variable named emergency_fund_value\r\n",
    "emergency_fund_value = monthly_income * 3\r\n",
    "emergency_fund_value"
   ],
   "outputs": [
    {
     "output_type": "execute_result",
     "data": {
      "text/plain": [
       "36000"
      ]
     },
     "metadata": {},
     "execution_count": 145
    }
   ],
   "metadata": {}
  },
  {
   "cell_type": "markdown",
   "source": [
    "##### Step 4-2: Create a series of three if statements to determine if the member’s total portfolio is large enough to fund the emergency portfolio:\n",
    "\n",
    "* If the total portfolio value is greater than the emergency fund value, display a message congratulating the member for having enough money in this fund.\n",
    "\n",
    "* Else if the total portfolio value is equal to the emergency fund value, display a message congratulating the member on reaching this important financial goal.\n",
    "\n",
    "* Else the total portfolio is less than the emergency fund value, so display a message showing how many dollars away the member is from reaching the goal. (Subtract the total portfolio value from the emergency fund value.)"
   ],
   "metadata": {}
  },
  {
   "cell_type": "code",
   "execution_count": 146,
   "source": [
    "# Evaluate the possibility of creating an emergency fund with 3 conditions:\r\n",
    "if total_portfolio > emergency_fund_value:\r\n",
    "    print(f\"Congratulations! You have enough money in this fund!\")\r\n",
    "elif total_portfolio == emergency_fund_value:\r\n",
    "    print(f\"Congratulations! You have reached this important financial goal!\")\r\n",
    "else:\r\n",
    "    total_portfolio < emergency_fund_value\r\n",
    "    difference = emergency_fund_value - total_portfolio\r\n",
    "    print(f\"You are ${difference:.2f} away from reaching your goal.\")"
   ],
   "outputs": [
    {
     "output_type": "stream",
     "name": "stdout",
     "text": [
      "Congratulations! You have enough money in this fund!\n"
     ]
    }
   ],
   "metadata": {}
  },
  {
   "cell_type": "markdown",
   "source": [
    "## Part 2: Create a Financial Planner for Retirement"
   ],
   "metadata": {}
  },
  {
   "cell_type": "markdown",
   "source": [
    "### Create the Monte Carlo Simulation\n",
    "\n",
    "In this section, you’ll use the MCForecastTools library to create a Monte Carlo simulation for the member’s savings portfolio. To do this, complete the following steps:\n",
    "\n",
    "1. Make an API call via the Alpaca SDK to get 10 years of historical closing prices for a traditional 60/40 portfolio split: 60% stocks (SPY) and 40% bonds (AGG).\n",
    "\n",
    "2. Run a Monte Carlo simulation of 500 samples and 30 years for the 60/40 portfolio, and then plot the results.The following image shows the overlay line plot resulting from a simulation with these characteristics. However, because a random number generator is used to run each live Monte Carlo simulation, your image will differ slightly from this exact image:\n",
    "\n",
    "![A screenshot depicts the resulting plot.](Images/5-4-monte-carlo-line-plot.png)\n",
    "\n",
    "3. Plot the probability distribution of the Monte Carlo simulation. Plot the probability distribution of the Monte Carlo simulation. The following image shows the histogram plot resulting from a simulation with these characteristics. However, because a random number generator is used to run each live Monte Carlo simulation, your image will differ slightly from this exact image:\n",
    "\n",
    "![A screenshot depicts the histogram plot.](Images/5-4-monte-carlo-histogram.png)\n",
    "\n",
    "4. Generate the summary statistics for the Monte Carlo simulation.\n",
    "\n"
   ],
   "metadata": {}
  },
  {
   "cell_type": "markdown",
   "source": [
    "#### Step 1: Make an API call via the Alpaca SDK to get 10 years of historical closing prices for a traditional 60/40 portfolio split: 60% stocks (SPY) and 40% bonds (AGG)."
   ],
   "metadata": {}
  },
  {
   "cell_type": "code",
   "execution_count": 176,
   "source": [
    "# Set start and end dates of 10 years back from your current date\r\n",
    "# Alternatively, you can use an end date of 2020-08-07 and work 10 years back from that date\r\n",
    "# I used a more recent date*** \r\n",
    "start_date = pd.Timestamp(\"2011-07-14\", tz=\"America/New_York\").isoformat()\r\n",
    "end_date = pd.Timestamp(\"2021-07-14\", tz=\"America/New_York\").isoformat()\r\n"
   ],
   "outputs": [],
   "metadata": {}
  },
  {
   "cell_type": "code",
   "execution_count": 178,
   "source": [
    "# Use the Alpaca get_barset function to make the API call to get the 10 years worth of pricing data\r\n",
    "# The tickers and timeframe parameters should have been set in Part 1 of this activity \r\n",
    "# The start and end dates should be updated with the information set above\r\n",
    "# Remember to add the df property to the end of the call so the response is returned as a DataFrame\r\n",
    "stock_and_bond_portfolio = alpaca.get_barset(\r\n",
    "    tickers,\r\n",
    "    timeframe,\r\n",
    "    start=start_date,\r\n",
    "    end=end_date,\r\n",
    "    limit=1000\r\n",
    ").df\r\n",
    "\r\n",
    "# Display both the first and last five rows of the DataFrame\r\n",
    "display(stock_and_bond_portfolio.head())\r\n",
    "display(stock_and_bond_portfolio.tail())"
   ],
   "outputs": [
    {
     "output_type": "display_data",
     "data": {
      "text/plain": [
       "                              AGG                                          \\\n",
       "                             open      high       low    close     volume   \n",
       "time                                                                        \n",
       "2017-07-24 00:00:00-04:00  109.84  109.9200  109.7600  109.810  1609935.0   \n",
       "2017-07-25 00:00:00-04:00  109.60  109.6300  109.3900  109.429  2031555.0   \n",
       "2017-07-26 00:00:00-04:00  109.37  109.7100  109.3500  109.630  1506702.0   \n",
       "2017-07-27 00:00:00-04:00  109.51  109.5868  109.4301  109.495  1646046.0   \n",
       "2017-07-28 00:00:00-04:00  109.54  109.7000  109.4900  109.695  1732483.0   \n",
       "\n",
       "                              SPY                                      \n",
       "                             open    high     low   close      volume  \n",
       "time                                                                   \n",
       "2017-07-24 00:00:00-04:00     NaN     NaN     NaN     NaN         NaN  \n",
       "2017-07-25 00:00:00-04:00  247.68  247.80  247.16  247.39  35678875.0  \n",
       "2017-07-26 00:00:00-04:00  247.75  247.79  247.13  247.45  34672798.0  \n",
       "2017-07-27 00:00:00-04:00  247.96  248.00  245.68  247.22  56602565.0  \n",
       "2017-07-28 00:00:00-04:00  246.65  247.06  246.13  246.90  36125701.0  "
      ],
      "text/html": [
       "<div>\n",
       "<style scoped>\n",
       "    .dataframe tbody tr th:only-of-type {\n",
       "        vertical-align: middle;\n",
       "    }\n",
       "\n",
       "    .dataframe tbody tr th {\n",
       "        vertical-align: top;\n",
       "    }\n",
       "\n",
       "    .dataframe thead tr th {\n",
       "        text-align: left;\n",
       "    }\n",
       "\n",
       "    .dataframe thead tr:last-of-type th {\n",
       "        text-align: right;\n",
       "    }\n",
       "</style>\n",
       "<table border=\"1\" class=\"dataframe\">\n",
       "  <thead>\n",
       "    <tr>\n",
       "      <th></th>\n",
       "      <th colspan=\"5\" halign=\"left\">AGG</th>\n",
       "      <th colspan=\"5\" halign=\"left\">SPY</th>\n",
       "    </tr>\n",
       "    <tr>\n",
       "      <th></th>\n",
       "      <th>open</th>\n",
       "      <th>high</th>\n",
       "      <th>low</th>\n",
       "      <th>close</th>\n",
       "      <th>volume</th>\n",
       "      <th>open</th>\n",
       "      <th>high</th>\n",
       "      <th>low</th>\n",
       "      <th>close</th>\n",
       "      <th>volume</th>\n",
       "    </tr>\n",
       "    <tr>\n",
       "      <th>time</th>\n",
       "      <th></th>\n",
       "      <th></th>\n",
       "      <th></th>\n",
       "      <th></th>\n",
       "      <th></th>\n",
       "      <th></th>\n",
       "      <th></th>\n",
       "      <th></th>\n",
       "      <th></th>\n",
       "      <th></th>\n",
       "    </tr>\n",
       "  </thead>\n",
       "  <tbody>\n",
       "    <tr>\n",
       "      <th>2017-07-24 00:00:00-04:00</th>\n",
       "      <td>109.84</td>\n",
       "      <td>109.9200</td>\n",
       "      <td>109.7600</td>\n",
       "      <td>109.810</td>\n",
       "      <td>1609935.0</td>\n",
       "      <td>NaN</td>\n",
       "      <td>NaN</td>\n",
       "      <td>NaN</td>\n",
       "      <td>NaN</td>\n",
       "      <td>NaN</td>\n",
       "    </tr>\n",
       "    <tr>\n",
       "      <th>2017-07-25 00:00:00-04:00</th>\n",
       "      <td>109.60</td>\n",
       "      <td>109.6300</td>\n",
       "      <td>109.3900</td>\n",
       "      <td>109.429</td>\n",
       "      <td>2031555.0</td>\n",
       "      <td>247.68</td>\n",
       "      <td>247.80</td>\n",
       "      <td>247.16</td>\n",
       "      <td>247.39</td>\n",
       "      <td>35678875.0</td>\n",
       "    </tr>\n",
       "    <tr>\n",
       "      <th>2017-07-26 00:00:00-04:00</th>\n",
       "      <td>109.37</td>\n",
       "      <td>109.7100</td>\n",
       "      <td>109.3500</td>\n",
       "      <td>109.630</td>\n",
       "      <td>1506702.0</td>\n",
       "      <td>247.75</td>\n",
       "      <td>247.79</td>\n",
       "      <td>247.13</td>\n",
       "      <td>247.45</td>\n",
       "      <td>34672798.0</td>\n",
       "    </tr>\n",
       "    <tr>\n",
       "      <th>2017-07-27 00:00:00-04:00</th>\n",
       "      <td>109.51</td>\n",
       "      <td>109.5868</td>\n",
       "      <td>109.4301</td>\n",
       "      <td>109.495</td>\n",
       "      <td>1646046.0</td>\n",
       "      <td>247.96</td>\n",
       "      <td>248.00</td>\n",
       "      <td>245.68</td>\n",
       "      <td>247.22</td>\n",
       "      <td>56602565.0</td>\n",
       "    </tr>\n",
       "    <tr>\n",
       "      <th>2017-07-28 00:00:00-04:00</th>\n",
       "      <td>109.54</td>\n",
       "      <td>109.7000</td>\n",
       "      <td>109.4900</td>\n",
       "      <td>109.695</td>\n",
       "      <td>1732483.0</td>\n",
       "      <td>246.65</td>\n",
       "      <td>247.06</td>\n",
       "      <td>246.13</td>\n",
       "      <td>246.90</td>\n",
       "      <td>36125701.0</td>\n",
       "    </tr>\n",
       "  </tbody>\n",
       "</table>\n",
       "</div>"
      ]
     },
     "metadata": {}
    },
    {
     "output_type": "display_data",
     "data": {
      "text/plain": [
       "                               AGG                                        \\\n",
       "                              open     high       low   close     volume   \n",
       "time                                                                       \n",
       "2021-07-08 00:00:00-04:00  116.040  116.180  115.9600  116.06  5685583.0   \n",
       "2021-07-09 00:00:00-04:00  115.735  115.760  115.6900  115.69  4602694.0   \n",
       "2021-07-12 00:00:00-04:00  115.800  115.805  115.6000  115.63  3184908.0   \n",
       "2021-07-13 00:00:00-04:00  115.650  115.760  115.3022  115.39  4698374.0   \n",
       "2021-07-14 00:00:00-04:00  115.590  115.760  115.5690  115.75  3907266.0   \n",
       "\n",
       "                              SPY                                       \n",
       "                             open    high      low   close      volume  \n",
       "time                                                                    \n",
       "2021-07-08 00:00:00-04:00  428.78  431.73  427.520  430.95  83417621.0  \n",
       "2021-07-09 00:00:00-04:00  432.53  435.84  430.714  435.48  59254094.0  \n",
       "2021-07-12 00:00:00-04:00  435.42  437.35  434.970  437.08  42031814.0  \n",
       "2021-07-13 00:00:00-04:00  436.26  437.84  435.310  435.62  45923305.0  \n",
       "2021-07-14 00:00:00-04:00  437.39  437.92  434.910  436.22  54445950.0  "
      ],
      "text/html": [
       "<div>\n",
       "<style scoped>\n",
       "    .dataframe tbody tr th:only-of-type {\n",
       "        vertical-align: middle;\n",
       "    }\n",
       "\n",
       "    .dataframe tbody tr th {\n",
       "        vertical-align: top;\n",
       "    }\n",
       "\n",
       "    .dataframe thead tr th {\n",
       "        text-align: left;\n",
       "    }\n",
       "\n",
       "    .dataframe thead tr:last-of-type th {\n",
       "        text-align: right;\n",
       "    }\n",
       "</style>\n",
       "<table border=\"1\" class=\"dataframe\">\n",
       "  <thead>\n",
       "    <tr>\n",
       "      <th></th>\n",
       "      <th colspan=\"5\" halign=\"left\">AGG</th>\n",
       "      <th colspan=\"5\" halign=\"left\">SPY</th>\n",
       "    </tr>\n",
       "    <tr>\n",
       "      <th></th>\n",
       "      <th>open</th>\n",
       "      <th>high</th>\n",
       "      <th>low</th>\n",
       "      <th>close</th>\n",
       "      <th>volume</th>\n",
       "      <th>open</th>\n",
       "      <th>high</th>\n",
       "      <th>low</th>\n",
       "      <th>close</th>\n",
       "      <th>volume</th>\n",
       "    </tr>\n",
       "    <tr>\n",
       "      <th>time</th>\n",
       "      <th></th>\n",
       "      <th></th>\n",
       "      <th></th>\n",
       "      <th></th>\n",
       "      <th></th>\n",
       "      <th></th>\n",
       "      <th></th>\n",
       "      <th></th>\n",
       "      <th></th>\n",
       "      <th></th>\n",
       "    </tr>\n",
       "  </thead>\n",
       "  <tbody>\n",
       "    <tr>\n",
       "      <th>2021-07-08 00:00:00-04:00</th>\n",
       "      <td>116.040</td>\n",
       "      <td>116.180</td>\n",
       "      <td>115.9600</td>\n",
       "      <td>116.06</td>\n",
       "      <td>5685583.0</td>\n",
       "      <td>428.78</td>\n",
       "      <td>431.73</td>\n",
       "      <td>427.520</td>\n",
       "      <td>430.95</td>\n",
       "      <td>83417621.0</td>\n",
       "    </tr>\n",
       "    <tr>\n",
       "      <th>2021-07-09 00:00:00-04:00</th>\n",
       "      <td>115.735</td>\n",
       "      <td>115.760</td>\n",
       "      <td>115.6900</td>\n",
       "      <td>115.69</td>\n",
       "      <td>4602694.0</td>\n",
       "      <td>432.53</td>\n",
       "      <td>435.84</td>\n",
       "      <td>430.714</td>\n",
       "      <td>435.48</td>\n",
       "      <td>59254094.0</td>\n",
       "    </tr>\n",
       "    <tr>\n",
       "      <th>2021-07-12 00:00:00-04:00</th>\n",
       "      <td>115.800</td>\n",
       "      <td>115.805</td>\n",
       "      <td>115.6000</td>\n",
       "      <td>115.63</td>\n",
       "      <td>3184908.0</td>\n",
       "      <td>435.42</td>\n",
       "      <td>437.35</td>\n",
       "      <td>434.970</td>\n",
       "      <td>437.08</td>\n",
       "      <td>42031814.0</td>\n",
       "    </tr>\n",
       "    <tr>\n",
       "      <th>2021-07-13 00:00:00-04:00</th>\n",
       "      <td>115.650</td>\n",
       "      <td>115.760</td>\n",
       "      <td>115.3022</td>\n",
       "      <td>115.39</td>\n",
       "      <td>4698374.0</td>\n",
       "      <td>436.26</td>\n",
       "      <td>437.84</td>\n",
       "      <td>435.310</td>\n",
       "      <td>435.62</td>\n",
       "      <td>45923305.0</td>\n",
       "    </tr>\n",
       "    <tr>\n",
       "      <th>2021-07-14 00:00:00-04:00</th>\n",
       "      <td>115.590</td>\n",
       "      <td>115.760</td>\n",
       "      <td>115.5690</td>\n",
       "      <td>115.75</td>\n",
       "      <td>3907266.0</td>\n",
       "      <td>437.39</td>\n",
       "      <td>437.92</td>\n",
       "      <td>434.910</td>\n",
       "      <td>436.22</td>\n",
       "      <td>54445950.0</td>\n",
       "    </tr>\n",
       "  </tbody>\n",
       "</table>\n",
       "</div>"
      ]
     },
     "metadata": {}
    }
   ],
   "metadata": {}
  },
  {
   "cell_type": "markdown",
   "source": [
    "#### Step 2: Run a Monte Carlo simulation of 500 samples and 30 years for the 60/40 portfolio, and then plot the results."
   ],
   "metadata": {}
  },
  {
   "cell_type": "code",
   "execution_count": 152,
   "source": [
    "# Configure the Monte Carlo simulation to forecast 30 years cumulative returns\r\n",
    "# The weights should be split 40% to AGG and 60% to SPY.\r\n",
    "# Run 500 samples.\r\n",
    "num_sims = 500\r\n",
    "\r\n",
    "# Review the simulation input data\r\n",
    "thirty_year_simulation = MCSimulation(\r\n",
    "    portfolio_data=stock_and_bond_portfolio,\r\n",
    "    weights=[0.60, 0.40],\r\n",
    "    num_simulation=num_sims,\r\n",
    "    num_trading_days=252*30\r\n",
    ")"
   ],
   "outputs": [],
   "metadata": {}
  },
  {
   "cell_type": "code",
   "execution_count": 153,
   "source": [
    "# Run the Monte Carlo simulation to forecast 30 years cumulative returns\r\n",
    "thirty_year_simulation.calc_cumulative_return()\r\n"
   ],
   "outputs": [
    {
     "output_type": "stream",
     "name": "stdout",
     "text": [
      "Running Monte Carlo simulation number 0.\n",
      "Running Monte Carlo simulation number 10.\n",
      "Running Monte Carlo simulation number 20.\n",
      "Running Monte Carlo simulation number 30.\n",
      "Running Monte Carlo simulation number 40.\n",
      "Running Monte Carlo simulation number 50.\n",
      "Running Monte Carlo simulation number 60.\n",
      "Running Monte Carlo simulation number 70.\n",
      "Running Monte Carlo simulation number 80.\n",
      "Running Monte Carlo simulation number 90.\n",
      "Running Monte Carlo simulation number 100.\n",
      "Running Monte Carlo simulation number 110.\n",
      "Running Monte Carlo simulation number 120.\n",
      "Running Monte Carlo simulation number 130.\n",
      "Running Monte Carlo simulation number 140.\n",
      "Running Monte Carlo simulation number 150.\n",
      "Running Monte Carlo simulation number 160.\n",
      "Running Monte Carlo simulation number 170.\n",
      "Running Monte Carlo simulation number 180.\n",
      "Running Monte Carlo simulation number 190.\n",
      "Running Monte Carlo simulation number 200.\n",
      "Running Monte Carlo simulation number 210.\n",
      "Running Monte Carlo simulation number 220.\n",
      "Running Monte Carlo simulation number 230.\n",
      "Running Monte Carlo simulation number 240.\n",
      "Running Monte Carlo simulation number 250.\n",
      "Running Monte Carlo simulation number 260.\n",
      "Running Monte Carlo simulation number 270.\n",
      "Running Monte Carlo simulation number 280.\n",
      "Running Monte Carlo simulation number 290.\n",
      "Running Monte Carlo simulation number 300.\n",
      "Running Monte Carlo simulation number 310.\n",
      "Running Monte Carlo simulation number 320.\n",
      "Running Monte Carlo simulation number 330.\n",
      "Running Monte Carlo simulation number 340.\n",
      "Running Monte Carlo simulation number 350.\n",
      "Running Monte Carlo simulation number 360.\n",
      "Running Monte Carlo simulation number 370.\n",
      "Running Monte Carlo simulation number 380.\n",
      "Running Monte Carlo simulation number 390.\n",
      "Running Monte Carlo simulation number 400.\n",
      "Running Monte Carlo simulation number 410.\n",
      "Running Monte Carlo simulation number 420.\n",
      "Running Monte Carlo simulation number 430.\n",
      "Running Monte Carlo simulation number 440.\n",
      "Running Monte Carlo simulation number 450.\n",
      "Running Monte Carlo simulation number 460.\n",
      "Running Monte Carlo simulation number 470.\n",
      "Running Monte Carlo simulation number 480.\n",
      "Running Monte Carlo simulation number 490.\n"
     ]
    },
    {
     "output_type": "execute_result",
     "data": {
      "text/plain": [
       "           0          1          2         3         4          5         6    \\\n",
       "0     1.000000   1.000000   1.000000  1.000000  1.000000   1.000000  1.000000   \n",
       "1     0.991321   1.014627   0.999658  1.007116  1.011536   1.006025  1.000378   \n",
       "2     0.995136   1.014877   1.004372  1.003802  1.012574   1.004152  1.001659   \n",
       "3     0.997631   1.014907   1.000731  1.009167  1.015727   1.003047  1.010944   \n",
       "4     1.007222   1.016700   0.999689  0.992800  1.008259   1.015724  1.014809   \n",
       "...        ...        ...        ...       ...       ...        ...       ...   \n",
       "7556  7.299802  17.123774  10.262900  5.242054  7.191718  10.743784  4.196258   \n",
       "7557  7.283786  17.142226  10.307441  5.219151  7.266177  10.707228  4.219509   \n",
       "7558  7.252539  17.167770  10.294108  5.213562  7.278574  10.706450  4.216085   \n",
       "7559  7.263502  17.100956  10.337250  5.202227  7.351972  10.774928  4.198931   \n",
       "7560  7.311394  17.157018  10.405839  5.223478  7.369043  10.652833  4.180591   \n",
       "\n",
       "           7         8         9    ...       490        491        492  \\\n",
       "0     1.000000  1.000000  1.000000  ...  1.000000   1.000000   1.000000   \n",
       "1     1.006546  1.001756  1.000435  ...  1.008464   0.995886   1.000368   \n",
       "2     1.007766  1.008753  1.010048  ...  1.000152   0.994298   1.004077   \n",
       "3     1.003645  1.001290  1.004445  ...  1.002903   0.999751   0.998550   \n",
       "4     1.003405  0.994285  1.010514  ...  1.007784   0.993252   1.000916   \n",
       "...        ...       ...       ...  ...       ...        ...        ...   \n",
       "7556  6.286057  8.875459  6.086857  ...  9.200652  23.449381  11.100419   \n",
       "7557  6.350067  8.902345  6.035014  ...  9.149653  23.322543  11.143393   \n",
       "7558  6.334580  8.868675  6.007055  ...  9.056478  23.234776  11.159379   \n",
       "7559  6.337064  8.801921  5.999583  ...  9.053327  23.223212  11.140361   \n",
       "7560  6.398180  8.748797  6.020164  ...  9.061621  22.995525  11.199837   \n",
       "\n",
       "           493        494       495        496       497        498       499  \n",
       "0     1.000000   1.000000  1.000000   1.000000  1.000000   1.000000  1.000000  \n",
       "1     1.005669   1.003824  0.995017   1.006748  0.995549   0.999242  1.005304  \n",
       "2     1.001230   1.006935  0.992554   1.001430  0.997401   0.996783  1.001317  \n",
       "3     0.995194   1.009487  0.988853   1.005908  0.992942   0.994524  1.004609  \n",
       "4     0.997713   1.004738  0.986977   1.007419  0.984132   0.994966  1.005350  \n",
       "...        ...        ...       ...        ...       ...        ...       ...  \n",
       "7556  6.760620  18.724419  3.385283  18.833609  6.877337  11.197284  7.863928  \n",
       "7557  6.775783  18.805926  3.378581  18.686486  6.872046  11.048535  7.878217  \n",
       "7558  6.804748  18.926517  3.396913  18.628979  6.852295  10.977180  7.898191  \n",
       "7559  6.800767  19.054440  3.398539  18.679683  6.836917  10.874148  7.814392  \n",
       "7560  6.846138  19.086449  3.391128  18.735951  6.850370  10.878941  7.767869  \n",
       "\n",
       "[7561 rows x 500 columns]"
      ],
      "text/html": [
       "<div>\n",
       "<style scoped>\n",
       "    .dataframe tbody tr th:only-of-type {\n",
       "        vertical-align: middle;\n",
       "    }\n",
       "\n",
       "    .dataframe tbody tr th {\n",
       "        vertical-align: top;\n",
       "    }\n",
       "\n",
       "    .dataframe thead th {\n",
       "        text-align: right;\n",
       "    }\n",
       "</style>\n",
       "<table border=\"1\" class=\"dataframe\">\n",
       "  <thead>\n",
       "    <tr style=\"text-align: right;\">\n",
       "      <th></th>\n",
       "      <th>0</th>\n",
       "      <th>1</th>\n",
       "      <th>2</th>\n",
       "      <th>3</th>\n",
       "      <th>4</th>\n",
       "      <th>5</th>\n",
       "      <th>6</th>\n",
       "      <th>7</th>\n",
       "      <th>8</th>\n",
       "      <th>9</th>\n",
       "      <th>...</th>\n",
       "      <th>490</th>\n",
       "      <th>491</th>\n",
       "      <th>492</th>\n",
       "      <th>493</th>\n",
       "      <th>494</th>\n",
       "      <th>495</th>\n",
       "      <th>496</th>\n",
       "      <th>497</th>\n",
       "      <th>498</th>\n",
       "      <th>499</th>\n",
       "    </tr>\n",
       "  </thead>\n",
       "  <tbody>\n",
       "    <tr>\n",
       "      <th>0</th>\n",
       "      <td>1.000000</td>\n",
       "      <td>1.000000</td>\n",
       "      <td>1.000000</td>\n",
       "      <td>1.000000</td>\n",
       "      <td>1.000000</td>\n",
       "      <td>1.000000</td>\n",
       "      <td>1.000000</td>\n",
       "      <td>1.000000</td>\n",
       "      <td>1.000000</td>\n",
       "      <td>1.000000</td>\n",
       "      <td>...</td>\n",
       "      <td>1.000000</td>\n",
       "      <td>1.000000</td>\n",
       "      <td>1.000000</td>\n",
       "      <td>1.000000</td>\n",
       "      <td>1.000000</td>\n",
       "      <td>1.000000</td>\n",
       "      <td>1.000000</td>\n",
       "      <td>1.000000</td>\n",
       "      <td>1.000000</td>\n",
       "      <td>1.000000</td>\n",
       "    </tr>\n",
       "    <tr>\n",
       "      <th>1</th>\n",
       "      <td>0.991321</td>\n",
       "      <td>1.014627</td>\n",
       "      <td>0.999658</td>\n",
       "      <td>1.007116</td>\n",
       "      <td>1.011536</td>\n",
       "      <td>1.006025</td>\n",
       "      <td>1.000378</td>\n",
       "      <td>1.006546</td>\n",
       "      <td>1.001756</td>\n",
       "      <td>1.000435</td>\n",
       "      <td>...</td>\n",
       "      <td>1.008464</td>\n",
       "      <td>0.995886</td>\n",
       "      <td>1.000368</td>\n",
       "      <td>1.005669</td>\n",
       "      <td>1.003824</td>\n",
       "      <td>0.995017</td>\n",
       "      <td>1.006748</td>\n",
       "      <td>0.995549</td>\n",
       "      <td>0.999242</td>\n",
       "      <td>1.005304</td>\n",
       "    </tr>\n",
       "    <tr>\n",
       "      <th>2</th>\n",
       "      <td>0.995136</td>\n",
       "      <td>1.014877</td>\n",
       "      <td>1.004372</td>\n",
       "      <td>1.003802</td>\n",
       "      <td>1.012574</td>\n",
       "      <td>1.004152</td>\n",
       "      <td>1.001659</td>\n",
       "      <td>1.007766</td>\n",
       "      <td>1.008753</td>\n",
       "      <td>1.010048</td>\n",
       "      <td>...</td>\n",
       "      <td>1.000152</td>\n",
       "      <td>0.994298</td>\n",
       "      <td>1.004077</td>\n",
       "      <td>1.001230</td>\n",
       "      <td>1.006935</td>\n",
       "      <td>0.992554</td>\n",
       "      <td>1.001430</td>\n",
       "      <td>0.997401</td>\n",
       "      <td>0.996783</td>\n",
       "      <td>1.001317</td>\n",
       "    </tr>\n",
       "    <tr>\n",
       "      <th>3</th>\n",
       "      <td>0.997631</td>\n",
       "      <td>1.014907</td>\n",
       "      <td>1.000731</td>\n",
       "      <td>1.009167</td>\n",
       "      <td>1.015727</td>\n",
       "      <td>1.003047</td>\n",
       "      <td>1.010944</td>\n",
       "      <td>1.003645</td>\n",
       "      <td>1.001290</td>\n",
       "      <td>1.004445</td>\n",
       "      <td>...</td>\n",
       "      <td>1.002903</td>\n",
       "      <td>0.999751</td>\n",
       "      <td>0.998550</td>\n",
       "      <td>0.995194</td>\n",
       "      <td>1.009487</td>\n",
       "      <td>0.988853</td>\n",
       "      <td>1.005908</td>\n",
       "      <td>0.992942</td>\n",
       "      <td>0.994524</td>\n",
       "      <td>1.004609</td>\n",
       "    </tr>\n",
       "    <tr>\n",
       "      <th>4</th>\n",
       "      <td>1.007222</td>\n",
       "      <td>1.016700</td>\n",
       "      <td>0.999689</td>\n",
       "      <td>0.992800</td>\n",
       "      <td>1.008259</td>\n",
       "      <td>1.015724</td>\n",
       "      <td>1.014809</td>\n",
       "      <td>1.003405</td>\n",
       "      <td>0.994285</td>\n",
       "      <td>1.010514</td>\n",
       "      <td>...</td>\n",
       "      <td>1.007784</td>\n",
       "      <td>0.993252</td>\n",
       "      <td>1.000916</td>\n",
       "      <td>0.997713</td>\n",
       "      <td>1.004738</td>\n",
       "      <td>0.986977</td>\n",
       "      <td>1.007419</td>\n",
       "      <td>0.984132</td>\n",
       "      <td>0.994966</td>\n",
       "      <td>1.005350</td>\n",
       "    </tr>\n",
       "    <tr>\n",
       "      <th>...</th>\n",
       "      <td>...</td>\n",
       "      <td>...</td>\n",
       "      <td>...</td>\n",
       "      <td>...</td>\n",
       "      <td>...</td>\n",
       "      <td>...</td>\n",
       "      <td>...</td>\n",
       "      <td>...</td>\n",
       "      <td>...</td>\n",
       "      <td>...</td>\n",
       "      <td>...</td>\n",
       "      <td>...</td>\n",
       "      <td>...</td>\n",
       "      <td>...</td>\n",
       "      <td>...</td>\n",
       "      <td>...</td>\n",
       "      <td>...</td>\n",
       "      <td>...</td>\n",
       "      <td>...</td>\n",
       "      <td>...</td>\n",
       "      <td>...</td>\n",
       "    </tr>\n",
       "    <tr>\n",
       "      <th>7556</th>\n",
       "      <td>7.299802</td>\n",
       "      <td>17.123774</td>\n",
       "      <td>10.262900</td>\n",
       "      <td>5.242054</td>\n",
       "      <td>7.191718</td>\n",
       "      <td>10.743784</td>\n",
       "      <td>4.196258</td>\n",
       "      <td>6.286057</td>\n",
       "      <td>8.875459</td>\n",
       "      <td>6.086857</td>\n",
       "      <td>...</td>\n",
       "      <td>9.200652</td>\n",
       "      <td>23.449381</td>\n",
       "      <td>11.100419</td>\n",
       "      <td>6.760620</td>\n",
       "      <td>18.724419</td>\n",
       "      <td>3.385283</td>\n",
       "      <td>18.833609</td>\n",
       "      <td>6.877337</td>\n",
       "      <td>11.197284</td>\n",
       "      <td>7.863928</td>\n",
       "    </tr>\n",
       "    <tr>\n",
       "      <th>7557</th>\n",
       "      <td>7.283786</td>\n",
       "      <td>17.142226</td>\n",
       "      <td>10.307441</td>\n",
       "      <td>5.219151</td>\n",
       "      <td>7.266177</td>\n",
       "      <td>10.707228</td>\n",
       "      <td>4.219509</td>\n",
       "      <td>6.350067</td>\n",
       "      <td>8.902345</td>\n",
       "      <td>6.035014</td>\n",
       "      <td>...</td>\n",
       "      <td>9.149653</td>\n",
       "      <td>23.322543</td>\n",
       "      <td>11.143393</td>\n",
       "      <td>6.775783</td>\n",
       "      <td>18.805926</td>\n",
       "      <td>3.378581</td>\n",
       "      <td>18.686486</td>\n",
       "      <td>6.872046</td>\n",
       "      <td>11.048535</td>\n",
       "      <td>7.878217</td>\n",
       "    </tr>\n",
       "    <tr>\n",
       "      <th>7558</th>\n",
       "      <td>7.252539</td>\n",
       "      <td>17.167770</td>\n",
       "      <td>10.294108</td>\n",
       "      <td>5.213562</td>\n",
       "      <td>7.278574</td>\n",
       "      <td>10.706450</td>\n",
       "      <td>4.216085</td>\n",
       "      <td>6.334580</td>\n",
       "      <td>8.868675</td>\n",
       "      <td>6.007055</td>\n",
       "      <td>...</td>\n",
       "      <td>9.056478</td>\n",
       "      <td>23.234776</td>\n",
       "      <td>11.159379</td>\n",
       "      <td>6.804748</td>\n",
       "      <td>18.926517</td>\n",
       "      <td>3.396913</td>\n",
       "      <td>18.628979</td>\n",
       "      <td>6.852295</td>\n",
       "      <td>10.977180</td>\n",
       "      <td>7.898191</td>\n",
       "    </tr>\n",
       "    <tr>\n",
       "      <th>7559</th>\n",
       "      <td>7.263502</td>\n",
       "      <td>17.100956</td>\n",
       "      <td>10.337250</td>\n",
       "      <td>5.202227</td>\n",
       "      <td>7.351972</td>\n",
       "      <td>10.774928</td>\n",
       "      <td>4.198931</td>\n",
       "      <td>6.337064</td>\n",
       "      <td>8.801921</td>\n",
       "      <td>5.999583</td>\n",
       "      <td>...</td>\n",
       "      <td>9.053327</td>\n",
       "      <td>23.223212</td>\n",
       "      <td>11.140361</td>\n",
       "      <td>6.800767</td>\n",
       "      <td>19.054440</td>\n",
       "      <td>3.398539</td>\n",
       "      <td>18.679683</td>\n",
       "      <td>6.836917</td>\n",
       "      <td>10.874148</td>\n",
       "      <td>7.814392</td>\n",
       "    </tr>\n",
       "    <tr>\n",
       "      <th>7560</th>\n",
       "      <td>7.311394</td>\n",
       "      <td>17.157018</td>\n",
       "      <td>10.405839</td>\n",
       "      <td>5.223478</td>\n",
       "      <td>7.369043</td>\n",
       "      <td>10.652833</td>\n",
       "      <td>4.180591</td>\n",
       "      <td>6.398180</td>\n",
       "      <td>8.748797</td>\n",
       "      <td>6.020164</td>\n",
       "      <td>...</td>\n",
       "      <td>9.061621</td>\n",
       "      <td>22.995525</td>\n",
       "      <td>11.199837</td>\n",
       "      <td>6.846138</td>\n",
       "      <td>19.086449</td>\n",
       "      <td>3.391128</td>\n",
       "      <td>18.735951</td>\n",
       "      <td>6.850370</td>\n",
       "      <td>10.878941</td>\n",
       "      <td>7.767869</td>\n",
       "    </tr>\n",
       "  </tbody>\n",
       "</table>\n",
       "<p>7561 rows × 500 columns</p>\n",
       "</div>"
      ]
     },
     "metadata": {},
     "execution_count": 153
    }
   ],
   "metadata": {}
  },
  {
   "cell_type": "code",
   "execution_count": 154,
   "source": [
    "# Visualize the 30-year Monte Carlo simulation by creating an\r\n",
    "# overlay line plot\r\n",
    "line_plot_1 = thirty_year_simulation.plot_simulation()"
   ],
   "outputs": [
    {
     "output_type": "display_data",
     "data": {
      "text/plain": [
       "<Figure size 432x288 with 1 Axes>"
      ],
      "image/png": "[encoded data removed]"
     },
     "metadata": {
      "needs_background": "light"
     }
    }
   ],
   "metadata": {}
  },
  {
   "cell_type": "markdown",
   "source": [
    "#### Step 3: Plot the probability distribution of the Monte Carlo simulation."
   ],
   "metadata": {}
  },
  {
   "cell_type": "code",
   "execution_count": 156,
   "source": [
    "# Visualize the probability distribution of the 30-year Monte Carlo simulation \r\n",
    "# by plotting a histogram\r\n",
    "thirty_year_simulation.plot_distribution()"
   ],
   "outputs": [
    {
     "output_type": "execute_result",
     "data": {
      "text/plain": [
       "<AxesSubplot:title={'center':'Distribution of Final Cumuluative Returns Across All 500 Simulations'}, ylabel='Frequency'>"
      ]
     },
     "metadata": {},
     "execution_count": 156
    },
    {
     "output_type": "display_data",
     "data": {
      "text/plain": [
       "<Figure size 432x288 with 1 Axes>"
      ],
      "image/png": "[encoded data removed]"
     },
     "metadata": {
      "needs_background": "light"
     }
    }
   ],
   "metadata": {}
  },
  {
   "cell_type": "markdown",
   "source": [
    "#### Step 4: Generate the summary statistics for the Monte Carlo simulation."
   ],
   "metadata": {}
  },
  {
   "cell_type": "code",
   "execution_count": 157,
   "source": [
    "# Generate summary statistics from the 30-year Monte Carlo simulation results\r\n",
    "# Save the results as a variable\r\n",
    "thirty_year_simulation_summary_stats = thirty_year_simulation.summarize_cumulative_return()\r\n",
    "\r\n",
    "# Review the 30-year Monte Carlo summary statistics\r\n",
    "print(thirty_year_simulation_summary_stats)"
   ],
   "outputs": [
    {
     "output_type": "stream",
     "name": "stdout",
     "text": [
      "count           500.000000\n",
      "mean              9.563770\n",
      "std               5.007064\n",
      "min               1.763904\n",
      "25%               6.202338\n",
      "50%               8.612731\n",
      "75%              11.471988\n",
      "max              47.545532\n",
      "95% CI Lower      3.358497\n",
      "95% CI Upper     22.362161\n",
      "Name: 7560, dtype: float64\n"
     ]
    }
   ],
   "metadata": {}
  },
  {
   "cell_type": "markdown",
   "source": [
    "### Analyze the Retirement Portfolio Forecasts\n",
    "\n",
    "Using the current value of only the stock and bond portion of the member's portfolio and the summary statistics that you generated from the Monte Carlo simulation, answer the following question in your Jupyter notebook:\n",
    "\n",
    "-  What are the lower and upper bounds for the expected value of the portfolio with a 95% confidence interval?\n"
   ],
   "metadata": {}
  },
  {
   "cell_type": "code",
   "execution_count": 158,
   "source": [
    "# Print the current balance of the stock and bond portion of the members portfolio\r\n",
    "print(total_stocks_bonds)\r\n"
   ],
   "outputs": [
    {
     "output_type": "stream",
     "name": "stdout",
     "text": [
      "71134.20000000001\n"
     ]
    }
   ],
   "metadata": {}
  },
  {
   "cell_type": "code",
   "execution_count": 162,
   "source": [
    "# Use the lower and upper `95%` confidence intervals to calculate the range of the possible outcomes for the current stock/bond portfolio\r\n",
    "ci_lower_thirty_cumulative_return = round(thirty_year_simulation_summary_stats[8],2)\r\n",
    "ci_upper_thirty_cumulative_return = round(thirty_year_simulation_summary_stats[9],2)\r\n",
    "\r\n",
    "# Print the result of your calculations\r\n",
    "display(ci_lower_thirty_cumulative_return)\r\n",
    "display(ci_upper_thirty_cumulative_return)\r\n"
   ],
   "outputs": [
    {
     "output_type": "display_data",
     "data": {
      "text/plain": [
       "3.36"
      ]
     },
     "metadata": {}
    },
    {
     "output_type": "display_data",
     "data": {
      "text/plain": [
       "22.36"
      ]
     },
     "metadata": {}
    }
   ],
   "metadata": {}
  },
  {
   "cell_type": "markdown",
   "source": [
    "### Forecast Cumulative Returns in 10 Years\n",
    "\n",
    "The CTO of the credit union is impressed with your work on these planning tools but wonders if 30 years is a long time to wait until retirement. So, your next task is to adjust the retirement portfolio and run a new Monte Carlo simulation to find out if the changes will allow members to retire earlier.\n",
    "\n",
    "For this new Monte Carlo simulation, do the following: \n",
    "\n",
    "- Forecast the cumulative returns for 10 years from now. Because of the shortened investment horizon (30 years to 10 years), the portfolio needs to invest more heavily in the riskier asset&mdash;that is, stock&mdash;to help accumulate wealth for retirement. \n",
    "\n",
    "- Adjust the weights of the retirement portfolio so that the composition for the Monte Carlo simulation consists of 20% bonds and 80% stocks. \n",
    "\n",
    "- Run the simulation over 500 samples, and use the same data that the API call to Alpaca generated.\n",
    "\n",
    "- Based on the new Monte Carlo simulation, answer the following questions in your Jupyter notebook:\n",
    "\n",
    "    - Using the current value of only the stock and bond portion of the member's portfolio and the summary statistics that you generated from the new Monte Carlo simulation, what are the lower and upper bounds for the expected value of the portfolio (with the new weights) with a 95% confidence interval?\n",
    "\n",
    "    - Will weighting the portfolio more heavily toward stocks allow the credit union members to retire after only 10 years?\n"
   ],
   "metadata": {}
  },
  {
   "cell_type": "code",
   "execution_count": 164,
   "source": [
    "# Configure a Monte Carlo simulation to forecast 10 years cumulative returns\r\n",
    "# The weights should be split 20% to AGG and 80% to SPY.\r\n",
    "# Run 500 samples.\r\n",
    "ten_year_simulation = MCSimulation(\r\n",
    "    portfolio_data=stock_and_bond_portfolio,\r\n",
    "    weights=[0.80, 0.20],\r\n",
    "    num_simulation=num_sims,\r\n",
    "    num_trading_days=252*10\r\n",
    ")\r\n",
    "\r\n",
    "\r\n",
    "# Review the simulation input data\r\n",
    "# Run the Monte Carlo simulation to forecast 10 years cumulative returns\r\n",
    "ten_year_simulation.calc_cumulative_return()\r\n"
   ],
   "outputs": [
    {
     "output_type": "stream",
     "name": "stdout",
     "text": [
      "Running Monte Carlo simulation number 0.\n",
      "Running Monte Carlo simulation number 10.\n",
      "Running Monte Carlo simulation number 20.\n",
      "Running Monte Carlo simulation number 30.\n",
      "Running Monte Carlo simulation number 40.\n",
      "Running Monte Carlo simulation number 50.\n",
      "Running Monte Carlo simulation number 60.\n",
      "Running Monte Carlo simulation number 70.\n",
      "Running Monte Carlo simulation number 80.\n",
      "Running Monte Carlo simulation number 90.\n",
      "Running Monte Carlo simulation number 100.\n",
      "Running Monte Carlo simulation number 110.\n",
      "Running Monte Carlo simulation number 120.\n",
      "Running Monte Carlo simulation number 130.\n",
      "Running Monte Carlo simulation number 140.\n",
      "Running Monte Carlo simulation number 150.\n",
      "Running Monte Carlo simulation number 160.\n",
      "Running Monte Carlo simulation number 170.\n",
      "Running Monte Carlo simulation number 180.\n",
      "Running Monte Carlo simulation number 190.\n",
      "Running Monte Carlo simulation number 200.\n",
      "Running Monte Carlo simulation number 210.\n",
      "Running Monte Carlo simulation number 220.\n",
      "Running Monte Carlo simulation number 230.\n",
      "Running Monte Carlo simulation number 240.\n",
      "Running Monte Carlo simulation number 250.\n",
      "Running Monte Carlo simulation number 260.\n",
      "Running Monte Carlo simulation number 270.\n",
      "Running Monte Carlo simulation number 280.\n",
      "Running Monte Carlo simulation number 290.\n",
      "Running Monte Carlo simulation number 300.\n",
      "Running Monte Carlo simulation number 310.\n",
      "Running Monte Carlo simulation number 320.\n",
      "Running Monte Carlo simulation number 330.\n",
      "Running Monte Carlo simulation number 340.\n",
      "Running Monte Carlo simulation number 350.\n",
      "Running Monte Carlo simulation number 360.\n",
      "Running Monte Carlo simulation number 370.\n",
      "Running Monte Carlo simulation number 380.\n",
      "Running Monte Carlo simulation number 390.\n",
      "Running Monte Carlo simulation number 400.\n",
      "Running Monte Carlo simulation number 410.\n",
      "Running Monte Carlo simulation number 420.\n",
      "Running Monte Carlo simulation number 430.\n",
      "Running Monte Carlo simulation number 440.\n",
      "Running Monte Carlo simulation number 450.\n",
      "Running Monte Carlo simulation number 460.\n",
      "Running Monte Carlo simulation number 470.\n",
      "Running Monte Carlo simulation number 480.\n",
      "Running Monte Carlo simulation number 490.\n"
     ]
    },
    {
     "output_type": "execute_result",
     "data": {
      "text/plain": [
       "           0         1         2         3         4         5         6    \\\n",
       "0     1.000000  1.000000  1.000000  1.000000  1.000000  1.000000  1.000000   \n",
       "1     1.002485  0.999368  1.000210  1.001609  0.996644  1.002837  1.002960   \n",
       "2     1.000388  0.997572  1.000259  0.998079  0.992467  1.000426  1.003937   \n",
       "3     0.998371  1.001567  1.002461  0.998482  0.991823  0.999763  1.004788   \n",
       "4     0.997579  1.001915  1.005174  1.003898  0.988270  0.998427  0.998213   \n",
       "...        ...       ...       ...       ...       ...       ...       ...   \n",
       "2516  1.281783  1.629176  1.243288  1.975570  1.864577  1.569056  1.215229   \n",
       "2517  1.285815  1.620267  1.242759  1.959497  1.868923  1.567866  1.220230   \n",
       "2518  1.289804  1.616655  1.234441  1.983494  1.869562  1.561860  1.218623   \n",
       "2519  1.285328  1.620375  1.231313  1.975213  1.877360  1.558530  1.218036   \n",
       "2520  1.289336  1.616057  1.222912  1.961569  1.870199  1.564623  1.226749   \n",
       "\n",
       "           7         8         9    ...       490       491       492  \\\n",
       "0     1.000000  1.000000  1.000000  ...  1.000000  1.000000  1.000000   \n",
       "1     0.996723  0.994668  1.004252  ...  1.002304  1.004622  0.997404   \n",
       "2     0.992726  0.994163  1.002387  ...  1.010328  1.007339  0.998906   \n",
       "3     0.985120  0.997447  1.001373  ...  1.011300  1.008482  0.998243   \n",
       "4     0.985471  0.997748  1.003694  ...  1.010794  1.007066  1.001868   \n",
       "...        ...       ...       ...  ...       ...       ...       ...   \n",
       "2516  1.316789  1.579050  1.606401  ...  1.566901  1.178166  1.975440   \n",
       "2517  1.313788  1.578772  1.605888  ...  1.565787  1.178577  1.977194   \n",
       "2518  1.308094  1.570830  1.602532  ...  1.576344  1.178951  1.981881   \n",
       "2519  1.309572  1.573098  1.609655  ...  1.578223  1.185744  1.977043   \n",
       "2520  1.311384  1.579016  1.608227  ...  1.569919  1.184125  1.974548   \n",
       "\n",
       "           493       494       495       496       497       498       499  \n",
       "0     1.000000  1.000000  1.000000  1.000000  1.000000  1.000000  1.000000  \n",
       "1     1.003371  0.992882  0.999513  1.000825  0.999881  1.005187  0.998621  \n",
       "2     1.006486  0.992013  0.996567  1.000218  1.002674  1.005752  1.002639  \n",
       "3     1.005338  0.995651  1.000277  0.997681  1.002317  1.006864  1.001443  \n",
       "4     1.002298  0.999641  0.998944  0.998934  1.001332  1.001450  1.005520  \n",
       "...        ...       ...       ...       ...       ...       ...       ...  \n",
       "2516  1.503531  1.442935  1.697619  2.345138  1.351211  1.813572  1.323134  \n",
       "2517  1.503342  1.439991  1.690618  2.351113  1.361002  1.808974  1.319623  \n",
       "2518  1.506078  1.454924  1.695043  2.355227  1.371005  1.821232  1.320457  \n",
       "2519  1.511816  1.456931  1.695354  2.358420  1.374898  1.807597  1.327819  \n",
       "2520  1.510127  1.460269  1.694809  2.366351  1.384001  1.797399  1.321265  \n",
       "\n",
       "[2521 rows x 500 columns]"
      ],
      "text/html": [
       "<div>\n",
       "<style scoped>\n",
       "    .dataframe tbody tr th:only-of-type {\n",
       "        vertical-align: middle;\n",
       "    }\n",
       "\n",
       "    .dataframe tbody tr th {\n",
       "        vertical-align: top;\n",
       "    }\n",
       "\n",
       "    .dataframe thead th {\n",
       "        text-align: right;\n",
       "    }\n",
       "</style>\n",
       "<table border=\"1\" class=\"dataframe\">\n",
       "  <thead>\n",
       "    <tr style=\"text-align: right;\">\n",
       "      <th></th>\n",
       "      <th>0</th>\n",
       "      <th>1</th>\n",
       "      <th>2</th>\n",
       "      <th>3</th>\n",
       "      <th>4</th>\n",
       "      <th>5</th>\n",
       "      <th>6</th>\n",
       "      <th>7</th>\n",
       "      <th>8</th>\n",
       "      <th>9</th>\n",
       "      <th>...</th>\n",
       "      <th>490</th>\n",
       "      <th>491</th>\n",
       "      <th>492</th>\n",
       "      <th>493</th>\n",
       "      <th>494</th>\n",
       "      <th>495</th>\n",
       "      <th>496</th>\n",
       "      <th>497</th>\n",
       "      <th>498</th>\n",
       "      <th>499</th>\n",
       "    </tr>\n",
       "  </thead>\n",
       "  <tbody>\n",
       "    <tr>\n",
       "      <th>0</th>\n",
       "      <td>1.000000</td>\n",
       "      <td>1.000000</td>\n",
       "      <td>1.000000</td>\n",
       "      <td>1.000000</td>\n",
       "      <td>1.000000</td>\n",
       "      <td>1.000000</td>\n",
       "      <td>1.000000</td>\n",
       "      <td>1.000000</td>\n",
       "      <td>1.000000</td>\n",
       "      <td>1.000000</td>\n",
       "      <td>...</td>\n",
       "      <td>1.000000</td>\n",
       "      <td>1.000000</td>\n",
       "      <td>1.000000</td>\n",
       "      <td>1.000000</td>\n",
       "      <td>1.000000</td>\n",
       "      <td>1.000000</td>\n",
       "      <td>1.000000</td>\n",
       "      <td>1.000000</td>\n",
       "      <td>1.000000</td>\n",
       "      <td>1.000000</td>\n",
       "    </tr>\n",
       "    <tr>\n",
       "      <th>1</th>\n",
       "      <td>1.002485</td>\n",
       "      <td>0.999368</td>\n",
       "      <td>1.000210</td>\n",
       "      <td>1.001609</td>\n",
       "      <td>0.996644</td>\n",
       "      <td>1.002837</td>\n",
       "      <td>1.002960</td>\n",
       "      <td>0.996723</td>\n",
       "      <td>0.994668</td>\n",
       "      <td>1.004252</td>\n",
       "      <td>...</td>\n",
       "      <td>1.002304</td>\n",
       "      <td>1.004622</td>\n",
       "      <td>0.997404</td>\n",
       "      <td>1.003371</td>\n",
       "      <td>0.992882</td>\n",
       "      <td>0.999513</td>\n",
       "      <td>1.000825</td>\n",
       "      <td>0.999881</td>\n",
       "      <td>1.005187</td>\n",
       "      <td>0.998621</td>\n",
       "    </tr>\n",
       "    <tr>\n",
       "      <th>2</th>\n",
       "      <td>1.000388</td>\n",
       "      <td>0.997572</td>\n",
       "      <td>1.000259</td>\n",
       "      <td>0.998079</td>\n",
       "      <td>0.992467</td>\n",
       "      <td>1.000426</td>\n",
       "      <td>1.003937</td>\n",
       "      <td>0.992726</td>\n",
       "      <td>0.994163</td>\n",
       "      <td>1.002387</td>\n",
       "      <td>...</td>\n",
       "      <td>1.010328</td>\n",
       "      <td>1.007339</td>\n",
       "      <td>0.998906</td>\n",
       "      <td>1.006486</td>\n",
       "      <td>0.992013</td>\n",
       "      <td>0.996567</td>\n",
       "      <td>1.000218</td>\n",
       "      <td>1.002674</td>\n",
       "      <td>1.005752</td>\n",
       "      <td>1.002639</td>\n",
       "    </tr>\n",
       "    <tr>\n",
       "      <th>3</th>\n",
       "      <td>0.998371</td>\n",
       "      <td>1.001567</td>\n",
       "      <td>1.002461</td>\n",
       "      <td>0.998482</td>\n",
       "      <td>0.991823</td>\n",
       "      <td>0.999763</td>\n",
       "      <td>1.004788</td>\n",
       "      <td>0.985120</td>\n",
       "      <td>0.997447</td>\n",
       "      <td>1.001373</td>\n",
       "      <td>...</td>\n",
       "      <td>1.011300</td>\n",
       "      <td>1.008482</td>\n",
       "      <td>0.998243</td>\n",
       "      <td>1.005338</td>\n",
       "      <td>0.995651</td>\n",
       "      <td>1.000277</td>\n",
       "      <td>0.997681</td>\n",
       "      <td>1.002317</td>\n",
       "      <td>1.006864</td>\n",
       "      <td>1.001443</td>\n",
       "    </tr>\n",
       "    <tr>\n",
       "      <th>4</th>\n",
       "      <td>0.997579</td>\n",
       "      <td>1.001915</td>\n",
       "      <td>1.005174</td>\n",
       "      <td>1.003898</td>\n",
       "      <td>0.988270</td>\n",
       "      <td>0.998427</td>\n",
       "      <td>0.998213</td>\n",
       "      <td>0.985471</td>\n",
       "      <td>0.997748</td>\n",
       "      <td>1.003694</td>\n",
       "      <td>...</td>\n",
       "      <td>1.010794</td>\n",
       "      <td>1.007066</td>\n",
       "      <td>1.001868</td>\n",
       "      <td>1.002298</td>\n",
       "      <td>0.999641</td>\n",
       "      <td>0.998944</td>\n",
       "      <td>0.998934</td>\n",
       "      <td>1.001332</td>\n",
       "      <td>1.001450</td>\n",
       "      <td>1.005520</td>\n",
       "    </tr>\n",
       "    <tr>\n",
       "      <th>...</th>\n",
       "      <td>...</td>\n",
       "      <td>...</td>\n",
       "      <td>...</td>\n",
       "      <td>...</td>\n",
       "      <td>...</td>\n",
       "      <td>...</td>\n",
       "      <td>...</td>\n",
       "      <td>...</td>\n",
       "      <td>...</td>\n",
       "      <td>...</td>\n",
       "      <td>...</td>\n",
       "      <td>...</td>\n",
       "      <td>...</td>\n",
       "      <td>...</td>\n",
       "      <td>...</td>\n",
       "      <td>...</td>\n",
       "      <td>...</td>\n",
       "      <td>...</td>\n",
       "      <td>...</td>\n",
       "      <td>...</td>\n",
       "      <td>...</td>\n",
       "    </tr>\n",
       "    <tr>\n",
       "      <th>2516</th>\n",
       "      <td>1.281783</td>\n",
       "      <td>1.629176</td>\n",
       "      <td>1.243288</td>\n",
       "      <td>1.975570</td>\n",
       "      <td>1.864577</td>\n",
       "      <td>1.569056</td>\n",
       "      <td>1.215229</td>\n",
       "      <td>1.316789</td>\n",
       "      <td>1.579050</td>\n",
       "      <td>1.606401</td>\n",
       "      <td>...</td>\n",
       "      <td>1.566901</td>\n",
       "      <td>1.178166</td>\n",
       "      <td>1.975440</td>\n",
       "      <td>1.503531</td>\n",
       "      <td>1.442935</td>\n",
       "      <td>1.697619</td>\n",
       "      <td>2.345138</td>\n",
       "      <td>1.351211</td>\n",
       "      <td>1.813572</td>\n",
       "      <td>1.323134</td>\n",
       "    </tr>\n",
       "    <tr>\n",
       "      <th>2517</th>\n",
       "      <td>1.285815</td>\n",
       "      <td>1.620267</td>\n",
       "      <td>1.242759</td>\n",
       "      <td>1.959497</td>\n",
       "      <td>1.868923</td>\n",
       "      <td>1.567866</td>\n",
       "      <td>1.220230</td>\n",
       "      <td>1.313788</td>\n",
       "      <td>1.578772</td>\n",
       "      <td>1.605888</td>\n",
       "      <td>...</td>\n",
       "      <td>1.565787</td>\n",
       "      <td>1.178577</td>\n",
       "      <td>1.977194</td>\n",
       "      <td>1.503342</td>\n",
       "      <td>1.439991</td>\n",
       "      <td>1.690618</td>\n",
       "      <td>2.351113</td>\n",
       "      <td>1.361002</td>\n",
       "      <td>1.808974</td>\n",
       "      <td>1.319623</td>\n",
       "    </tr>\n",
       "    <tr>\n",
       "      <th>2518</th>\n",
       "      <td>1.289804</td>\n",
       "      <td>1.616655</td>\n",
       "      <td>1.234441</td>\n",
       "      <td>1.983494</td>\n",
       "      <td>1.869562</td>\n",
       "      <td>1.561860</td>\n",
       "      <td>1.218623</td>\n",
       "      <td>1.308094</td>\n",
       "      <td>1.570830</td>\n",
       "      <td>1.602532</td>\n",
       "      <td>...</td>\n",
       "      <td>1.576344</td>\n",
       "      <td>1.178951</td>\n",
       "      <td>1.981881</td>\n",
       "      <td>1.506078</td>\n",
       "      <td>1.454924</td>\n",
       "      <td>1.695043</td>\n",
       "      <td>2.355227</td>\n",
       "      <td>1.371005</td>\n",
       "      <td>1.821232</td>\n",
       "      <td>1.320457</td>\n",
       "    </tr>\n",
       "    <tr>\n",
       "      <th>2519</th>\n",
       "      <td>1.285328</td>\n",
       "      <td>1.620375</td>\n",
       "      <td>1.231313</td>\n",
       "      <td>1.975213</td>\n",
       "      <td>1.877360</td>\n",
       "      <td>1.558530</td>\n",
       "      <td>1.218036</td>\n",
       "      <td>1.309572</td>\n",
       "      <td>1.573098</td>\n",
       "      <td>1.609655</td>\n",
       "      <td>...</td>\n",
       "      <td>1.578223</td>\n",
       "      <td>1.185744</td>\n",
       "      <td>1.977043</td>\n",
       "      <td>1.511816</td>\n",
       "      <td>1.456931</td>\n",
       "      <td>1.695354</td>\n",
       "      <td>2.358420</td>\n",
       "      <td>1.374898</td>\n",
       "      <td>1.807597</td>\n",
       "      <td>1.327819</td>\n",
       "    </tr>\n",
       "    <tr>\n",
       "      <th>2520</th>\n",
       "      <td>1.289336</td>\n",
       "      <td>1.616057</td>\n",
       "      <td>1.222912</td>\n",
       "      <td>1.961569</td>\n",
       "      <td>1.870199</td>\n",
       "      <td>1.564623</td>\n",
       "      <td>1.226749</td>\n",
       "      <td>1.311384</td>\n",
       "      <td>1.579016</td>\n",
       "      <td>1.608227</td>\n",
       "      <td>...</td>\n",
       "      <td>1.569919</td>\n",
       "      <td>1.184125</td>\n",
       "      <td>1.974548</td>\n",
       "      <td>1.510127</td>\n",
       "      <td>1.460269</td>\n",
       "      <td>1.694809</td>\n",
       "      <td>2.366351</td>\n",
       "      <td>1.384001</td>\n",
       "      <td>1.797399</td>\n",
       "      <td>1.321265</td>\n",
       "    </tr>\n",
       "  </tbody>\n",
       "</table>\n",
       "<p>2521 rows × 500 columns</p>\n",
       "</div>"
      ]
     },
     "metadata": {},
     "execution_count": 164
    }
   ],
   "metadata": {}
  },
  {
   "cell_type": "code",
   "execution_count": 166,
   "source": [
    "# Visualize the 10-year Monte Carlo simulation by creating an\r\n",
    "# overlay line plot\r\n",
    "line_plot_2 = ten_year_simulation.plot_simulation()"
   ],
   "outputs": [
    {
     "output_type": "display_data",
     "data": {
      "text/plain": [
       "<Figure size 432x288 with 1 Axes>"
      ],
      "image/png": "[encoded data removed]"
     },
     "metadata": {
      "needs_background": "light"
     }
    }
   ],
   "metadata": {}
  },
  {
   "cell_type": "code",
   "execution_count": 167,
   "source": [
    "# Visualize the probability distribution of the 10-year Monte Carlo simulation \r\n",
    "# by plotting a histogram\r\n",
    "ten_year_simulation.plot_distribution()"
   ],
   "outputs": [
    {
     "output_type": "execute_result",
     "data": {
      "text/plain": [
       "<AxesSubplot:title={'center':'Distribution of Final Cumuluative Returns Across All 500 Simulations'}, ylabel='Frequency'>"
      ]
     },
     "metadata": {},
     "execution_count": 167
    },
    {
     "output_type": "display_data",
     "data": {
      "text/plain": [
       "<Figure size 432x288 with 1 Axes>"
      ],
      "image/png": "[encoded data removed]"
     },
     "metadata": {
      "needs_background": "light"
     }
    }
   ],
   "metadata": {}
  },
  {
   "cell_type": "code",
   "execution_count": 168,
   "source": [
    "# Generate summary statistics from the 10-year Monte Carlo simulation results\r\n",
    "# Save the results as a variable\r\n",
    "ten_year_simulation_summary_stats = ten_year_simulation.summarize_cumulative_return()\r\n",
    "\r\n",
    "# Review the 10-year Monte Carlo summary statistics\r\n",
    "ten_year_simulation_summary_stats"
   ],
   "outputs": [
    {
     "output_type": "execute_result",
     "data": {
      "text/plain": [
       "count           500.000000\n",
       "mean              1.560505\n",
       "std               0.297970\n",
       "min               0.899839\n",
       "25%               1.361675\n",
       "50%               1.532181\n",
       "75%               1.733805\n",
       "max               2.849910\n",
       "95% CI Lower      1.044077\n",
       "95% CI Upper      2.215718\n",
       "Name: 2520, dtype: float64"
      ]
     },
     "metadata": {},
     "execution_count": 168
    }
   ],
   "metadata": {}
  },
  {
   "cell_type": "markdown",
   "source": [
    "### Answer the following questions:"
   ],
   "metadata": {}
  },
  {
   "cell_type": "markdown",
   "source": [
    "#### Question: Using the current value of only the stock and bond portion of the member's portfolio and the summary statistics that you generated from the new Monte Carlo simulation, what are the lower and upper bounds for the expected value of the portfolio (with the new weights) with a 95% confidence interval?"
   ],
   "metadata": {}
  },
  {
   "cell_type": "code",
   "execution_count": 170,
   "source": [
    "# Print the current balance of the stock and bond portion of the members portfolio\r\n",
    "print(total_stocks_bonds)"
   ],
   "outputs": [
    {
     "output_type": "stream",
     "name": "stdout",
     "text": [
      "71134.20000000001\n"
     ]
    }
   ],
   "metadata": {}
  },
  {
   "cell_type": "code",
   "execution_count": 175,
   "source": [
    "# Use the lower and upper `95%` confidence intervals to calculate the range of the possible outcomes for the current stock/bond portfolio\r\n",
    "ci_lower_ten_cumulative_return = round(ten_year_simulation_summary_stats[8],2)\r\n",
    "ci_upper_ten_cumulative_return = round(ten_year_simulation_summary_stats[9],2)\r\n",
    "\r\n",
    "# Print the result of your calculations\r\n",
    "display(ci_lower_ten_cumulative_return)\r\n",
    "display(ci_upper_ten_cumulative_return)"
   ],
   "outputs": [
    {
     "output_type": "display_data",
     "data": {
      "text/plain": [
       "1.04"
      ]
     },
     "metadata": {}
    },
    {
     "output_type": "display_data",
     "data": {
      "text/plain": [
       "2.22"
      ]
     },
     "metadata": {}
    }
   ],
   "metadata": {}
  },
  {
   "cell_type": "markdown",
   "source": [
    "#### Question: Will weighting the portfolio more heavily to stocks allow the credit union members to retire after only 10 years?"
   ],
   "metadata": {}
  },
  {
   "cell_type": "raw",
   "source": [
    "**Answer** No, unfortunately, the thirty year simulation with the more conservative stock/bond portfolio still shows better\r\n",
    "returns than that of the ten year stock/bond portfolio with the more aggressive portfolio.\r\n",
    "30 year, weights 60/40: lower and upper CI are 3.36 and 22.36, respectively.\r\n",
    "10 year, weights 80/20: lower and upper CI are 1.04 and 2.22, respectively."
   ],
   "metadata": {}
  },
  {
   "cell_type": "raw",
   "source": [],
   "metadata": {}
  }
 ],
 "metadata": {
  "kernelspec": {
   "display_name": "Python (dev)",
   "language": "python",
   "name": "dev"
  },
  "language_info": {
   "codemirror_mode": {
    "name": "ipython",
    "version": 3
   },
   "file_extension": ".py",
   "mimetype": "text/x-python",
   "name": "python",
   "nbconvert_exporter": "python",
   "pygments_lexer": "ipython3",
   "version": "3.7.7"
  }
 },
 "nbformat": 4,
 "nbformat_minor": 4
}