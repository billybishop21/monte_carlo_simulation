{
 "cells": [
  {
   "cell_type": "markdown",
   "metadata": {},
   "source": [
    "# Financial Planning with APIs and Simulations\n",
    "\n",
    "In this Challenge, you’ll create two financial analysis tools by using a single Jupyter notebook:\n",
    "\n",
    "Part 1: A financial planner for emergencies. The members will be able to use this tool to visualize their current savings. The members can then determine if they have enough reserves for an emergency fund.\n",
    "\n",
    "Part 2: A financial planner for retirement. This tool will forecast the performance of their retirement portfolio in 30 years. To do this, the tool will make an Alpaca API call via the Alpaca SDK to get historical price data for use in Monte Carlo simulations.\n",
    "\n",
    "You’ll use the information from the Monte Carlo simulation to answer questions about the portfolio in your Jupyter notebook.\n",
    "\n"
   ]
  },
  {
   "cell_type": "code",
   "execution_count": 1,
   "metadata": {},
   "outputs": [],
   "source": [
    "# Import the required libraries and dependencies\n",
    "import os\n",
    "import requests\n",
    "import json\n",
    "import pandas as pd\n",
    "import numpy as np\n",
    "from dotenv import load_dotenv\n",
    "import alpaca_trade_api as tradeapi\n",
    "from MCForecastTools import MCSimulation\n",
    "\n",
    "%matplotlib inline"
   ]
  },
  {
   "cell_type": "code",
   "execution_count": 2,
   "metadata": {},
   "outputs": [
    {
     "data": {
      "text/plain": [
       "True"
      ]
     },
     "execution_count": 2,
     "metadata": {},
     "output_type": "execute_result"
    }
   ],
   "source": [
    "# Load the environment variables from the .env file\n",
    "# by calling the load_dotenv function\n",
    "load_dotenv()"
   ]
  },
  {
   "cell_type": "markdown",
   "metadata": {},
   "source": [
    "## Part 1: Create a Financial Planner for Emergencies"
   ]
  },
  {
   "cell_type": "markdown",
   "metadata": {},
   "source": [
    "### Evaluate the Cryptocurrency Wallet by Using the Requests Library\n",
    "\n",
    "In this section, you’ll determine the current value of a member’s cryptocurrency wallet. You’ll collect the current prices for the Bitcoin and Ethereum cryptocurrencies by using the Python Requests library. For the prototype, you’ll assume that the member holds the 1.2 Bitcoins (BTC) and 5.3 Ethereum coins (ETH). To do all this, complete the following steps:\n",
    "\n",
    "1. Create a variable named `monthly_income`, and set its value to `12000`.\n",
    "\n",
    "2. Use the Requests library to get the current price (in US dollars) of Bitcoin (BTC) and Ethereum (ETH) by using the API endpoints that the starter code supplies.\n",
    "\n",
    "3. Navigate the JSON response object to access the current price of each coin, and store each in a variable.\n",
    "\n",
    "    > **Hint** Note the specific identifier for each cryptocurrency in the API JSON response. The Bitcoin identifier is `1`, and the Ethereum identifier is `1027`.\n",
    "\n",
    "4. Calculate the value, in US dollars, of the current amount of each cryptocurrency and of the entire cryptocurrency wallet.\n",
    "\n"
   ]
  },
  {
   "cell_type": "code",
   "execution_count": 3,
   "metadata": {},
   "outputs": [],
   "source": [
    "# The current number of coins for each cryptocurrency asset held in the portfolio.\n",
    "btc_coins = 1.2\n",
    "eth_coins = 5.3"
   ]
  },
  {
   "cell_type": "markdown",
   "metadata": {},
   "source": [
    "#### Step 1: Create a variable named `monthly_income`, and set its value to `12000`."
   ]
  },
  {
   "cell_type": "code",
   "execution_count": 4,
   "metadata": {},
   "outputs": [],
   "source": [
    "# The monthly amount for the member's household income\n",
    "monthly_income = 12000"
   ]
  },
  {
   "cell_type": "markdown",
   "metadata": {},
   "source": [
    "#### Review the endpoint URLs for the API calls to Free Crypto API in order to get the current pricing information for both BTC and ETH."
   ]
  },
  {
   "cell_type": "code",
   "execution_count": 5,
   "metadata": {},
   "outputs": [],
   "source": [
    "# The Free Crypto API Call endpoint URLs for the held cryptocurrency assets\n",
    "btc_url = \"https://api.alternative.me/v2/ticker/Bitcoin/?convert=USD\"\n",
    "eth_url = \"https://api.alternative.me/v2/ticker/Ethereum/?convert=USD\""
   ]
  },
  {
   "cell_type": "markdown",
   "metadata": {},
   "source": [
    "#### Step 2. Use the Requests library to get the current price (in US dollars) of Bitcoin (BTC) and Ethereum (ETH) by using the API endpoints that the starter code supplied."
   ]
  },
  {
   "cell_type": "code",
   "execution_count": 6,
   "metadata": {},
   "outputs": [
    {
     "name": "stdout",
     "output_type": "stream",
     "text": [
      "{\n",
      "    \"data\": {\n",
      "        \"1\": {\n",
      "            \"circulating_supply\": 18887568,\n",
      "            \"id\": 1,\n",
      "            \"last_updated\": 1638316123,\n",
      "            \"max_supply\": 21000000,\n",
      "            \"name\": \"Bitcoin\",\n",
      "            \"quotes\": {\n",
      "                \"USD\": {\n",
      "                    \"market_cap\": 1080111209560,\n",
      "                    \"percent_change_1h\": -0.480519537682503,\n",
      "                    \"percent_change_24h\": -1.4012241870083,\n",
      "                    \"percent_change_7d\": 1.1912994569142,\n",
      "                    \"percentage_change_1h\": -0.480519537682503,\n",
      "                    \"percentage_change_24h\": -1.4012241870083,\n",
      "                    \"percentage_change_7d\": 1.1912994569142,\n",
      "                    \"price\": 57059.0,\n",
      "                    \"volume_24h\": 35016986160\n",
      "                }\n",
      "            },\n",
      "            \"rank\": 1,\n",
      "            \"symbol\": \"BTC\",\n",
      "            \"total_supply\": 18887568,\n",
      "            \"website_slug\": \"bitcoin\"\n",
      "        }\n",
      "    },\n",
      "    \"metadata\": {\n",
      "        \"error\": null,\n",
      "        \"num_cryptocurrencies\": 3105,\n",
      "        \"timestamp\": 1638316123\n",
      "    }\n",
      "}\n"
     ]
    }
   ],
   "source": [
    "# Using the Python requests library, make an API call to access the current price of BTC\n",
    "btc_response = requests.get(btc_url).json()\n",
    "\n",
    "# Use the json.dumps function to review the response data from the API call\n",
    "# Use the indent and sort_keys parameters to make the response object readable\n",
    "print(json.dumps(btc_response, indent=4, sort_keys=True))"
   ]
  },
  {
   "cell_type": "code",
   "execution_count": 7,
   "metadata": {},
   "outputs": [
    {
     "name": "stdout",
     "output_type": "stream",
     "text": [
      "{\n",
      "    \"data\": {\n",
      "        \"1027\": {\n",
      "            \"circulating_supply\": 118555915,\n",
      "            \"id\": 1027,\n",
      "            \"last_updated\": 1638316036,\n",
      "            \"max_supply\": 0,\n",
      "            \"name\": \"Ethereum\",\n",
      "            \"quotes\": {\n",
      "                \"USD\": {\n",
      "                    \"market_cap\": 551070749880,\n",
      "                    \"percent_change_1h\": -0.125733834543599,\n",
      "                    \"percent_change_24h\": 4.52748519963335,\n",
      "                    \"percent_change_7d\": 13.381566293249,\n",
      "                    \"percentage_change_1h\": -0.125733834543599,\n",
      "                    \"percentage_change_24h\": 4.52748519963335,\n",
      "                    \"percentage_change_7d\": 13.381566293249,\n",
      "                    \"price\": 4649.85,\n",
      "                    \"volume_24h\": 31599092786\n",
      "                }\n",
      "            },\n",
      "            \"rank\": 2,\n",
      "            \"symbol\": \"ETH\",\n",
      "            \"total_supply\": 118555915,\n",
      "            \"website_slug\": \"ethereum\"\n",
      "        }\n",
      "    },\n",
      "    \"metadata\": {\n",
      "        \"error\": null,\n",
      "        \"num_cryptocurrencies\": 3105,\n",
      "        \"timestamp\": 1638316036\n",
      "    }\n",
      "}\n"
     ]
    }
   ],
   "source": [
    "# Using the Python requests library, make an API call to access the current price ETH\n",
    "eth_response = requests.get(eth_url).json()\n",
    "\n",
    "# Use the json.dumps function to review the response data from the API call\n",
    "# Use the indent and sort_keys parameters to make the response object readable\n",
    "print(json.dumps(eth_response, indent=4, sort_keys=True))\n"
   ]
  },
  {
   "cell_type": "markdown",
   "metadata": {},
   "source": [
    "#### Step 3: Navigate the JSON response object to access the current price of each coin, and store each in a variable."
   ]
  },
  {
   "cell_type": "code",
   "execution_count": 8,
   "metadata": {},
   "outputs": [
    {
     "name": "stdout",
     "output_type": "stream",
     "text": [
      "The current price of bitcoin is $57059.00.\n"
     ]
    }
   ],
   "source": [
    "# Navigate the BTC response object to access the current price of BTC\n",
    "btc_price = btc_response[\"data\"][\"1\"][\"quotes\"][\"USD\"][\"price\"]\n",
    "\n",
    "# Print the current price of BTC\n",
    "print(f\"The current price of bitcoin is ${btc_price:.2f}.\")"
   ]
  },
  {
   "cell_type": "code",
   "execution_count": 9,
   "metadata": {},
   "outputs": [
    {
     "name": "stdout",
     "output_type": "stream",
     "text": [
      "The current price of ethereum is $4649.85.\n"
     ]
    }
   ],
   "source": [
    "# Navigate the BTC response object to access the current price of ETH\n",
    "eth_price = eth_response[\"data\"][\"1027\"][\"quotes\"][\"USD\"][\"price\"]\n",
    "\n",
    "# Print the current price of ETH\n",
    "print(f\"The current price of ethereum is ${eth_price:.2f}.\")"
   ]
  },
  {
   "cell_type": "markdown",
   "metadata": {},
   "source": [
    "#### Step 4: Calculate the value, in US dollars, of the current amount of each cryptocurrency and of the entire cryptocurrency wallet."
   ]
  },
  {
   "cell_type": "code",
   "execution_count": 10,
   "metadata": {},
   "outputs": [
    {
     "name": "stdout",
     "output_type": "stream",
     "text": [
      "The current value of bitcoin currently held in your wallet is $68470.80.\n"
     ]
    }
   ],
   "source": [
    "# Compute the current value of the BTC holding \n",
    "btc_value = btc_coins * btc_price\n",
    "\n",
    "# Print current value of your holding in BTC\n",
    "print(f\"The current value of bitcoin currently held in your wallet is ${btc_value:.2f}.\")\n"
   ]
  },
  {
   "cell_type": "code",
   "execution_count": 11,
   "metadata": {},
   "outputs": [
    {
     "name": "stdout",
     "output_type": "stream",
     "text": [
      "The current value of ethereum currently held in your wallet is $24644.21.\n"
     ]
    }
   ],
   "source": [
    "# Compute the current value of the ETH holding \n",
    "eth_value = eth_coins * eth_price\n",
    "\n",
    "# Print current value of your holding in ETH\n",
    "print(f\"The current value of ethereum currently held in your wallet is ${eth_value:.2f}.\")\n"
   ]
  },
  {
   "cell_type": "code",
   "execution_count": 12,
   "metadata": {},
   "outputs": [
    {
     "name": "stdout",
     "output_type": "stream",
     "text": [
      "The total value of USD in your wallet is $93115.01.\n"
     ]
    }
   ],
   "source": [
    "# Compute the total value of the cryptocurrency wallet\n",
    "# Add the value of the BTC holding to the value of the ETH holding\n",
    "total_crypto_wallet = btc_value + eth_value\n",
    "\n",
    "# Print current cryptocurrency wallet balance\n",
    "print(f\"The total value of USD in your wallet is ${total_crypto_wallet:.2f}.\")"
   ]
  },
  {
   "cell_type": "markdown",
   "metadata": {},
   "source": [
    "### Evaluate the Stock and Bond Holdings by Using the Alpaca SDK\n",
    "\n",
    "In this section, you’ll determine the current value of a member’s stock and bond holdings. You’ll make an API call to Alpaca via the Alpaca SDK to get the current closing prices of the SPDR S&P 500 ETF Trust (ticker: SPY) and of the iShares Core US Aggregate Bond ETF (ticker: AGG). For the prototype, assume that the member holds 110 shares of SPY, which represents the stock portion of their portfolio, and 200 shares of AGG, which represents the bond portion. To do all this, complete the following steps:\n",
    "\n",
    "1. In the `Starter_Code` folder, create an environment file (`.env`) to store the values of your Alpaca API key and Alpaca secret key.\n",
    "\n",
    "2. Set the variables for the Alpaca API and secret keys. Using the Alpaca SDK, create the Alpaca `tradeapi.REST` object. In this object, include the parameters for the Alpaca API key, the secret key, and the version number.\n",
    "\n",
    "3. Set the following parameters for the Alpaca API call:\n",
    "\n",
    "    - `tickers`: Use the tickers for the member’s stock and bond holdings.\n",
    "\n",
    "    - `timeframe`: Use a time frame of one day.\n",
    "\n",
    "    - `start_date` and `end_date`: Use the same date for these parameters, and format them with the date of the previous weekday (or `2020-08-07`). This is because you want the one closing price for the most-recent trading day.\n",
    "\n",
    "4. Get the current closing prices for `SPY` and `AGG` by using the Alpaca `get_barset` function. Format the response as a Pandas DataFrame by including the `df` property at the end of the `get_barset` function.\n",
    "\n",
    "5. Navigating the Alpaca response DataFrame, select the `SPY` and `AGG` closing prices, and store them as variables.\n",
    "\n",
    "6. Calculate the value, in US dollars, of the current amount of shares in each of the stock and bond portions of the portfolio, and print the results.\n"
   ]
  },
  {
   "cell_type": "markdown",
   "metadata": {},
   "source": [
    "#### Review the total number of shares held in both (SPY) and (AGG)."
   ]
  },
  {
   "cell_type": "code",
   "execution_count": 13,
   "metadata": {},
   "outputs": [],
   "source": [
    "# Current amount of shares held in both the stock (SPY) and bond (AGG) portion of the portfolio.\n",
    "spy_shares = 110\n",
    "agg_shares = 200"
   ]
  },
  {
   "cell_type": "markdown",
   "metadata": {},
   "source": [
    "#### Step 1: In the `Starter_Code` folder, create an environment file (`.env`) to store the values of your Alpaca API key and Alpaca secret key."
   ]
  },
  {
   "cell_type": "markdown",
   "metadata": {},
   "source": [
    "#### Step 2: Set the variables for the Alpaca API and secret keys. Using the Alpaca SDK, create the Alpaca `tradeapi.REST` object. In this object, include the parameters for the Alpaca API key, the secret key, and the version number."
   ]
  },
  {
   "cell_type": "code",
   "execution_count": 14,
   "metadata": {},
   "outputs": [],
   "source": [
    "# Set the variables for the Alpaca API and secret keys\n",
    "alpaca_api_key = os.getenv(\"ALPACA_API_KEY\")\n",
    "alpaca_secret_key = os.getenv(\"ALPACA_SECRET_KEY\")\n",
    "\n",
    "# Create the Alpaca tradeapi.REST object\n",
    "alpaca = tradeapi.REST(\n",
    "    alpaca_api_key,\n",
    "    alpaca_secret_key,\n",
    "    api_version=\"v2\"\n",
    ")"
   ]
  },
  {
   "cell_type": "markdown",
   "metadata": {},
   "source": [
    "#### Step 3: Set the following parameters for the Alpaca API call:\n",
    "\n",
    "- `tickers`: Use the tickers for the member’s stock and bond holdings.\n",
    "\n",
    "- `timeframe`: Use a time frame of one day.\n",
    "\n",
    "- `start_date` and `end_date`: Use the same date for these parameters, and format them with the date of the previous weekday (or `2020-08-07`). This is because you want the one closing price for the most-recent trading day.\n"
   ]
  },
  {
   "cell_type": "code",
   "execution_count": 19,
   "metadata": {},
   "outputs": [],
   "source": [
    "from datetime import date\n",
    "# Set the tickers for both the bond and stock portion of the portfolio\n",
    "tickers = [\"SPY\", \"AGG\"]\n",
    "\n",
    "# Set timeframe to 1D \n",
    "timeframe = \"1D\"\n",
    "\n",
    "# Format current date as ISO format\n",
    "# Set both the start and end date at the date of your prior weekday \n",
    "# This will give you the closing price of the previous trading day\n",
    "start_date = pd.Timestamp(date.today(), tz=\"America/New_York\").isoformat()\n",
    "end_date = pd.Timestamp(date.today(), tz=\"America/New_York\").isoformat()"
   ]
  },
  {
   "cell_type": "markdown",
   "metadata": {},
   "source": [
    "#### Step 4: Get the current closing prices for `SPY` and `AGG` by using the Alpaca `get_barset` function. Format the response as a Pandas DataFrame by including the `df` property at the end of the `get_barset` function."
   ]
  },
  {
   "cell_type": "code",
   "execution_count": 20,
   "metadata": {},
   "outputs": [
    {
     "data": {
      "text/html": [
       "<div><div id=ce52351c-113a-4a8f-b5f6-7cf02cb2d995 style=\"display:none; background-color:#9D6CFF; color:white; width:200px; height:30px; padding-left:5px; border-radius:4px; flex-direction:row; justify-content:space-around; align-items:center;\" onmouseover=\"this.style.backgroundColor='#BA9BF8'\" onmouseout=\"this.style.backgroundColor='#9D6CFF'\" onclick=\"window.commands?.execute('create-mitosheet-from-dataframe-output');\">See Full Dataframe in Mito</div> <script> if (window.commands.hasCommand('create-mitosheet-from-dataframe-output')) document.getElementById('ce52351c-113a-4a8f-b5f6-7cf02cb2d995').style.display = 'flex' </script> <table border=\"1\" class=\"dataframe\">\n",
       "  <thead>\n",
       "    <tr>\n",
       "      <th></th>\n",
       "      <th colspan=\"5\" halign=\"left\">AGG</th>\n",
       "      <th colspan=\"5\" halign=\"left\">SPY</th>\n",
       "    </tr>\n",
       "    <tr>\n",
       "      <th></th>\n",
       "      <th>open</th>\n",
       "      <th>high</th>\n",
       "      <th>low</th>\n",
       "      <th>close</th>\n",
       "      <th>volume</th>\n",
       "      <th>open</th>\n",
       "      <th>high</th>\n",
       "      <th>low</th>\n",
       "      <th>close</th>\n",
       "      <th>volume</th>\n",
       "    </tr>\n",
       "    <tr>\n",
       "      <th>time</th>\n",
       "      <th></th>\n",
       "      <th></th>\n",
       "      <th></th>\n",
       "      <th></th>\n",
       "      <th></th>\n",
       "      <th></th>\n",
       "      <th></th>\n",
       "      <th></th>\n",
       "      <th></th>\n",
       "      <th></th>\n",
       "    </tr>\n",
       "  </thead>\n",
       "  <tbody>\n",
       "    <tr>\n",
       "      <th>2021-11-30 00:00:00-05:00</th>\n",
       "      <td>114.87</td>\n",
       "      <td>115.1074</td>\n",
       "      <td>114.5</td>\n",
       "      <td>114.765</td>\n",
       "      <td>10559678</td>\n",
       "      <td>462</td>\n",
       "      <td>464.03</td>\n",
       "      <td>455.3</td>\n",
       "      <td>455.78</td>\n",
       "      <td>126381409</td>\n",
       "    </tr>\n",
       "  </tbody>\n",
       "</table></div>"
      ],
      "text/plain": [
       "                              AGG                                      SPY  \\\n",
       "                             open      high    low    close    volume open   \n",
       "time                                                                         \n",
       "2021-11-30 00:00:00-05:00  114.87  115.1074  114.5  114.765  10559678  462   \n",
       "\n",
       "                                                             \n",
       "                             high    low   close     volume  \n",
       "time                                                         \n",
       "2021-11-30 00:00:00-05:00  464.03  455.3  455.78  126381409  "
      ]
     },
     "execution_count": 20,
     "metadata": {},
     "output_type": "execute_result"
    }
   ],
   "source": [
    "# Use the Alpaca get_barset function to get current closing prices the portfolio\n",
    "# Be sure to set the `df` property after the function to format the response object as a DataFrame\n",
    "prices_df = alpaca.get_barset(\n",
    "    tickers,\n",
    "    timeframe,\n",
    "    start = start_date,\n",
    "    end = end_date,\n",
    "    limit=1000\n",
    ").df\n",
    "\n",
    "# Review the first 5 rows of the Alpaca DataFrame\n",
    "prices_df"
   ]
  },
  {
   "cell_type": "markdown",
   "metadata": {},
   "source": [
    "#### Step 5: Navigating the Alpaca response DataFrame, select the `SPY` and `AGG` closing prices, and store them as variables."
   ]
  },
  {
   "cell_type": "code",
   "execution_count": 21,
   "metadata": {},
   "outputs": [
    {
     "data": {
      "text/plain": [
       "114.765"
      ]
     },
     "execution_count": 21,
     "metadata": {},
     "output_type": "execute_result"
    }
   ],
   "source": [
    "# Access the closing price for AGG from the Alpaca DataFrame\n",
    "# Converting the value to a floating point number\n",
    "agg_close_price = float(prices_df[\"AGG\"][\"close\"])\n",
    "\n",
    "# Print the AGG closing price\n",
    "agg_close_price\n"
   ]
  },
  {
   "cell_type": "code",
   "execution_count": 22,
   "metadata": {},
   "outputs": [
    {
     "data": {
      "text/plain": [
       "455.78"
      ]
     },
     "execution_count": 22,
     "metadata": {},
     "output_type": "execute_result"
    }
   ],
   "source": [
    "# Access the closing price for SPY from the Alpaca DataFrame\n",
    "# Converting the value to a floating point number\n",
    "spy_close_price = float(prices_df[\"SPY\"][\"close\"])\n",
    "\n",
    "# Print the SPY closing price\n",
    "spy_close_price\n"
   ]
  },
  {
   "cell_type": "markdown",
   "metadata": {},
   "source": [
    "#### Step 6: Calculate the value, in US dollars, of the current amount of shares in each of the stock and bond portions of the portfolio, and print the results."
   ]
  },
  {
   "cell_type": "code",
   "execution_count": 23,
   "metadata": {},
   "outputs": [
    {
     "name": "stdout",
     "output_type": "stream",
     "text": [
      "The value of the bond portfolio is $22953.00.\n"
     ]
    }
   ],
   "source": [
    "# Calculate the current value of the bond portion of the portfolio\n",
    "agg_value = agg_shares * agg_close_price\n",
    "\n",
    "# Print the current value of the bond portfolio\n",
    "print(f\"The value of the bond portfolio is ${agg_value:.2f}.\")\n"
   ]
  },
  {
   "cell_type": "code",
   "execution_count": 24,
   "metadata": {},
   "outputs": [
    {
     "name": "stdout",
     "output_type": "stream",
     "text": [
      "The current value of the stock portfolio is $50135.80.\n"
     ]
    }
   ],
   "source": [
    "# Calculate the current value of the stock portion of the portfolio\n",
    "spy_value = spy_shares * spy_close_price\n",
    "\n",
    "# Print the current value of the stock portfolio\n",
    "print(f\"The current value of the stock portfolio is ${spy_value:.2f}.\")\n"
   ]
  },
  {
   "cell_type": "code",
   "execution_count": 25,
   "metadata": {},
   "outputs": [
    {
     "name": "stdout",
     "output_type": "stream",
     "text": [
      "The total portfolio value is $73088.80.\n"
     ]
    }
   ],
   "source": [
    "# Calculate the total value of the stock and bond portion of the portfolio\n",
    "total_stocks_bonds = agg_value + spy_value\n",
    "\n",
    "# Print the current balance of the stock and bond portion of the portfolio\n",
    "print(f\"The total portfolio value is ${total_stocks_bonds:.2f}.\")\n"
   ]
  },
  {
   "cell_type": "code",
   "execution_count": 26,
   "metadata": {},
   "outputs": [
    {
     "name": "stdout",
     "output_type": "stream",
     "text": [
      "The total savings portfolio is $166203.80.\n"
     ]
    }
   ],
   "source": [
    "# Calculate the total value of the member's entire savings portfolio\n",
    "# Add the value of the cryptocurrency walled to the value of the total stocks and bonds\n",
    "total_portfolio = total_crypto_wallet + total_stocks_bonds\n",
    "\n",
    "# Print current cryptocurrency wallet balance plus the total stocks and bonds portfolio\n",
    "print(f\"The total savings portfolio is ${total_portfolio:.2f}.\")\n"
   ]
  },
  {
   "cell_type": "markdown",
   "metadata": {},
   "source": [
    "### Evaluate the Emergency Fund\n",
    "\n",
    "In this section, you’ll use the valuations for the cryptocurrency wallet and for the stock and bond portions of the portfolio to determine if the credit union member has enough savings to build an emergency fund into their financial plan. To do this, complete the following steps:\n",
    "\n",
    "1. Create a Python list named `savings_data` that has two elements. The first element contains the total value of the cryptocurrency wallet. The second element contains the total value of the stock and bond portions of the portfolio.\n",
    "\n",
    "2. Use the `savings_data` list to create a Pandas DataFrame named `savings_df`, and then display this DataFrame. The function to create the DataFrame should take the following three parameters:\n",
    "\n",
    "    - `savings_data`: Use the list that you just created.\n",
    "\n",
    "    - `columns`: Set this parameter equal to a Python list with a single value called `amount`.\n",
    "\n",
    "    - `index`: Set this parameter equal to a Python list with the values of `crypto` and `stock/bond`.\n",
    "\n",
    "3. Use the `savings_df` DataFrame to plot a pie chart that visualizes the composition of the member’s portfolio. The y-axis of the pie chart uses `amount`. Be sure to add a title.\n",
    "\n",
    "4. Using Python, determine if the current portfolio has enough to create an emergency fund as part of the member’s financial plan. Ideally, an emergency fund should equal to three times the member’s monthly income. To do this, implement the following steps:\n",
    "\n",
    "    1. Create a variable named `emergency_fund_value`, and set it equal to three times the value of the member’s `monthly_income` of $12000. (You set this earlier in Part 1).\n",
    "\n",
    "    2. Create a series of three if statements to determine if the member’s total portfolio is large enough to fund the emergency portfolio:\n",
    "\n",
    "        1. If the total portfolio value is greater than the emergency fund value, display a message congratulating the member for having enough money in this fund.\n",
    "\n",
    "        2. Else if the total portfolio value is equal to the emergency fund value, display a message congratulating the member on reaching this important financial goal.\n",
    "\n",
    "        3. Else the total portfolio is less than the emergency fund value, so display a message showing how many dollars away the member is from reaching the goal. (Subtract the total portfolio value from the emergency fund value.)\n"
   ]
  },
  {
   "cell_type": "markdown",
   "metadata": {},
   "source": [
    "#### Step 1: Create a Python list named `savings_data` that has two elements. The first element contains the total value of the cryptocurrency wallet. The second element contains the total value of the stock and bond portions of the portfolio."
   ]
  },
  {
   "cell_type": "code",
   "execution_count": 27,
   "metadata": {},
   "outputs": [
    {
     "data": {
      "text/plain": [
       "[93115.005, 73088.79999999999]"
      ]
     },
     "execution_count": 27,
     "metadata": {},
     "output_type": "execute_result"
    }
   ],
   "source": [
    "# Consolidate financial assets data into a Python list\n",
    "savings_data = [total_crypto_wallet, total_stocks_bonds]\n",
    "\n",
    "# Review the Python list savings_data\n",
    "savings_data"
   ]
  },
  {
   "cell_type": "markdown",
   "metadata": {},
   "source": [
    "#### Step 2: Use the `savings_data` list to create a Pandas DataFrame named `savings_df`, and then display this DataFrame. The function to create the DataFrame should take the following three parameters:\n",
    "\n",
    "- `savings_data`: Use the list that you just created.\n",
    "\n",
    "- `columns`: Set this parameter equal to a Python list with a single value called `amount`.\n",
    "\n",
    "- `index`: Set this parameter equal to a Python list with the values of `crypto` and `stock/bond`.\n"
   ]
  },
  {
   "cell_type": "code",
   "execution_count": 28,
   "metadata": {},
   "outputs": [
    {
     "data": {
      "text/html": [
       "<div><div id=809c6083-0aaa-47af-99a4-8f1de4b23416 style=\"display:none; background-color:#9D6CFF; color:white; width:200px; height:30px; padding-left:5px; border-radius:4px; flex-direction:row; justify-content:space-around; align-items:center;\" onmouseover=\"this.style.backgroundColor='#BA9BF8'\" onmouseout=\"this.style.backgroundColor='#9D6CFF'\" onclick=\"window.commands?.execute('create-mitosheet-from-dataframe-output');\">See Full Dataframe in Mito</div> <script> if (window.commands.hasCommand('create-mitosheet-from-dataframe-output')) document.getElementById('809c6083-0aaa-47af-99a4-8f1de4b23416').style.display = 'flex' </script> <table border=\"1\" class=\"dataframe\">\n",
       "  <thead>\n",
       "    <tr style=\"text-align: right;\">\n",
       "      <th></th>\n",
       "      <th>amount</th>\n",
       "    </tr>\n",
       "  </thead>\n",
       "  <tbody>\n",
       "    <tr>\n",
       "      <th>crypto</th>\n",
       "      <td>93115.005</td>\n",
       "    </tr>\n",
       "    <tr>\n",
       "      <th>stock/bond</th>\n",
       "      <td>73088.800</td>\n",
       "    </tr>\n",
       "  </tbody>\n",
       "</table></div>"
      ],
      "text/plain": [
       "               amount\n",
       "crypto      93115.005\n",
       "stock/bond  73088.800"
      ]
     },
     "metadata": {},
     "output_type": "display_data"
    }
   ],
   "source": [
    "# Create a Pandas DataFrame called savings_df\n",
    "column_names = ['amount']\n",
    "\n",
    "savings_df = pd.DataFrame(\n",
    "    data=savings_data,\n",
    "    columns=column_names,\n",
    "    index=[\"crypto\", \"stock/bond\"]\n",
    ")\n",
    "\n",
    "\n",
    "# Display the savings_df DataFrame\n",
    "display(savings_df)"
   ]
  },
  {
   "cell_type": "markdown",
   "metadata": {},
   "source": [
    "#### Step 3: Use the `savings_df` DataFrame to plot a pie chart that visualizes the composition of the member’s portfolio. The y-axis of the pie chart uses `amount`. Be sure to add a title."
   ]
  },
  {
   "cell_type": "code",
   "execution_count": 29,
   "metadata": {},
   "outputs": [
    {
     "data": {
      "text/plain": [
       "array([<AxesSubplot:ylabel='amount'>], dtype=object)"
      ]
     },
     "execution_count": 29,
     "metadata": {},
     "output_type": "execute_result"
    },
    {
     "data": {
      "image/png": "[encoded data removed]",
      "text/plain": [
       "<Figure size 648x648 with 1 Axes>"
      ]
     },
     "metadata": {},
     "output_type": "display_data"
    }
   ],
   "source": [
    "# Plot the total value of the member's portfolio (crypto and stock/bond) in a pie chart\n",
    "savings_df.plot.pie(figsize=(9,9), subplots=True, autopct=\"%.2f\", fontsize=20)"
   ]
  },
  {
   "cell_type": "markdown",
   "metadata": {},
   "source": [
    "#### Step 4: Using Python, determine if the current portfolio has enough to create an emergency fund as part of the member’s financial plan. Ideally, an emergency fund should equal to three times the member’s monthly income. To do this, implement the following steps:\n",
    "\n",
    "Step 1. Create a variable named `emergency_fund_value`, and set it equal to three times the value of the member’s `monthly_income` of 12000. (You set this earlier in Part 1).\n",
    "\n",
    "Step 2. Create a series of three if statements to determine if the member’s total portfolio is large enough to fund the emergency portfolio:\n",
    "\n",
    "* If the total portfolio value is greater than the emergency fund value, display a message congratulating the member for having enough money in this fund.\n",
    "\n",
    "* Else if the total portfolio value is equal to the emergency fund value, display a message congratulating the member on reaching this important financial goal.\n",
    "\n",
    "* Else the total portfolio is less than the emergency fund value, so display a message showing how many dollars away the member is from reaching the goal. (Subtract the total portfolio value from the emergency fund value.)\n"
   ]
  },
  {
   "cell_type": "markdown",
   "metadata": {},
   "source": [
    "##### Step 4-1: Create a variable named `emergency_fund_value`, and set it equal to three times the value of the member’s `monthly_income` of 12000. (You set this earlier in Part 1)."
   ]
  },
  {
   "cell_type": "code",
   "execution_count": 30,
   "metadata": {},
   "outputs": [
    {
     "data": {
      "text/plain": [
       "36000"
      ]
     },
     "execution_count": 30,
     "metadata": {},
     "output_type": "execute_result"
    }
   ],
   "source": [
    "# Create a variable named emergency_fund_value\n",
    "emergency_fund_value = monthly_income * 3\n",
    "emergency_fund_value"
   ]
  },
  {
   "cell_type": "markdown",
   "metadata": {},
   "source": [
    "##### Step 4-2: Create a series of three if statements to determine if the member’s total portfolio is large enough to fund the emergency portfolio:\n",
    "\n",
    "* If the total portfolio value is greater than the emergency fund value, display a message congratulating the member for having enough money in this fund.\n",
    "\n",
    "* Else if the total portfolio value is equal to the emergency fund value, display a message congratulating the member on reaching this important financial goal.\n",
    "\n",
    "* Else the total portfolio is less than the emergency fund value, so display a message showing how many dollars away the member is from reaching the goal. (Subtract the total portfolio value from the emergency fund value.)"
   ]
  },
  {
   "cell_type": "code",
   "execution_count": 31,
   "metadata": {},
   "outputs": [
    {
     "name": "stdout",
     "output_type": "stream",
     "text": [
      "Congratulations! You have enough money in this fund!\n"
     ]
    }
   ],
   "source": [
    "# Evaluate the possibility of creating an emergency fund with 3 conditions:\n",
    "if total_portfolio > emergency_fund_value:\n",
    "    print(f\"Congratulations! You have enough money in this fund!\")\n",
    "elif total_portfolio == emergency_fund_value:\n",
    "    print(f\"Congratulations! You have reached this important financial goal!\")\n",
    "else:\n",
    "    total_portfolio < emergency_fund_value\n",
    "    difference = emergency_fund_value - total_portfolio\n",
    "    print(f\"You are ${difference:.2f} away from reaching your goal.\")"
   ]
  },
  {
   "cell_type": "markdown",
   "metadata": {},
   "source": [
    "## Part 2: Create a Financial Planner for Retirement"
   ]
  },
  {
   "cell_type": "markdown",
   "metadata": {},
   "source": [
    "### Create the Monte Carlo Simulation\n",
    "\n",
    "In this section, you’ll use the MCForecastTools library to create a Monte Carlo simulation for the member’s savings portfolio. To do this, complete the following steps:\n",
    "\n",
    "1. Make an API call via the Alpaca SDK to get 10 years of historical closing prices for a traditional 60/40 portfolio split: 60% stocks (SPY) and 40% bonds (AGG).\n",
    "\n",
    "2. Run a Monte Carlo simulation of 500 samples and 30 years for the 60/40 portfolio, and then plot the results.The following image shows the overlay line plot resulting from a simulation with these characteristics. However, because a random number generator is used to run each live Monte Carlo simulation, your image will differ slightly from this exact image:\n",
    "\n",
    "![A screenshot depicts the resulting plot.](Images/5-4-monte-carlo-line-plot.png)\n",
    "\n",
    "3. Plot the probability distribution of the Monte Carlo simulation. Plot the probability distribution of the Monte Carlo simulation. The following image shows the histogram plot resulting from a simulation with these characteristics. However, because a random number generator is used to run each live Monte Carlo simulation, your image will differ slightly from this exact image:\n",
    "\n",
    "![A screenshot depicts the histogram plot.](Images/5-4-monte-carlo-histogram.png)\n",
    "\n",
    "4. Generate the summary statistics for the Monte Carlo simulation.\n",
    "\n"
   ]
  },
  {
   "cell_type": "markdown",
   "metadata": {},
   "source": [
    "#### Step 1: Make an API call via the Alpaca SDK to get 10 years of historical closing prices for a traditional 60/40 portfolio split: 60% stocks (SPY) and 40% bonds (AGG)."
   ]
  },
  {
   "cell_type": "code",
   "execution_count": 37,
   "metadata": {},
   "outputs": [],
   "source": [
    "# Set start and end dates of 10 years back from your current date\n",
    "# Alternatively, you can use an end date of 2020-08-07 and work 10 years back from that date\n",
    "# I used a more recent date*** \n",
    "start_date = pd.Timestamp(\"2020-11-30\", tz=\"America/New_York\").isoformat()\n",
    "end_date = pd.Timestamp(date.today(), tz=\"America/New_York\").isoformat()\n"
   ]
  },
  {
   "cell_type": "code",
   "execution_count": 38,
   "metadata": {},
   "outputs": [
    {
     "data": {
      "text/html": [
       "<div><div id=6eb16c73-ee9e-4995-ab84-6064648177e8 style=\"display:none; background-color:#9D6CFF; color:white; width:200px; height:30px; padding-left:5px; border-radius:4px; flex-direction:row; justify-content:space-around; align-items:center;\" onmouseover=\"this.style.backgroundColor='#BA9BF8'\" onmouseout=\"this.style.backgroundColor='#9D6CFF'\" onclick=\"window.commands?.execute('create-mitosheet-from-dataframe-output');\">See Full Dataframe in Mito</div> <script> if (window.commands.hasCommand('create-mitosheet-from-dataframe-output')) document.getElementById('6eb16c73-ee9e-4995-ab84-6064648177e8').style.display = 'flex' </script> <table border=\"1\" class=\"dataframe\">\n",
       "  <thead>\n",
       "    <tr>\n",
       "      <th></th>\n",
       "      <th colspan=\"5\" halign=\"left\">AGG</th>\n",
       "      <th colspan=\"5\" halign=\"left\">SPY</th>\n",
       "    </tr>\n",
       "    <tr>\n",
       "      <th></th>\n",
       "      <th>open</th>\n",
       "      <th>high</th>\n",
       "      <th>low</th>\n",
       "      <th>close</th>\n",
       "      <th>volume</th>\n",
       "      <th>open</th>\n",
       "      <th>high</th>\n",
       "      <th>low</th>\n",
       "      <th>close</th>\n",
       "      <th>volume</th>\n",
       "    </tr>\n",
       "    <tr>\n",
       "      <th>time</th>\n",
       "      <th></th>\n",
       "      <th></th>\n",
       "      <th></th>\n",
       "      <th></th>\n",
       "      <th></th>\n",
       "      <th></th>\n",
       "      <th></th>\n",
       "      <th></th>\n",
       "      <th></th>\n",
       "      <th></th>\n",
       "    </tr>\n",
       "  </thead>\n",
       "  <tbody>\n",
       "    <tr>\n",
       "      <th>2020-11-30 00:00:00-05:00</th>\n",
       "      <td>118.32</td>\n",
       "      <td>118.45</td>\n",
       "      <td>118.2500</td>\n",
       "      <td>118.400</td>\n",
       "      <td>5231566</td>\n",
       "      <td>362.83</td>\n",
       "      <td>363.12</td>\n",
       "      <td>359.17</td>\n",
       "      <td>362.0000</td>\n",
       "      <td>67154075</td>\n",
       "    </tr>\n",
       "    <tr>\n",
       "      <th>2020-12-01 00:00:00-05:00</th>\n",
       "      <td>118.03</td>\n",
       "      <td>118.10</td>\n",
       "      <td>117.7300</td>\n",
       "      <td>117.840</td>\n",
       "      <td>4308362</td>\n",
       "      <td>365.57</td>\n",
       "      <td>367.68</td>\n",
       "      <td>364.93</td>\n",
       "      <td>365.9700</td>\n",
       "      <td>64527332</td>\n",
       "    </tr>\n",
       "    <tr>\n",
       "      <th>2020-12-02 00:00:00-05:00</th>\n",
       "      <td>117.81</td>\n",
       "      <td>117.81</td>\n",
       "      <td>117.5400</td>\n",
       "      <td>117.705</td>\n",
       "      <td>5554915</td>\n",
       "      <td>364.82</td>\n",
       "      <td>366.96</td>\n",
       "      <td>364.20</td>\n",
       "      <td>366.7599</td>\n",
       "      <td>37323404</td>\n",
       "    </tr>\n",
       "    <tr>\n",
       "      <th>2020-12-03 00:00:00-05:00</th>\n",
       "      <td>117.92</td>\n",
       "      <td>117.98</td>\n",
       "      <td>117.7650</td>\n",
       "      <td>117.910</td>\n",
       "      <td>5210910</td>\n",
       "      <td>366.68</td>\n",
       "      <td>368.19</td>\n",
       "      <td>365.50</td>\n",
       "      <td>366.6698</td>\n",
       "      <td>52905586</td>\n",
       "    </tr>\n",
       "    <tr>\n",
       "      <th>2020-12-04 00:00:00-05:00</th>\n",
       "      <td>117.90</td>\n",
       "      <td>117.90</td>\n",
       "      <td>117.5133</td>\n",
       "      <td>117.580</td>\n",
       "      <td>4821820</td>\n",
       "      <td>367.32</td>\n",
       "      <td>369.85</td>\n",
       "      <td>367.22</td>\n",
       "      <td>369.8300</td>\n",
       "      <td>40264568</td>\n",
       "    </tr>\n",
       "  </tbody>\n",
       "</table></div>"
      ],
      "text/plain": [
       "                              AGG                                         SPY  \\\n",
       "                             open    high       low    close   volume    open   \n",
       "time                                                                            \n",
       "2020-11-30 00:00:00-05:00  118.32  118.45  118.2500  118.400  5231566  362.83   \n",
       "2020-12-01 00:00:00-05:00  118.03  118.10  117.7300  117.840  4308362  365.57   \n",
       "2020-12-02 00:00:00-05:00  117.81  117.81  117.5400  117.705  5554915  364.82   \n",
       "2020-12-03 00:00:00-05:00  117.92  117.98  117.7650  117.910  5210910  366.68   \n",
       "2020-12-04 00:00:00-05:00  117.90  117.90  117.5133  117.580  4821820  367.32   \n",
       "\n",
       "                                                               \n",
       "                             high     low     close    volume  \n",
       "time                                                           \n",
       "2020-11-30 00:00:00-05:00  363.12  359.17  362.0000  67154075  \n",
       "2020-12-01 00:00:00-05:00  367.68  364.93  365.9700  64527332  \n",
       "2020-12-02 00:00:00-05:00  366.96  364.20  366.7599  37323404  \n",
       "2020-12-03 00:00:00-05:00  368.19  365.50  366.6698  52905586  \n",
       "2020-12-04 00:00:00-05:00  369.85  367.22  369.8300  40264568  "
      ]
     },
     "metadata": {},
     "output_type": "display_data"
    },
    {
     "data": {
      "text/html": [
       "<div><div id=5e9098c5-e793-43fd-bdf7-5ee919ca58c3 style=\"display:none; background-color:#9D6CFF; color:white; width:200px; height:30px; padding-left:5px; border-radius:4px; flex-direction:row; justify-content:space-around; align-items:center;\" onmouseover=\"this.style.backgroundColor='#BA9BF8'\" onmouseout=\"this.style.backgroundColor='#9D6CFF'\" onclick=\"window.commands?.execute('create-mitosheet-from-dataframe-output');\">See Full Dataframe in Mito</div> <script> if (window.commands.hasCommand('create-mitosheet-from-dataframe-output')) document.getElementById('5e9098c5-e793-43fd-bdf7-5ee919ca58c3').style.display = 'flex' </script> <table border=\"1\" class=\"dataframe\">\n",
       "  <thead>\n",
       "    <tr>\n",
       "      <th></th>\n",
       "      <th colspan=\"5\" halign=\"left\">AGG</th>\n",
       "      <th colspan=\"5\" halign=\"left\">SPY</th>\n",
       "    </tr>\n",
       "    <tr>\n",
       "      <th></th>\n",
       "      <th>open</th>\n",
       "      <th>high</th>\n",
       "      <th>low</th>\n",
       "      <th>close</th>\n",
       "      <th>volume</th>\n",
       "      <th>open</th>\n",
       "      <th>high</th>\n",
       "      <th>low</th>\n",
       "      <th>close</th>\n",
       "      <th>volume</th>\n",
       "    </tr>\n",
       "    <tr>\n",
       "      <th>time</th>\n",
       "      <th></th>\n",
       "      <th></th>\n",
       "      <th></th>\n",
       "      <th></th>\n",
       "      <th></th>\n",
       "      <th></th>\n",
       "      <th></th>\n",
       "      <th></th>\n",
       "      <th></th>\n",
       "      <th></th>\n",
       "    </tr>\n",
       "  </thead>\n",
       "  <tbody>\n",
       "    <tr>\n",
       "      <th>2021-11-23 00:00:00-05:00</th>\n",
       "      <td>113.71</td>\n",
       "      <td>113.7700</td>\n",
       "      <td>113.4500</td>\n",
       "      <td>113.450</td>\n",
       "      <td>5835080</td>\n",
       "      <td>467.22</td>\n",
       "      <td>469.095</td>\n",
       "      <td>464.45</td>\n",
       "      <td>468.25</td>\n",
       "      <td>62851184</td>\n",
       "    </tr>\n",
       "    <tr>\n",
       "      <th>2021-11-24 00:00:00-05:00</th>\n",
       "      <td>113.47</td>\n",
       "      <td>113.7250</td>\n",
       "      <td>113.3905</td>\n",
       "      <td>113.720</td>\n",
       "      <td>5959367</td>\n",
       "      <td>466.06</td>\n",
       "      <td>469.570</td>\n",
       "      <td>465.19</td>\n",
       "      <td>469.37</td>\n",
       "      <td>54274217</td>\n",
       "    </tr>\n",
       "    <tr>\n",
       "      <th>2021-11-26 00:00:00-05:00</th>\n",
       "      <td>114.28</td>\n",
       "      <td>114.5769</td>\n",
       "      <td>114.2000</td>\n",
       "      <td>114.540</td>\n",
       "      <td>2886169</td>\n",
       "      <td>462.38</td>\n",
       "      <td>463.900</td>\n",
       "      <td>457.77</td>\n",
       "      <td>459.03</td>\n",
       "      <td>93783057</td>\n",
       "    </tr>\n",
       "    <tr>\n",
       "      <th>2021-11-29 00:00:00-05:00</th>\n",
       "      <td>114.15</td>\n",
       "      <td>114.6000</td>\n",
       "      <td>114.1300</td>\n",
       "      <td>114.550</td>\n",
       "      <td>7604952</td>\n",
       "      <td>464.07</td>\n",
       "      <td>466.560</td>\n",
       "      <td>461.73</td>\n",
       "      <td>464.63</td>\n",
       "      <td>68239627</td>\n",
       "    </tr>\n",
       "    <tr>\n",
       "      <th>2021-11-30 00:00:00-05:00</th>\n",
       "      <td>114.87</td>\n",
       "      <td>115.1074</td>\n",
       "      <td>114.5000</td>\n",
       "      <td>114.765</td>\n",
       "      <td>10624796</td>\n",
       "      <td>462.00</td>\n",
       "      <td>464.030</td>\n",
       "      <td>455.30</td>\n",
       "      <td>455.78</td>\n",
       "      <td>126381409</td>\n",
       "    </tr>\n",
       "  </tbody>\n",
       "</table></div>"
      ],
      "text/plain": [
       "                              AGG                                         \\\n",
       "                             open      high       low    close    volume   \n",
       "time                                                                       \n",
       "2021-11-23 00:00:00-05:00  113.71  113.7700  113.4500  113.450   5835080   \n",
       "2021-11-24 00:00:00-05:00  113.47  113.7250  113.3905  113.720   5959367   \n",
       "2021-11-26 00:00:00-05:00  114.28  114.5769  114.2000  114.540   2886169   \n",
       "2021-11-29 00:00:00-05:00  114.15  114.6000  114.1300  114.550   7604952   \n",
       "2021-11-30 00:00:00-05:00  114.87  115.1074  114.5000  114.765  10624796   \n",
       "\n",
       "                              SPY                                      \n",
       "                             open     high     low   close     volume  \n",
       "time                                                                   \n",
       "2021-11-23 00:00:00-05:00  467.22  469.095  464.45  468.25   62851184  \n",
       "2021-11-24 00:00:00-05:00  466.06  469.570  465.19  469.37   54274217  \n",
       "2021-11-26 00:00:00-05:00  462.38  463.900  457.77  459.03   93783057  \n",
       "2021-11-29 00:00:00-05:00  464.07  466.560  461.73  464.63   68239627  \n",
       "2021-11-30 00:00:00-05:00  462.00  464.030  455.30  455.78  126381409  "
      ]
     },
     "metadata": {},
     "output_type": "display_data"
    }
   ],
   "source": [
    "# Use the Alpaca get_barset function to make the API call to get the 10 years worth of pricing data\n",
    "# The tickers and timeframe parameters should have been set in Part 1 of this activity \n",
    "# The start and end dates should be updated with the information set above\n",
    "# Remember to add the df property to the end of the call so the response is returned as a DataFrame\n",
    "stock_and_bond_portfolio = alpaca.get_barset(\n",
    "    tickers,\n",
    "    timeframe,\n",
    "    start=start_date,\n",
    "    end=end_date,\n",
    "    limit=1000\n",
    ").df\n",
    "\n",
    "# Display both the first and last five rows of the DataFrame\n",
    "display(stock_and_bond_portfolio.head())\n",
    "display(stock_and_bond_portfolio.tail())"
   ]
  },
  {
   "cell_type": "markdown",
   "metadata": {},
   "source": [
    "#### Step 2: Run a Monte Carlo simulation of 500 samples and 30 years for the 60/40 portfolio, and then plot the results."
   ]
  },
  {
   "cell_type": "code",
   "execution_count": 39,
   "metadata": {},
   "outputs": [],
   "source": [
    "# Configure the Monte Carlo simulation to forecast 30 years cumulative returns\n",
    "# The weights should be split 40% to AGG and 60% to SPY.\n",
    "# Run 500 samples.\n",
    "num_sims = 500\n",
    "\n",
    "# Review the simulation input data\n",
    "thirty_year_simulation = MCSimulation(\n",
    "    portfolio_data=stock_and_bond_portfolio,\n",
    "    weights=[0.60, 0.40],\n",
    "    num_simulation=num_sims,\n",
    "    num_trading_days=252*30\n",
    ")"
   ]
  },
  {
   "cell_type": "code",
   "execution_count": 40,
   "metadata": {},
   "outputs": [
    {
     "name": "stdout",
     "output_type": "stream",
     "text": [
      "Running Monte Carlo simulation number 0.\n",
      "Running Monte Carlo simulation number 10.\n",
      "Running Monte Carlo simulation number 20.\n",
      "Running Monte Carlo simulation number 30.\n",
      "Running Monte Carlo simulation number 40.\n",
      "Running Monte Carlo simulation number 50.\n",
      "Running Monte Carlo simulation number 60.\n",
      "Running Monte Carlo simulation number 70.\n",
      "Running Monte Carlo simulation number 80.\n",
      "Running Monte Carlo simulation number 90.\n",
      "Running Monte Carlo simulation number 100.\n",
      "Running Monte Carlo simulation number 110.\n",
      "Running Monte Carlo simulation number 120.\n",
      "Running Monte Carlo simulation number 130.\n",
      "Running Monte Carlo simulation number 140.\n",
      "Running Monte Carlo simulation number 150.\n",
      "Running Monte Carlo simulation number 160.\n",
      "Running Monte Carlo simulation number 170.\n",
      "Running Monte Carlo simulation number 180.\n",
      "Running Monte Carlo simulation number 190.\n",
      "Running Monte Carlo simulation number 200.\n",
      "Running Monte Carlo simulation number 210.\n",
      "Running Monte Carlo simulation number 220.\n",
      "Running Monte Carlo simulation number 230.\n",
      "Running Monte Carlo simulation number 240.\n",
      "Running Monte Carlo simulation number 250.\n",
      "Running Monte Carlo simulation number 260.\n",
      "Running Monte Carlo simulation number 270.\n",
      "Running Monte Carlo simulation number 280.\n",
      "Running Monte Carlo simulation number 290.\n",
      "Running Monte Carlo simulation number 300.\n",
      "Running Monte Carlo simulation number 310.\n",
      "Running Monte Carlo simulation number 320.\n",
      "Running Monte Carlo simulation number 330.\n",
      "Running Monte Carlo simulation number 340.\n",
      "Running Monte Carlo simulation number 350.\n",
      "Running Monte Carlo simulation number 360.\n",
      "Running Monte Carlo simulation number 370.\n",
      "Running Monte Carlo simulation number 380.\n",
      "Running Monte Carlo simulation number 390.\n",
      "Running Monte Carlo simulation number 400.\n",
      "Running Monte Carlo simulation number 410.\n",
      "Running Monte Carlo simulation number 420.\n",
      "Running Monte Carlo simulation number 430.\n",
      "Running Monte Carlo simulation number 440.\n",
      "Running Monte Carlo simulation number 450.\n",
      "Running Monte Carlo simulation number 460.\n",
      "Running Monte Carlo simulation number 470.\n",
      "Running Monte Carlo simulation number 480.\n",
      "Running Monte Carlo simulation number 490.\n"
     ]
    },
    {
     "data": {
      "text/html": [
       "<div><div id=8c34a1bd-af40-456c-8d70-1fd009d15472 style=\"display:none; background-color:#9D6CFF; color:white; width:200px; height:30px; padding-left:5px; border-radius:4px; flex-direction:row; justify-content:space-around; align-items:center;\" onmouseover=\"this.style.backgroundColor='#BA9BF8'\" onmouseout=\"this.style.backgroundColor='#9D6CFF'\" onclick=\"window.commands?.execute('create-mitosheet-from-dataframe-output');\">See Full Dataframe in Mito</div> <script> if (window.commands.hasCommand('create-mitosheet-from-dataframe-output')) document.getElementById('8c34a1bd-af40-456c-8d70-1fd009d15472').style.display = 'flex' </script> <table border=\"1\" class=\"dataframe\">\n",
       "  <thead>\n",
       "    <tr style=\"text-align: right;\">\n",
       "      <th></th>\n",
       "      <th>0</th>\n",
       "      <th>1</th>\n",
       "      <th>2</th>\n",
       "      <th>3</th>\n",
       "      <th>4</th>\n",
       "      <th>5</th>\n",
       "      <th>6</th>\n",
       "      <th>7</th>\n",
       "      <th>8</th>\n",
       "      <th>9</th>\n",
       "      <th>...</th>\n",
       "      <th>490</th>\n",
       "      <th>491</th>\n",
       "      <th>492</th>\n",
       "      <th>493</th>\n",
       "      <th>494</th>\n",
       "      <th>495</th>\n",
       "      <th>496</th>\n",
       "      <th>497</th>\n",
       "      <th>498</th>\n",
       "      <th>499</th>\n",
       "    </tr>\n",
       "  </thead>\n",
       "  <tbody>\n",
       "    <tr>\n",
       "      <th>0</th>\n",
       "      <td>1.000000</td>\n",
       "      <td>1.000000</td>\n",
       "      <td>1.000000</td>\n",
       "      <td>1.000000</td>\n",
       "      <td>1.000000</td>\n",
       "      <td>1.000000</td>\n",
       "      <td>1.000000</td>\n",
       "      <td>1.000000</td>\n",
       "      <td>1.000000</td>\n",
       "      <td>1.000000</td>\n",
       "      <td>...</td>\n",
       "      <td>1.000000</td>\n",
       "      <td>1.000000</td>\n",
       "      <td>1.000000</td>\n",
       "      <td>1.000000</td>\n",
       "      <td>1.000000</td>\n",
       "      <td>1.000000</td>\n",
       "      <td>1.000000</td>\n",
       "      <td>1.000000</td>\n",
       "      <td>1.000000</td>\n",
       "      <td>1.000000</td>\n",
       "    </tr>\n",
       "    <tr>\n",
       "      <th>1</th>\n",
       "      <td>0.999152</td>\n",
       "      <td>0.990980</td>\n",
       "      <td>0.999814</td>\n",
       "      <td>1.005792</td>\n",
       "      <td>0.999902</td>\n",
       "      <td>0.995885</td>\n",
       "      <td>1.008546</td>\n",
       "      <td>1.000540</td>\n",
       "      <td>0.996880</td>\n",
       "      <td>1.002495</td>\n",
       "      <td>...</td>\n",
       "      <td>1.001946</td>\n",
       "      <td>1.003450</td>\n",
       "      <td>1.001583</td>\n",
       "      <td>1.004763</td>\n",
       "      <td>1.000392</td>\n",
       "      <td>0.994290</td>\n",
       "      <td>0.999769</td>\n",
       "      <td>1.000060</td>\n",
       "      <td>0.997090</td>\n",
       "      <td>0.998652</td>\n",
       "    </tr>\n",
       "    <tr>\n",
       "      <th>2</th>\n",
       "      <td>1.001221</td>\n",
       "      <td>0.989958</td>\n",
       "      <td>1.001357</td>\n",
       "      <td>1.002968</td>\n",
       "      <td>0.994561</td>\n",
       "      <td>1.000616</td>\n",
       "      <td>1.007113</td>\n",
       "      <td>0.999946</td>\n",
       "      <td>0.995095</td>\n",
       "      <td>1.005843</td>\n",
       "      <td>...</td>\n",
       "      <td>1.004083</td>\n",
       "      <td>1.008858</td>\n",
       "      <td>1.004137</td>\n",
       "      <td>1.001573</td>\n",
       "      <td>1.000162</td>\n",
       "      <td>0.988396</td>\n",
       "      <td>1.001638</td>\n",
       "      <td>0.994293</td>\n",
       "      <td>0.989057</td>\n",
       "      <td>0.998349</td>\n",
       "    </tr>\n",
       "    <tr>\n",
       "      <th>3</th>\n",
       "      <td>0.996660</td>\n",
       "      <td>0.993804</td>\n",
       "      <td>1.002187</td>\n",
       "      <td>1.004296</td>\n",
       "      <td>0.994225</td>\n",
       "      <td>0.998295</td>\n",
       "      <td>1.006960</td>\n",
       "      <td>1.005035</td>\n",
       "      <td>0.993000</td>\n",
       "      <td>1.002535</td>\n",
       "      <td>...</td>\n",
       "      <td>1.004408</td>\n",
       "      <td>1.005745</td>\n",
       "      <td>1.004352</td>\n",
       "      <td>1.000143</td>\n",
       "      <td>0.997780</td>\n",
       "      <td>0.991396</td>\n",
       "      <td>1.007814</td>\n",
       "      <td>0.996484</td>\n",
       "      <td>0.989452</td>\n",
       "      <td>0.996772</td>\n",
       "    </tr>\n",
       "    <tr>\n",
       "      <th>4</th>\n",
       "      <td>0.999844</td>\n",
       "      <td>0.996665</td>\n",
       "      <td>1.004056</td>\n",
       "      <td>1.007268</td>\n",
       "      <td>0.993597</td>\n",
       "      <td>0.992531</td>\n",
       "      <td>1.000075</td>\n",
       "      <td>1.009167</td>\n",
       "      <td>0.996557</td>\n",
       "      <td>1.002385</td>\n",
       "      <td>...</td>\n",
       "      <td>1.005713</td>\n",
       "      <td>1.008908</td>\n",
       "      <td>1.004716</td>\n",
       "      <td>1.002862</td>\n",
       "      <td>0.999609</td>\n",
       "      <td>0.987950</td>\n",
       "      <td>1.009838</td>\n",
       "      <td>0.996856</td>\n",
       "      <td>0.996301</td>\n",
       "      <td>0.998963</td>\n",
       "    </tr>\n",
       "    <tr>\n",
       "      <th>...</th>\n",
       "      <td>...</td>\n",
       "      <td>...</td>\n",
       "      <td>...</td>\n",
       "      <td>...</td>\n",
       "      <td>...</td>\n",
       "      <td>...</td>\n",
       "      <td>...</td>\n",
       "      <td>...</td>\n",
       "      <td>...</td>\n",
       "      <td>...</td>\n",
       "      <td>...</td>\n",
       "      <td>...</td>\n",
       "      <td>...</td>\n",
       "      <td>...</td>\n",
       "      <td>...</td>\n",
       "      <td>...</td>\n",
       "      <td>...</td>\n",
       "      <td>...</td>\n",
       "      <td>...</td>\n",
       "      <td>...</td>\n",
       "      <td>...</td>\n",
       "    </tr>\n",
       "    <tr>\n",
       "      <th>7556</th>\n",
       "      <td>18.956054</td>\n",
       "      <td>12.051287</td>\n",
       "      <td>7.788529</td>\n",
       "      <td>10.835682</td>\n",
       "      <td>13.207064</td>\n",
       "      <td>6.252793</td>\n",
       "      <td>11.780645</td>\n",
       "      <td>10.060341</td>\n",
       "      <td>7.841474</td>\n",
       "      <td>14.345575</td>\n",
       "      <td>...</td>\n",
       "      <td>11.735514</td>\n",
       "      <td>10.771853</td>\n",
       "      <td>7.693503</td>\n",
       "      <td>11.224814</td>\n",
       "      <td>7.306741</td>\n",
       "      <td>9.529265</td>\n",
       "      <td>8.238456</td>\n",
       "      <td>7.828394</td>\n",
       "      <td>10.559359</td>\n",
       "      <td>9.117702</td>\n",
       "    </tr>\n",
       "    <tr>\n",
       "      <th>7557</th>\n",
       "      <td>18.935190</td>\n",
       "      <td>12.060487</td>\n",
       "      <td>7.769849</td>\n",
       "      <td>10.845700</td>\n",
       "      <td>13.175821</td>\n",
       "      <td>6.254447</td>\n",
       "      <td>11.806259</td>\n",
       "      <td>10.071979</td>\n",
       "      <td>7.816422</td>\n",
       "      <td>14.282097</td>\n",
       "      <td>...</td>\n",
       "      <td>11.733651</td>\n",
       "      <td>10.815973</td>\n",
       "      <td>7.716794</td>\n",
       "      <td>11.184957</td>\n",
       "      <td>7.313355</td>\n",
       "      <td>9.557264</td>\n",
       "      <td>8.236413</td>\n",
       "      <td>7.830718</td>\n",
       "      <td>10.571044</td>\n",
       "      <td>9.106517</td>\n",
       "    </tr>\n",
       "    <tr>\n",
       "      <th>7558</th>\n",
       "      <td>19.001775</td>\n",
       "      <td>12.079335</td>\n",
       "      <td>7.741283</td>\n",
       "      <td>10.866531</td>\n",
       "      <td>13.166124</td>\n",
       "      <td>6.229722</td>\n",
       "      <td>11.788520</td>\n",
       "      <td>10.050321</td>\n",
       "      <td>7.769302</td>\n",
       "      <td>14.272762</td>\n",
       "      <td>...</td>\n",
       "      <td>11.856813</td>\n",
       "      <td>10.746779</td>\n",
       "      <td>7.734530</td>\n",
       "      <td>11.216237</td>\n",
       "      <td>7.343372</td>\n",
       "      <td>9.531262</td>\n",
       "      <td>8.266864</td>\n",
       "      <td>7.827531</td>\n",
       "      <td>10.580530</td>\n",
       "      <td>9.137085</td>\n",
       "    </tr>\n",
       "    <tr>\n",
       "      <th>7559</th>\n",
       "      <td>18.968782</td>\n",
       "      <td>12.099627</td>\n",
       "      <td>7.760083</td>\n",
       "      <td>10.886474</td>\n",
       "      <td>13.202601</td>\n",
       "      <td>6.217771</td>\n",
       "      <td>11.763956</td>\n",
       "      <td>9.983888</td>\n",
       "      <td>7.786940</td>\n",
       "      <td>14.206813</td>\n",
       "      <td>...</td>\n",
       "      <td>11.891161</td>\n",
       "      <td>10.769473</td>\n",
       "      <td>7.699963</td>\n",
       "      <td>11.232950</td>\n",
       "      <td>7.352298</td>\n",
       "      <td>9.565252</td>\n",
       "      <td>8.280054</td>\n",
       "      <td>7.847363</td>\n",
       "      <td>10.633004</td>\n",
       "      <td>9.130757</td>\n",
       "    </tr>\n",
       "    <tr>\n",
       "      <th>7560</th>\n",
       "      <td>18.991191</td>\n",
       "      <td>12.130505</td>\n",
       "      <td>7.726171</td>\n",
       "      <td>10.888799</td>\n",
       "      <td>13.247212</td>\n",
       "      <td>6.199068</td>\n",
       "      <td>11.765126</td>\n",
       "      <td>10.015711</td>\n",
       "      <td>7.783479</td>\n",
       "      <td>14.258746</td>\n",
       "      <td>...</td>\n",
       "      <td>11.909712</td>\n",
       "      <td>10.719976</td>\n",
       "      <td>7.701138</td>\n",
       "      <td>11.201335</td>\n",
       "      <td>7.368275</td>\n",
       "      <td>9.612291</td>\n",
       "      <td>8.244448</td>\n",
       "      <td>7.871218</td>\n",
       "      <td>10.639804</td>\n",
       "      <td>9.150011</td>\n",
       "    </tr>\n",
       "  </tbody>\n",
       "</table></div>"
      ],
      "text/plain": [
       "            0          1         2          3          4         5    \\\n",
       "0      1.000000   1.000000  1.000000   1.000000   1.000000  1.000000   \n",
       "1      0.999152   0.990980  0.999814   1.005792   0.999902  0.995885   \n",
       "2      1.001221   0.989958  1.001357   1.002968   0.994561  1.000616   \n",
       "3      0.996660   0.993804  1.002187   1.004296   0.994225  0.998295   \n",
       "4      0.999844   0.996665  1.004056   1.007268   0.993597  0.992531   \n",
       "...         ...        ...       ...        ...        ...       ...   \n",
       "7556  18.956054  12.051287  7.788529  10.835682  13.207064  6.252793   \n",
       "7557  18.935190  12.060487  7.769849  10.845700  13.175821  6.254447   \n",
       "7558  19.001775  12.079335  7.741283  10.866531  13.166124  6.229722   \n",
       "7559  18.968782  12.099627  7.760083  10.886474  13.202601  6.217771   \n",
       "7560  18.991191  12.130505  7.726171  10.888799  13.247212  6.199068   \n",
       "\n",
       "            6          7         8          9    ...        490        491  \\\n",
       "0      1.000000   1.000000  1.000000   1.000000  ...   1.000000   1.000000   \n",
       "1      1.008546   1.000540  0.996880   1.002495  ...   1.001946   1.003450   \n",
       "2      1.007113   0.999946  0.995095   1.005843  ...   1.004083   1.008858   \n",
       "3      1.006960   1.005035  0.993000   1.002535  ...   1.004408   1.005745   \n",
       "4      1.000075   1.009167  0.996557   1.002385  ...   1.005713   1.008908   \n",
       "...         ...        ...       ...        ...  ...        ...        ...   \n",
       "7556  11.780645  10.060341  7.841474  14.345575  ...  11.735514  10.771853   \n",
       "7557  11.806259  10.071979  7.816422  14.282097  ...  11.733651  10.815973   \n",
       "7558  11.788520  10.050321  7.769302  14.272762  ...  11.856813  10.746779   \n",
       "7559  11.763956   9.983888  7.786940  14.206813  ...  11.891161  10.769473   \n",
       "7560  11.765126  10.015711  7.783479  14.258746  ...  11.909712  10.719976   \n",
       "\n",
       "           492        493       494       495       496       497        498  \\\n",
       "0     1.000000   1.000000  1.000000  1.000000  1.000000  1.000000   1.000000   \n",
       "1     1.001583   1.004763  1.000392  0.994290  0.999769  1.000060   0.997090   \n",
       "2     1.004137   1.001573  1.000162  0.988396  1.001638  0.994293   0.989057   \n",
       "3     1.004352   1.000143  0.997780  0.991396  1.007814  0.996484   0.989452   \n",
       "4     1.004716   1.002862  0.999609  0.987950  1.009838  0.996856   0.996301   \n",
       "...        ...        ...       ...       ...       ...       ...        ...   \n",
       "7556  7.693503  11.224814  7.306741  9.529265  8.238456  7.828394  10.559359   \n",
       "7557  7.716794  11.184957  7.313355  9.557264  8.236413  7.830718  10.571044   \n",
       "7558  7.734530  11.216237  7.343372  9.531262  8.266864  7.827531  10.580530   \n",
       "7559  7.699963  11.232950  7.352298  9.565252  8.280054  7.847363  10.633004   \n",
       "7560  7.701138  11.201335  7.368275  9.612291  8.244448  7.871218  10.639804   \n",
       "\n",
       "           499  \n",
       "0     1.000000  \n",
       "1     0.998652  \n",
       "2     0.998349  \n",
       "3     0.996772  \n",
       "4     0.998963  \n",
       "...        ...  \n",
       "7556  9.117702  \n",
       "7557  9.106517  \n",
       "7558  9.137085  \n",
       "7559  9.130757  \n",
       "7560  9.150011  \n",
       "\n",
       "[7561 rows x 500 columns]"
      ]
     },
     "execution_count": 40,
     "metadata": {},
     "output_type": "execute_result"
    }
   ],
   "source": [
    "# Run the Monte Carlo simulation to forecast 30 years cumulative returns\n",
    "thirty_year_simulation.calc_cumulative_return()\n"
   ]
  },
  {
   "cell_type": "code",
   "execution_count": 41,
   "metadata": {},
   "outputs": [
    {
     "data": {
      "image/png": "[encoded data removed]",
      "text/plain": [
       "<Figure size 432x288 with 1 Axes>"
      ]
     },
     "metadata": {
      "needs_background": "light"
     },
     "output_type": "display_data"
    }
   ],
   "source": [
    "# Visualize the 30-year Monte Carlo simulation by creating an\n",
    "# overlay line plot\n",
    "line_plot_1 = thirty_year_simulation.plot_simulation()"
   ]
  },
  {
   "cell_type": "markdown",
   "metadata": {},
   "source": [
    "#### Step 3: Plot the probability distribution of the Monte Carlo simulation."
   ]
  },
  {
   "cell_type": "code",
   "execution_count": 42,
   "metadata": {},
   "outputs": [
    {
     "data": {
      "text/plain": [
       "<AxesSubplot:title={'center':'Distribution of Final Cumuluative Returns Across All 500 Simulations'}, ylabel='Frequency'>"
      ]
     },
     "execution_count": 42,
     "metadata": {},
     "output_type": "execute_result"
    },
    {
     "data": {
      "image/png": "[encoded data removed]",
      "text/plain": [
       "<Figure size 432x288 with 1 Axes>"
      ]
     },
     "metadata": {
      "needs_background": "light"
     },
     "output_type": "display_data"
    }
   ],
   "source": [
    "# Visualize the probability distribution of the 30-year Monte Carlo simulation \n",
    "# by plotting a histogram\n",
    "thirty_year_simulation.plot_distribution()"
   ]
  },
  {
   "cell_type": "markdown",
   "metadata": {},
   "source": [
    "#### Step 4: Generate the summary statistics for the Monte Carlo simulation."
   ]
  },
  {
   "cell_type": "code",
   "execution_count": 43,
   "metadata": {},
   "outputs": [
    {
     "name": "stdout",
     "output_type": "stream",
     "text": [
      "count           500.000000\n",
      "mean              9.836645\n",
      "std               2.938133\n",
      "min               3.309531\n",
      "25%               7.761535\n",
      "50%               9.356371\n",
      "75%              11.481982\n",
      "max              26.130542\n",
      "95% CI Lower      5.320815\n",
      "95% CI Upper     16.307717\n",
      "Name: 7560, dtype: float64\n"
     ]
    }
   ],
   "source": [
    "# Generate summary statistics from the 30-year Monte Carlo simulation results\n",
    "# Save the results as a variable\n",
    "thirty_year_simulation_summary_stats = thirty_year_simulation.summarize_cumulative_return()\n",
    "\n",
    "# Review the 30-year Monte Carlo summary statistics\n",
    "print(thirty_year_simulation_summary_stats)"
   ]
  },
  {
   "cell_type": "markdown",
   "metadata": {},
   "source": [
    "### Analyze the Retirement Portfolio Forecasts\n",
    "\n",
    "Using the current value of only the stock and bond portion of the member's portfolio and the summary statistics that you generated from the Monte Carlo simulation, answer the following question in your Jupyter notebook:\n",
    "\n",
    "-  What are the lower and upper bounds for the expected value of the portfolio with a 95% confidence interval?\n"
   ]
  },
  {
   "cell_type": "code",
   "execution_count": 44,
   "metadata": {},
   "outputs": [
    {
     "name": "stdout",
     "output_type": "stream",
     "text": [
      "73088.79999999999\n"
     ]
    }
   ],
   "source": [
    "# Print the current balance of the stock and bond portion of the members portfolio\n",
    "print(total_stocks_bonds)\n"
   ]
  },
  {
   "cell_type": "code",
   "execution_count": 45,
   "metadata": {},
   "outputs": [
    {
     "data": {
      "text/plain": [
       "5.32"
      ]
     },
     "metadata": {},
     "output_type": "display_data"
    },
    {
     "data": {
      "text/plain": [
       "16.31"
      ]
     },
     "metadata": {},
     "output_type": "display_data"
    }
   ],
   "source": [
    "# Use the lower and upper `95%` confidence intervals to calculate the range of the possible outcomes for the current stock/bond portfolio\n",
    "ci_lower_thirty_cumulative_return = round(thirty_year_simulation_summary_stats[8],2)\n",
    "ci_upper_thirty_cumulative_return = round(thirty_year_simulation_summary_stats[9],2)\n",
    "\n",
    "# Print the result of your calculations\n",
    "display(ci_lower_thirty_cumulative_return)\n",
    "display(ci_upper_thirty_cumulative_return)\n"
   ]
  },
  {
   "cell_type": "markdown",
   "metadata": {},
   "source": [
    "### Forecast Cumulative Returns in 10 Years\n",
    "\n",
    "The CTO of the credit union is impressed with your work on these planning tools but wonders if 30 years is a long time to wait until retirement. So, your next task is to adjust the retirement portfolio and run a new Monte Carlo simulation to find out if the changes will allow members to retire earlier.\n",
    "\n",
    "For this new Monte Carlo simulation, do the following: \n",
    "\n",
    "- Forecast the cumulative returns for 10 years from now. Because of the shortened investment horizon (30 years to 10 years), the portfolio needs to invest more heavily in the riskier asset&mdash;that is, stock&mdash;to help accumulate wealth for retirement. \n",
    "\n",
    "- Adjust the weights of the retirement portfolio so that the composition for the Monte Carlo simulation consists of 20% bonds and 80% stocks. \n",
    "\n",
    "- Run the simulation over 500 samples, and use the same data that the API call to Alpaca generated.\n",
    "\n",
    "- Based on the new Monte Carlo simulation, answer the following questions in your Jupyter notebook:\n",
    "\n",
    "    - Using the current value of only the stock and bond portion of the member's portfolio and the summary statistics that you generated from the new Monte Carlo simulation, what are the lower and upper bounds for the expected value of the portfolio (with the new weights) with a 95% confidence interval?\n",
    "\n",
    "    - Will weighting the portfolio more heavily toward stocks allow the credit union members to retire after only 10 years?\n"
   ]
  },
  {
   "cell_type": "code",
   "execution_count": 46,
   "metadata": {},
   "outputs": [
    {
     "name": "stdout",
     "output_type": "stream",
     "text": [
      "Running Monte Carlo simulation number 0.\n",
      "Running Monte Carlo simulation number 10.\n",
      "Running Monte Carlo simulation number 20.\n",
      "Running Monte Carlo simulation number 30.\n",
      "Running Monte Carlo simulation number 40.\n",
      "Running Monte Carlo simulation number 50.\n",
      "Running Monte Carlo simulation number 60.\n",
      "Running Monte Carlo simulation number 70.\n",
      "Running Monte Carlo simulation number 80.\n",
      "Running Monte Carlo simulation number 90.\n",
      "Running Monte Carlo simulation number 100.\n",
      "Running Monte Carlo simulation number 110.\n",
      "Running Monte Carlo simulation number 120.\n",
      "Running Monte Carlo simulation number 130.\n",
      "Running Monte Carlo simulation number 140.\n",
      "Running Monte Carlo simulation number 150.\n",
      "Running Monte Carlo simulation number 160.\n",
      "Running Monte Carlo simulation number 170.\n",
      "Running Monte Carlo simulation number 180.\n",
      "Running Monte Carlo simulation number 190.\n",
      "Running Monte Carlo simulation number 200.\n",
      "Running Monte Carlo simulation number 210.\n",
      "Running Monte Carlo simulation number 220.\n",
      "Running Monte Carlo simulation number 230.\n",
      "Running Monte Carlo simulation number 240.\n",
      "Running Monte Carlo simulation number 250.\n",
      "Running Monte Carlo simulation number 260.\n",
      "Running Monte Carlo simulation number 270.\n",
      "Running Monte Carlo simulation number 280.\n",
      "Running Monte Carlo simulation number 290.\n",
      "Running Monte Carlo simulation number 300.\n",
      "Running Monte Carlo simulation number 310.\n",
      "Running Monte Carlo simulation number 320.\n",
      "Running Monte Carlo simulation number 330.\n",
      "Running Monte Carlo simulation number 340.\n",
      "Running Monte Carlo simulation number 350.\n",
      "Running Monte Carlo simulation number 360.\n",
      "Running Monte Carlo simulation number 370.\n",
      "Running Monte Carlo simulation number 380.\n",
      "Running Monte Carlo simulation number 390.\n",
      "Running Monte Carlo simulation number 400.\n",
      "Running Monte Carlo simulation number 410.\n",
      "Running Monte Carlo simulation number 420.\n",
      "Running Monte Carlo simulation number 430.\n",
      "Running Monte Carlo simulation number 440.\n",
      "Running Monte Carlo simulation number 450.\n",
      "Running Monte Carlo simulation number 460.\n",
      "Running Monte Carlo simulation number 470.\n",
      "Running Monte Carlo simulation number 480.\n",
      "Running Monte Carlo simulation number 490.\n"
     ]
    },
    {
     "data": {
      "text/html": [
       "<div><div id=4889f2e5-ea8f-41e3-9008-84156f779c05 style=\"display:none; background-color:#9D6CFF; color:white; width:200px; height:30px; padding-left:5px; border-radius:4px; flex-direction:row; justify-content:space-around; align-items:center;\" onmouseover=\"this.style.backgroundColor='#BA9BF8'\" onmouseout=\"this.style.backgroundColor='#9D6CFF'\" onclick=\"window.commands?.execute('create-mitosheet-from-dataframe-output');\">See Full Dataframe in Mito</div> <script> if (window.commands.hasCommand('create-mitosheet-from-dataframe-output')) document.getElementById('4889f2e5-ea8f-41e3-9008-84156f779c05').style.display = 'flex' </script> <table border=\"1\" class=\"dataframe\">\n",
       "  <thead>\n",
       "    <tr style=\"text-align: right;\">\n",
       "      <th></th>\n",
       "      <th>0</th>\n",
       "      <th>1</th>\n",
       "      <th>2</th>\n",
       "      <th>3</th>\n",
       "      <th>4</th>\n",
       "      <th>5</th>\n",
       "      <th>6</th>\n",
       "      <th>7</th>\n",
       "      <th>8</th>\n",
       "      <th>9</th>\n",
       "      <th>...</th>\n",
       "      <th>490</th>\n",
       "      <th>491</th>\n",
       "      <th>492</th>\n",
       "      <th>493</th>\n",
       "      <th>494</th>\n",
       "      <th>495</th>\n",
       "      <th>496</th>\n",
       "      <th>497</th>\n",
       "      <th>498</th>\n",
       "      <th>499</th>\n",
       "    </tr>\n",
       "  </thead>\n",
       "  <tbody>\n",
       "    <tr>\n",
       "      <th>0</th>\n",
       "      <td>1.000000</td>\n",
       "      <td>1.000000</td>\n",
       "      <td>1.000000</td>\n",
       "      <td>1.000000</td>\n",
       "      <td>1.000000</td>\n",
       "      <td>1.000000</td>\n",
       "      <td>1.000000</td>\n",
       "      <td>1.000000</td>\n",
       "      <td>1.000000</td>\n",
       "      <td>1.000000</td>\n",
       "      <td>...</td>\n",
       "      <td>1.000000</td>\n",
       "      <td>1.000000</td>\n",
       "      <td>1.000000</td>\n",
       "      <td>1.000000</td>\n",
       "      <td>1.000000</td>\n",
       "      <td>1.000000</td>\n",
       "      <td>1.000000</td>\n",
       "      <td>1.000000</td>\n",
       "      <td>1.000000</td>\n",
       "      <td>1.000000</td>\n",
       "    </tr>\n",
       "    <tr>\n",
       "      <th>1</th>\n",
       "      <td>0.997771</td>\n",
       "      <td>0.999981</td>\n",
       "      <td>1.001292</td>\n",
       "      <td>0.998253</td>\n",
       "      <td>1.001275</td>\n",
       "      <td>1.004091</td>\n",
       "      <td>1.000204</td>\n",
       "      <td>0.998783</td>\n",
       "      <td>1.004311</td>\n",
       "      <td>1.001203</td>\n",
       "      <td>...</td>\n",
       "      <td>1.001539</td>\n",
       "      <td>1.002235</td>\n",
       "      <td>1.001584</td>\n",
       "      <td>0.995175</td>\n",
       "      <td>0.998405</td>\n",
       "      <td>0.999051</td>\n",
       "      <td>0.998164</td>\n",
       "      <td>0.996988</td>\n",
       "      <td>0.998877</td>\n",
       "      <td>0.999660</td>\n",
       "    </tr>\n",
       "    <tr>\n",
       "      <th>2</th>\n",
       "      <td>0.996644</td>\n",
       "      <td>0.996685</td>\n",
       "      <td>1.000433</td>\n",
       "      <td>0.998535</td>\n",
       "      <td>1.004815</td>\n",
       "      <td>1.003019</td>\n",
       "      <td>1.001491</td>\n",
       "      <td>1.002560</td>\n",
       "      <td>1.002609</td>\n",
       "      <td>1.005639</td>\n",
       "      <td>...</td>\n",
       "      <td>1.001342</td>\n",
       "      <td>1.004794</td>\n",
       "      <td>1.001596</td>\n",
       "      <td>0.996691</td>\n",
       "      <td>0.996243</td>\n",
       "      <td>0.994696</td>\n",
       "      <td>1.000919</td>\n",
       "      <td>0.993691</td>\n",
       "      <td>0.996373</td>\n",
       "      <td>0.996004</td>\n",
       "    </tr>\n",
       "    <tr>\n",
       "      <th>3</th>\n",
       "      <td>0.996421</td>\n",
       "      <td>0.995146</td>\n",
       "      <td>0.999777</td>\n",
       "      <td>1.000448</td>\n",
       "      <td>1.011803</td>\n",
       "      <td>1.001284</td>\n",
       "      <td>1.001434</td>\n",
       "      <td>1.001640</td>\n",
       "      <td>1.005283</td>\n",
       "      <td>1.004187</td>\n",
       "      <td>...</td>\n",
       "      <td>1.003937</td>\n",
       "      <td>1.004738</td>\n",
       "      <td>1.002554</td>\n",
       "      <td>0.996130</td>\n",
       "      <td>0.996534</td>\n",
       "      <td>0.991060</td>\n",
       "      <td>0.998947</td>\n",
       "      <td>0.996570</td>\n",
       "      <td>0.992347</td>\n",
       "      <td>0.996406</td>\n",
       "    </tr>\n",
       "    <tr>\n",
       "      <th>4</th>\n",
       "      <td>0.991498</td>\n",
       "      <td>1.000105</td>\n",
       "      <td>0.998543</td>\n",
       "      <td>0.997014</td>\n",
       "      <td>1.007576</td>\n",
       "      <td>1.000247</td>\n",
       "      <td>1.004393</td>\n",
       "      <td>1.001680</td>\n",
       "      <td>1.004741</td>\n",
       "      <td>1.006469</td>\n",
       "      <td>...</td>\n",
       "      <td>1.003928</td>\n",
       "      <td>1.005850</td>\n",
       "      <td>1.007308</td>\n",
       "      <td>0.994405</td>\n",
       "      <td>0.998245</td>\n",
       "      <td>0.993122</td>\n",
       "      <td>0.998797</td>\n",
       "      <td>0.998562</td>\n",
       "      <td>0.992406</td>\n",
       "      <td>0.994383</td>\n",
       "    </tr>\n",
       "    <tr>\n",
       "      <th>...</th>\n",
       "      <td>...</td>\n",
       "      <td>...</td>\n",
       "      <td>...</td>\n",
       "      <td>...</td>\n",
       "      <td>...</td>\n",
       "      <td>...</td>\n",
       "      <td>...</td>\n",
       "      <td>...</td>\n",
       "      <td>...</td>\n",
       "      <td>...</td>\n",
       "      <td>...</td>\n",
       "      <td>...</td>\n",
       "      <td>...</td>\n",
       "      <td>...</td>\n",
       "      <td>...</td>\n",
       "      <td>...</td>\n",
       "      <td>...</td>\n",
       "      <td>...</td>\n",
       "      <td>...</td>\n",
       "      <td>...</td>\n",
       "      <td>...</td>\n",
       "    </tr>\n",
       "    <tr>\n",
       "      <th>2516</th>\n",
       "      <td>1.160548</td>\n",
       "      <td>1.217780</td>\n",
       "      <td>1.201020</td>\n",
       "      <td>1.346679</td>\n",
       "      <td>1.247136</td>\n",
       "      <td>1.127845</td>\n",
       "      <td>1.125190</td>\n",
       "      <td>1.153215</td>\n",
       "      <td>1.149799</td>\n",
       "      <td>1.321225</td>\n",
       "      <td>...</td>\n",
       "      <td>1.207041</td>\n",
       "      <td>1.313167</td>\n",
       "      <td>1.577953</td>\n",
       "      <td>1.370923</td>\n",
       "      <td>1.138475</td>\n",
       "      <td>1.151588</td>\n",
       "      <td>1.525446</td>\n",
       "      <td>1.424594</td>\n",
       "      <td>1.328649</td>\n",
       "      <td>1.253818</td>\n",
       "    </tr>\n",
       "    <tr>\n",
       "      <th>2517</th>\n",
       "      <td>1.160648</td>\n",
       "      <td>1.221266</td>\n",
       "      <td>1.205213</td>\n",
       "      <td>1.348947</td>\n",
       "      <td>1.244575</td>\n",
       "      <td>1.130303</td>\n",
       "      <td>1.123344</td>\n",
       "      <td>1.153297</td>\n",
       "      <td>1.152369</td>\n",
       "      <td>1.320153</td>\n",
       "      <td>...</td>\n",
       "      <td>1.207452</td>\n",
       "      <td>1.310963</td>\n",
       "      <td>1.582694</td>\n",
       "      <td>1.369335</td>\n",
       "      <td>1.140374</td>\n",
       "      <td>1.152204</td>\n",
       "      <td>1.523800</td>\n",
       "      <td>1.423318</td>\n",
       "      <td>1.324206</td>\n",
       "      <td>1.254238</td>\n",
       "    </tr>\n",
       "    <tr>\n",
       "      <th>2518</th>\n",
       "      <td>1.160735</td>\n",
       "      <td>1.225271</td>\n",
       "      <td>1.205346</td>\n",
       "      <td>1.351305</td>\n",
       "      <td>1.243622</td>\n",
       "      <td>1.131680</td>\n",
       "      <td>1.124698</td>\n",
       "      <td>1.154109</td>\n",
       "      <td>1.148809</td>\n",
       "      <td>1.321653</td>\n",
       "      <td>...</td>\n",
       "      <td>1.205659</td>\n",
       "      <td>1.312078</td>\n",
       "      <td>1.585946</td>\n",
       "      <td>1.364941</td>\n",
       "      <td>1.138994</td>\n",
       "      <td>1.150146</td>\n",
       "      <td>1.523278</td>\n",
       "      <td>1.419767</td>\n",
       "      <td>1.327411</td>\n",
       "      <td>1.253670</td>\n",
       "    </tr>\n",
       "    <tr>\n",
       "      <th>2519</th>\n",
       "      <td>1.161542</td>\n",
       "      <td>1.223503</td>\n",
       "      <td>1.207835</td>\n",
       "      <td>1.348985</td>\n",
       "      <td>1.240683</td>\n",
       "      <td>1.127954</td>\n",
       "      <td>1.124952</td>\n",
       "      <td>1.153325</td>\n",
       "      <td>1.150304</td>\n",
       "      <td>1.324804</td>\n",
       "      <td>...</td>\n",
       "      <td>1.203351</td>\n",
       "      <td>1.312713</td>\n",
       "      <td>1.583205</td>\n",
       "      <td>1.365559</td>\n",
       "      <td>1.143398</td>\n",
       "      <td>1.149740</td>\n",
       "      <td>1.521208</td>\n",
       "      <td>1.417955</td>\n",
       "      <td>1.328977</td>\n",
       "      <td>1.257535</td>\n",
       "    </tr>\n",
       "    <tr>\n",
       "      <th>2520</th>\n",
       "      <td>1.164178</td>\n",
       "      <td>1.221544</td>\n",
       "      <td>1.204230</td>\n",
       "      <td>1.346376</td>\n",
       "      <td>1.242141</td>\n",
       "      <td>1.125020</td>\n",
       "      <td>1.128982</td>\n",
       "      <td>1.151869</td>\n",
       "      <td>1.148829</td>\n",
       "      <td>1.322974</td>\n",
       "      <td>...</td>\n",
       "      <td>1.200105</td>\n",
       "      <td>1.316037</td>\n",
       "      <td>1.583259</td>\n",
       "      <td>1.368484</td>\n",
       "      <td>1.143910</td>\n",
       "      <td>1.146415</td>\n",
       "      <td>1.522645</td>\n",
       "      <td>1.421506</td>\n",
       "      <td>1.322057</td>\n",
       "      <td>1.257985</td>\n",
       "    </tr>\n",
       "  </tbody>\n",
       "</table></div>"
      ],
      "text/plain": [
       "           0         1         2         3         4         5         6    \\\n",
       "0     1.000000  1.000000  1.000000  1.000000  1.000000  1.000000  1.000000   \n",
       "1     0.997771  0.999981  1.001292  0.998253  1.001275  1.004091  1.000204   \n",
       "2     0.996644  0.996685  1.000433  0.998535  1.004815  1.003019  1.001491   \n",
       "3     0.996421  0.995146  0.999777  1.000448  1.011803  1.001284  1.001434   \n",
       "4     0.991498  1.000105  0.998543  0.997014  1.007576  1.000247  1.004393   \n",
       "...        ...       ...       ...       ...       ...       ...       ...   \n",
       "2516  1.160548  1.217780  1.201020  1.346679  1.247136  1.127845  1.125190   \n",
       "2517  1.160648  1.221266  1.205213  1.348947  1.244575  1.130303  1.123344   \n",
       "2518  1.160735  1.225271  1.205346  1.351305  1.243622  1.131680  1.124698   \n",
       "2519  1.161542  1.223503  1.207835  1.348985  1.240683  1.127954  1.124952   \n",
       "2520  1.164178  1.221544  1.204230  1.346376  1.242141  1.125020  1.128982   \n",
       "\n",
       "           7         8         9    ...       490       491       492  \\\n",
       "0     1.000000  1.000000  1.000000  ...  1.000000  1.000000  1.000000   \n",
       "1     0.998783  1.004311  1.001203  ...  1.001539  1.002235  1.001584   \n",
       "2     1.002560  1.002609  1.005639  ...  1.001342  1.004794  1.001596   \n",
       "3     1.001640  1.005283  1.004187  ...  1.003937  1.004738  1.002554   \n",
       "4     1.001680  1.004741  1.006469  ...  1.003928  1.005850  1.007308   \n",
       "...        ...       ...       ...  ...       ...       ...       ...   \n",
       "2516  1.153215  1.149799  1.321225  ...  1.207041  1.313167  1.577953   \n",
       "2517  1.153297  1.152369  1.320153  ...  1.207452  1.310963  1.582694   \n",
       "2518  1.154109  1.148809  1.321653  ...  1.205659  1.312078  1.585946   \n",
       "2519  1.153325  1.150304  1.324804  ...  1.203351  1.312713  1.583205   \n",
       "2520  1.151869  1.148829  1.322974  ...  1.200105  1.316037  1.583259   \n",
       "\n",
       "           493       494       495       496       497       498       499  \n",
       "0     1.000000  1.000000  1.000000  1.000000  1.000000  1.000000  1.000000  \n",
       "1     0.995175  0.998405  0.999051  0.998164  0.996988  0.998877  0.999660  \n",
       "2     0.996691  0.996243  0.994696  1.000919  0.993691  0.996373  0.996004  \n",
       "3     0.996130  0.996534  0.991060  0.998947  0.996570  0.992347  0.996406  \n",
       "4     0.994405  0.998245  0.993122  0.998797  0.998562  0.992406  0.994383  \n",
       "...        ...       ...       ...       ...       ...       ...       ...  \n",
       "2516  1.370923  1.138475  1.151588  1.525446  1.424594  1.328649  1.253818  \n",
       "2517  1.369335  1.140374  1.152204  1.523800  1.423318  1.324206  1.254238  \n",
       "2518  1.364941  1.138994  1.150146  1.523278  1.419767  1.327411  1.253670  \n",
       "2519  1.365559  1.143398  1.149740  1.521208  1.417955  1.328977  1.257535  \n",
       "2520  1.368484  1.143910  1.146415  1.522645  1.421506  1.322057  1.257985  \n",
       "\n",
       "[2521 rows x 500 columns]"
      ]
     },
     "execution_count": 46,
     "metadata": {},
     "output_type": "execute_result"
    }
   ],
   "source": [
    "# Configure a Monte Carlo simulation to forecast 10 years cumulative returns\n",
    "# The weights should be split 20% to AGG and 80% to SPY.\n",
    "# Run 500 samples.\n",
    "ten_year_simulation = MCSimulation(\n",
    "    portfolio_data=stock_and_bond_portfolio,\n",
    "    weights=[0.80, 0.20],\n",
    "    num_simulation=num_sims,\n",
    "    num_trading_days=252*10\n",
    ")\n",
    "\n",
    "\n",
    "# Review the simulation input data\n",
    "# Run the Monte Carlo simulation to forecast 10 years cumulative returns\n",
    "ten_year_simulation.calc_cumulative_return()\n"
   ]
  },
  {
   "cell_type": "code",
   "execution_count": 47,
   "metadata": {},
   "outputs": [
    {
     "data": {
      "image/png": "[encoded data removed]",
      "text/plain": [
       "<Figure size 432x288 with 1 Axes>"
      ]
     },
     "metadata": {
      "needs_background": "light"
     },
     "output_type": "display_data"
    }
   ],
   "source": [
    "# Visualize the 10-year Monte Carlo simulation by creating an\n",
    "# overlay line plot\n",
    "line_plot_2 = ten_year_simulation.plot_simulation()"
   ]
  },
  {
   "cell_type": "code",
   "execution_count": 48,
   "metadata": {},
   "outputs": [
    {
     "data": {
      "text/plain": [
       "<AxesSubplot:title={'center':'Distribution of Final Cumuluative Returns Across All 500 Simulations'}, ylabel='Frequency'>"
      ]
     },
     "execution_count": 48,
     "metadata": {},
     "output_type": "execute_result"
    },
    {
     "data": {
      "image/png": "[encoded data removed]",
      "text/plain": [
       "<Figure size 432x288 with 1 Axes>"
      ]
     },
     "metadata": {
      "needs_background": "light"
     },
     "output_type": "display_data"
    }
   ],
   "source": [
    "# Visualize the probability distribution of the 10-year Monte Carlo simulation \n",
    "# by plotting a histogram\n",
    "ten_year_simulation.plot_distribution()"
   ]
  },
  {
   "cell_type": "code",
   "execution_count": 49,
   "metadata": {},
   "outputs": [
    {
     "data": {
      "text/plain": [
       "count           500.000000\n",
       "mean              1.255549\n",
       "std               0.145695\n",
       "min               0.957064\n",
       "25%               1.151058\n",
       "50%               1.240965\n",
       "75%               1.346325\n",
       "max               1.746868\n",
       "95% CI Lower      1.006227\n",
       "95% CI Upper      1.569562\n",
       "Name: 2520, dtype: float64"
      ]
     },
     "execution_count": 49,
     "metadata": {},
     "output_type": "execute_result"
    }
   ],
   "source": [
    "# Generate summary statistics from the 10-year Monte Carlo simulation results\n",
    "# Save the results as a variable\n",
    "ten_year_simulation_summary_stats = ten_year_simulation.summarize_cumulative_return()\n",
    "\n",
    "# Review the 10-year Monte Carlo summary statistics\n",
    "ten_year_simulation_summary_stats"
   ]
  },
  {
   "cell_type": "markdown",
   "metadata": {},
   "source": [
    "### Answer the following questions:"
   ]
  },
  {
   "cell_type": "markdown",
   "metadata": {},
   "source": [
    "#### Question: Using the current value of only the stock and bond portion of the member's portfolio and the summary statistics that you generated from the new Monte Carlo simulation, what are the lower and upper bounds for the expected value of the portfolio (with the new weights) with a 95% confidence interval?"
   ]
  },
  {
   "cell_type": "code",
   "execution_count": 50,
   "metadata": {},
   "outputs": [
    {
     "name": "stdout",
     "output_type": "stream",
     "text": [
      "73088.79999999999\n"
     ]
    }
   ],
   "source": [
    "# Print the current balance of the stock and bond portion of the members portfolio\n",
    "print(total_stocks_bonds)"
   ]
  },
  {
   "cell_type": "code",
   "execution_count": 51,
   "metadata": {},
   "outputs": [
    {
     "data": {
      "text/plain": [
       "1.01"
      ]
     },
     "metadata": {},
     "output_type": "display_data"
    },
    {
     "data": {
      "text/plain": [
       "1.57"
      ]
     },
     "metadata": {},
     "output_type": "display_data"
    }
   ],
   "source": [
    "# Use the lower and upper `95%` confidence intervals to calculate the range of the possible outcomes for the current stock/bond portfolio\n",
    "ci_lower_ten_cumulative_return = round(ten_year_simulation_summary_stats[8],2)\n",
    "ci_upper_ten_cumulative_return = round(ten_year_simulation_summary_stats[9],2)\n",
    "\n",
    "# Print the result of your calculations\n",
    "display(ci_lower_ten_cumulative_return)\n",
    "display(ci_upper_ten_cumulative_return)"
   ]
  },
  {
   "cell_type": "markdown",
   "metadata": {},
   "source": [
    "#### Question: Will weighting the portfolio more heavily to stocks allow the credit union members to retire after only 10 years?"
   ]
  },
  {
   "cell_type": "raw",
   "metadata": {},
   "source": [
    "**Answer** It depends as there are more assumptions that need to be addressed to properly assess the ability to retire.\n",
    "The thirty year simulation with the more conservative stock/bond portfolio still shows better\n",
    "returns than that of the ten year stock/bond portfolio with the more aggressive portfolio.\n",
    "30 year, weights 60/40: lower and upper CI are 3.36 and 22.36, respectively.\n",
    "10 year, weights 80/20: lower and upper CI are 1.04 and 2.22, respectively."
   ]
  },
  {
   "cell_type": "raw",
   "metadata": {},
   "source": []
  }
 ],
 "metadata": {
  "interpreter": {
   "hash": "0bc772866a3affdc5803be489598f529b0192fa171585f2d09392617c9a5b224"
  },
  "kernelspec": {
   "display_name": "Python (dev)",
   "language": "python",
   "name": "python3"
  },
  "language_info": {
   "codemirror_mode": {
    "name": "ipython",
    "version": 3
   },
   "file_extension": ".py",
   "mimetype": "text/x-python",
   "name": "python",
   "nbconvert_exporter": "python",
   "pygments_lexer": "ipython3",
   "version": "3.7.10"
  }
 },
 "nbformat": 4,
 "nbformat_minor": 4
}
