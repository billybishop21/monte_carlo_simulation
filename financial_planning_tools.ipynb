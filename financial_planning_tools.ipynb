{
 "cells": [
  {
   "cell_type": "markdown",
   "source": [
    "# Financial Planning with APIs and Simulations\n",
    "\n",
    "In this Challenge, you’ll create two financial analysis tools by using a single Jupyter notebook:\n",
    "\n",
    "Part 1: A financial planner for emergencies. The members will be able to use this tool to visualize their current savings. The members can then determine if they have enough reserves for an emergency fund.\n",
    "\n",
    "Part 2: A financial planner for retirement. This tool will forecast the performance of their retirement portfolio in 30 years. To do this, the tool will make an Alpaca API call via the Alpaca SDK to get historical price data for use in Monte Carlo simulations.\n",
    "\n",
    "You’ll use the information from the Monte Carlo simulation to answer questions about the portfolio in your Jupyter notebook.\n",
    "\n"
   ],
   "metadata": {}
  },
  {
   "cell_type": "code",
   "execution_count": 179,
   "source": [
    "# Import the required libraries and dependencies\r\n",
    "import os\r\n",
    "import requests\r\n",
    "import json\r\n",
    "import pandas as pd\r\n",
    "import numpy as np\r\n",
    "from dotenv import load_dotenv\r\n",
    "import alpaca_trade_api as tradeapi\r\n",
    "from MCForecastTools import MCSimulation\r\n",
    "\r\n",
    "%matplotlib inline"
   ],
   "outputs": [],
   "metadata": {}
  },
  {
   "cell_type": "code",
   "execution_count": 180,
   "source": [
    "# Load the environment variables from the .env file\r\n",
    "# by calling the load_dotenv function\r\n",
    "load_dotenv()"
   ],
   "outputs": [
    {
     "output_type": "execute_result",
     "data": {
      "text/plain": [
       "True"
      ]
     },
     "metadata": {},
     "execution_count": 180
    }
   ],
   "metadata": {}
  },
  {
   "cell_type": "code",
   "execution_count": null,
   "source": [],
   "outputs": [],
   "metadata": {}
  },
  {
   "cell_type": "markdown",
   "source": [
    "## Part 1: Create a Financial Planner for Emergencies"
   ],
   "metadata": {}
  },
  {
   "cell_type": "markdown",
   "source": [
    "### Evaluate the Cryptocurrency Wallet by Using the Requests Library\n",
    "\n",
    "In this section, you’ll determine the current value of a member’s cryptocurrency wallet. You’ll collect the current prices for the Bitcoin and Ethereum cryptocurrencies by using the Python Requests library. For the prototype, you’ll assume that the member holds the 1.2 Bitcoins (BTC) and 5.3 Ethereum coins (ETH). To do all this, complete the following steps:\n",
    "\n",
    "1. Create a variable named `monthly_income`, and set its value to `12000`.\n",
    "\n",
    "2. Use the Requests library to get the current price (in US dollars) of Bitcoin (BTC) and Ethereum (ETH) by using the API endpoints that the starter code supplies.\n",
    "\n",
    "3. Navigate the JSON response object to access the current price of each coin, and store each in a variable.\n",
    "\n",
    "    > **Hint** Note the specific identifier for each cryptocurrency in the API JSON response. The Bitcoin identifier is `1`, and the Ethereum identifier is `1027`.\n",
    "\n",
    "4. Calculate the value, in US dollars, of the current amount of each cryptocurrency and of the entire cryptocurrency wallet.\n",
    "\n"
   ],
   "metadata": {}
  },
  {
   "cell_type": "code",
   "execution_count": 181,
   "source": [
    "# The current number of coins for each cryptocurrency asset held in the portfolio.\r\n",
    "btc_coins = 1.2\r\n",
    "eth_coins = 5.3"
   ],
   "outputs": [],
   "metadata": {}
  },
  {
   "cell_type": "markdown",
   "source": [
    "#### Step 1: Create a variable named `monthly_income`, and set its value to `12000`."
   ],
   "metadata": {}
  },
  {
   "cell_type": "code",
   "execution_count": 182,
   "source": [
    "# The monthly amount for the member's household income\r\n",
    "monthly_income = 12000"
   ],
   "outputs": [],
   "metadata": {}
  },
  {
   "cell_type": "markdown",
   "source": [
    "#### Review the endpoint URLs for the API calls to Free Crypto API in order to get the current pricing information for both BTC and ETH."
   ],
   "metadata": {}
  },
  {
   "cell_type": "code",
   "execution_count": 183,
   "source": [
    "# The Free Crypto API Call endpoint URLs for the held cryptocurrency assets\r\n",
    "btc_url = \"https://api.alternative.me/v2/ticker/Bitcoin/?convert=USD\"\r\n",
    "eth_url = \"https://api.alternative.me/v2/ticker/Ethereum/?convert=USD\""
   ],
   "outputs": [],
   "metadata": {}
  },
  {
   "cell_type": "markdown",
   "source": [
    "#### Step 2. Use the Requests library to get the current price (in US dollars) of Bitcoin (BTC) and Ethereum (ETH) by using the API endpoints that the starter code supplied."
   ],
   "metadata": {}
  },
  {
   "cell_type": "code",
   "execution_count": 184,
   "source": [
    "# Using the Python requests library, make an API call to access the current price of BTC\r\n",
    "btc_response = requests.get(btc_url).json()\r\n",
    "\r\n",
    "# Use the json.dumps function to review the response data from the API call\r\n",
    "# Use the indent and sort_keys parameters to make the response object readable\r\n",
    "print(json.dumps(btc_response, indent=4, sort_keys=True))"
   ],
   "outputs": [
    {
     "output_type": "stream",
     "name": "stdout",
     "text": [
      "{\n",
      "    \"data\": {\n",
      "        \"1\": {\n",
      "            \"circulating_supply\": 18761775,\n",
      "            \"id\": 1,\n",
      "            \"last_updated\": 1626794046,\n",
      "            \"max_supply\": 21000000,\n",
      "            \"name\": \"Bitcoin\",\n",
      "            \"quotes\": {\n",
      "                \"USD\": {\n",
      "                    \"market_cap\": 559696462477,\n",
      "                    \"percent_change_1h\": 0.339638993866269,\n",
      "                    \"percent_change_24h\": -3.65265904801133,\n",
      "                    \"percent_change_7d\": -10.3231010001594,\n",
      "                    \"percentage_change_1h\": 0.339638993866269,\n",
      "                    \"percentage_change_24h\": -3.65265904801133,\n",
      "                    \"percentage_change_7d\": -10.3231010001594,\n",
      "                    \"price\": 29829.0,\n",
      "                    \"volume_24h\": 22389055409\n",
      "                }\n",
      "            },\n",
      "            \"rank\": 1,\n",
      "            \"symbol\": \"BTC\",\n",
      "            \"total_supply\": 18761775,\n",
      "            \"website_slug\": \"bitcoin\"\n",
      "        }\n",
      "    },\n",
      "    \"metadata\": {\n",
      "        \"error\": null,\n",
      "        \"num_cryptocurrencies\": 3118,\n",
      "        \"timestamp\": 1626794046\n",
      "    }\n",
      "}\n"
     ]
    }
   ],
   "metadata": {}
  },
  {
   "cell_type": "code",
   "execution_count": 185,
   "source": [
    "# Using the Python requests library, make an API call to access the current price ETH\r\n",
    "eth_response = requests.get(eth_url).json()\r\n",
    "\r\n",
    "# Use the json.dumps function to review the response data from the API call\r\n",
    "# Use the indent and sort_keys parameters to make the response object readable\r\n",
    "print(json.dumps(eth_response, indent=4, sort_keys=True))\r\n"
   ],
   "outputs": [
    {
     "output_type": "stream",
     "name": "stdout",
     "text": [
      "{\n",
      "    \"data\": {\n",
      "        \"1027\": {\n",
      "            \"circulating_supply\": 116770130,\n",
      "            \"id\": 1027,\n",
      "            \"last_updated\": 1626794044,\n",
      "            \"max_supply\": 0,\n",
      "            \"name\": \"Ethereum\",\n",
      "            \"quotes\": {\n",
      "                \"USD\": {\n",
      "                    \"market_cap\": 206992304274,\n",
      "                    \"percent_change_1h\": 0.607047810982002,\n",
      "                    \"percent_change_24h\": -3.36213734354162,\n",
      "                    \"percent_change_7d\": -13.3021291769175,\n",
      "                    \"percentage_change_1h\": 0.607047810982002,\n",
      "                    \"percentage_change_24h\": -3.36213734354162,\n",
      "                    \"percentage_change_7d\": -13.3021291769175,\n",
      "                    \"price\": 1770.8,\n",
      "                    \"volume_24h\": 19266214097\n",
      "                }\n",
      "            },\n",
      "            \"rank\": 2,\n",
      "            \"symbol\": \"ETH\",\n",
      "            \"total_supply\": 116770130,\n",
      "            \"website_slug\": \"ethereum\"\n",
      "        }\n",
      "    },\n",
      "    \"metadata\": {\n",
      "        \"error\": null,\n",
      "        \"num_cryptocurrencies\": 3118,\n",
      "        \"timestamp\": 1626794044\n",
      "    }\n",
      "}\n"
     ]
    }
   ],
   "metadata": {}
  },
  {
   "cell_type": "markdown",
   "source": [
    "#### Step 3: Navigate the JSON response object to access the current price of each coin, and store each in a variable."
   ],
   "metadata": {}
  },
  {
   "cell_type": "code",
   "execution_count": 186,
   "source": [
    "# Navigate the BTC response object to access the current price of BTC\r\n",
    "btc_price = btc_response[\"data\"][\"1\"][\"quotes\"][\"USD\"][\"price\"]\r\n",
    "\r\n",
    "# Print the current price of BTC\r\n",
    "print(f\"The current price of bitcoin is ${btc_price:.2f}.\")"
   ],
   "outputs": [
    {
     "output_type": "stream",
     "name": "stdout",
     "text": [
      "The current price of bitcoin is $29829.00.\n"
     ]
    }
   ],
   "metadata": {}
  },
  {
   "cell_type": "code",
   "execution_count": 187,
   "source": [
    "# Navigate the BTC response object to access the current price of ETH\r\n",
    "eth_price = eth_response[\"data\"][\"1027\"][\"quotes\"][\"USD\"][\"price\"]\r\n",
    "\r\n",
    "# Print the current price of ETH\r\n",
    "print(f\"The current price of ethereum is ${eth_price:.2f}.\")"
   ],
   "outputs": [
    {
     "output_type": "stream",
     "name": "stdout",
     "text": [
      "The current price of ethereum is $1770.80.\n"
     ]
    }
   ],
   "metadata": {}
  },
  {
   "cell_type": "markdown",
   "source": [
    "#### Step 4: Calculate the value, in US dollars, of the current amount of each cryptocurrency and of the entire cryptocurrency wallet."
   ],
   "metadata": {}
  },
  {
   "cell_type": "code",
   "execution_count": 188,
   "source": [
    "# Compute the current value of the BTC holding \r\n",
    "btc_value = btc_coins * btc_price\r\n",
    "\r\n",
    "# Print current value of your holding in BTC\r\n",
    "print(f\"The current value of bitcoin currently held in your wallet is ${btc_value:.2f}.\")\r\n"
   ],
   "outputs": [
    {
     "output_type": "stream",
     "name": "stdout",
     "text": [
      "The current value of bitcoin currently held in your wallet is $35794.80.\n"
     ]
    }
   ],
   "metadata": {}
  },
  {
   "cell_type": "code",
   "execution_count": 189,
   "source": [
    "# Compute the current value of the ETH holding \r\n",
    "eth_value = eth_coins * eth_price\r\n",
    "\r\n",
    "# Print current value of your holding in ETH\r\n",
    "print(f\"The current value of ethereum currently held in your wallet is ${eth_value:.2f}.\")\r\n"
   ],
   "outputs": [
    {
     "output_type": "stream",
     "name": "stdout",
     "text": [
      "The current value of ethereum currently held in your wallet is $9385.24.\n"
     ]
    }
   ],
   "metadata": {}
  },
  {
   "cell_type": "code",
   "execution_count": 190,
   "source": [
    "# Compute the total value of the cryptocurrency wallet\r\n",
    "# Add the value of the BTC holding to the value of the ETH holding\r\n",
    "total_crypto_wallet = btc_value + eth_value\r\n",
    "\r\n",
    "# Print current cryptocurrency wallet balance\r\n",
    "print(f\"The total value of USD in your wallet is ${total_crypto_wallet:.2f}.\")"
   ],
   "outputs": [
    {
     "output_type": "stream",
     "name": "stdout",
     "text": [
      "The total value of USD in your wallet is $45180.04.\n"
     ]
    }
   ],
   "metadata": {}
  },
  {
   "cell_type": "markdown",
   "source": [
    "### Evaluate the Stock and Bond Holdings by Using the Alpaca SDK\n",
    "\n",
    "In this section, you’ll determine the current value of a member’s stock and bond holdings. You’ll make an API call to Alpaca via the Alpaca SDK to get the current closing prices of the SPDR S&P 500 ETF Trust (ticker: SPY) and of the iShares Core US Aggregate Bond ETF (ticker: AGG). For the prototype, assume that the member holds 110 shares of SPY, which represents the stock portion of their portfolio, and 200 shares of AGG, which represents the bond portion. To do all this, complete the following steps:\n",
    "\n",
    "1. In the `Starter_Code` folder, create an environment file (`.env`) to store the values of your Alpaca API key and Alpaca secret key.\n",
    "\n",
    "2. Set the variables for the Alpaca API and secret keys. Using the Alpaca SDK, create the Alpaca `tradeapi.REST` object. In this object, include the parameters for the Alpaca API key, the secret key, and the version number.\n",
    "\n",
    "3. Set the following parameters for the Alpaca API call:\n",
    "\n",
    "    - `tickers`: Use the tickers for the member’s stock and bond holdings.\n",
    "\n",
    "    - `timeframe`: Use a time frame of one day.\n",
    "\n",
    "    - `start_date` and `end_date`: Use the same date for these parameters, and format them with the date of the previous weekday (or `2020-08-07`). This is because you want the one closing price for the most-recent trading day.\n",
    "\n",
    "4. Get the current closing prices for `SPY` and `AGG` by using the Alpaca `get_barset` function. Format the response as a Pandas DataFrame by including the `df` property at the end of the `get_barset` function.\n",
    "\n",
    "5. Navigating the Alpaca response DataFrame, select the `SPY` and `AGG` closing prices, and store them as variables.\n",
    "\n",
    "6. Calculate the value, in US dollars, of the current amount of shares in each of the stock and bond portions of the portfolio, and print the results.\n"
   ],
   "metadata": {}
  },
  {
   "cell_type": "markdown",
   "source": [
    "#### Review the total number of shares held in both (SPY) and (AGG)."
   ],
   "metadata": {}
  },
  {
   "cell_type": "code",
   "execution_count": 191,
   "source": [
    "# Current amount of shares held in both the stock (SPY) and bond (AGG) portion of the portfolio.\r\n",
    "spy_shares = 110\r\n",
    "agg_shares = 200"
   ],
   "outputs": [],
   "metadata": {}
  },
  {
   "cell_type": "markdown",
   "source": [
    "#### Step 1: In the `Starter_Code` folder, create an environment file (`.env`) to store the values of your Alpaca API key and Alpaca secret key."
   ],
   "metadata": {}
  },
  {
   "cell_type": "markdown",
   "source": [
    "#### Step 2: Set the variables for the Alpaca API and secret keys. Using the Alpaca SDK, create the Alpaca `tradeapi.REST` object. In this object, include the parameters for the Alpaca API key, the secret key, and the version number."
   ],
   "metadata": {}
  },
  {
   "cell_type": "code",
   "execution_count": 192,
   "source": [
    "# Set the variables for the Alpaca API and secret keys\r\n",
    "alpaca_api_key = os.getenv(\"ALPACA_API_KEY\")\r\n",
    "alpaca_secret_key = os.getenv(\"ALPACA_SECRET_KEY\")\r\n",
    "\r\n",
    "# Create the Alpaca tradeapi.REST object\r\n",
    "alpaca = tradeapi.REST(\r\n",
    "    alpaca_api_key,\r\n",
    "    alpaca_secret_key,\r\n",
    "    api_version=\"v2\"\r\n",
    ")"
   ],
   "outputs": [],
   "metadata": {}
  },
  {
   "cell_type": "markdown",
   "source": [
    "#### Step 3: Set the following parameters for the Alpaca API call:\n",
    "\n",
    "- `tickers`: Use the tickers for the member’s stock and bond holdings.\n",
    "\n",
    "- `timeframe`: Use a time frame of one day.\n",
    "\n",
    "- `start_date` and `end_date`: Use the same date for these parameters, and format them with the date of the previous weekday (or `2020-08-07`). This is because you want the one closing price for the most-recent trading day.\n"
   ],
   "metadata": {}
  },
  {
   "cell_type": "code",
   "execution_count": 193,
   "source": [
    "# Set the tickers for both the bond and stock portion of the portfolio\r\n",
    "tickers = [\"SPY\", \"AGG\"]\r\n",
    "\r\n",
    "# Set timeframe to 1D \r\n",
    "timeframe = \"1D\"\r\n",
    "\r\n",
    "# Format current date as ISO format\r\n",
    "# Set both the start and end date at the date of your prior weekday \r\n",
    "# This will give you the closing price of the previous trading day\r\n",
    "# Alternatively you can use a start and end date of 2020-08-07\r\n",
    "start_date = pd.Timestamp(\"2021-07-14\", tz=\"America/New_York\").isoformat()\r\n",
    "end_date = pd.Timestamp(\"2021-07-14\", tz=\"America/New_York\").isoformat()"
   ],
   "outputs": [],
   "metadata": {}
  },
  {
   "cell_type": "markdown",
   "source": [
    "#### Step 4: Get the current closing prices for `SPY` and `AGG` by using the Alpaca `get_barset` function. Format the response as a Pandas DataFrame by including the `df` property at the end of the `get_barset` function."
   ],
   "metadata": {}
  },
  {
   "cell_type": "code",
   "execution_count": 194,
   "source": [
    "# Use the Alpaca get_barset function to get current closing prices the portfolio\r\n",
    "# Be sure to set the `df` property after the function to format the response object as a DataFrame\r\n",
    "prices_df = alpaca.get_barset(\r\n",
    "    tickers,\r\n",
    "    timeframe,\r\n",
    "    start = start_date,\r\n",
    "    end = end_date,\r\n",
    "    limit=1000\r\n",
    ").df\r\n",
    "\r\n",
    "# Review the first 5 rows of the Alpaca DataFrame\r\n",
    "prices_df"
   ],
   "outputs": [
    {
     "output_type": "execute_result",
     "data": {
      "text/plain": [
       "                              AGG                                       SPY  \\\n",
       "                             open    high      low   close   volume    open   \n",
       "time                                                                          \n",
       "2021-07-14 00:00:00-04:00  115.59  115.76  115.569  115.75  3907266  437.39   \n",
       "\n",
       "                                                             \n",
       "                             high     low   close    volume  \n",
       "time                                                         \n",
       "2021-07-14 00:00:00-04:00  437.92  434.91  436.22  54445950  "
      ],
      "text/html": [
       "<div>\n",
       "<style scoped>\n",
       "    .dataframe tbody tr th:only-of-type {\n",
       "        vertical-align: middle;\n",
       "    }\n",
       "\n",
       "    .dataframe tbody tr th {\n",
       "        vertical-align: top;\n",
       "    }\n",
       "\n",
       "    .dataframe thead tr th {\n",
       "        text-align: left;\n",
       "    }\n",
       "\n",
       "    .dataframe thead tr:last-of-type th {\n",
       "        text-align: right;\n",
       "    }\n",
       "</style>\n",
       "<table border=\"1\" class=\"dataframe\">\n",
       "  <thead>\n",
       "    <tr>\n",
       "      <th></th>\n",
       "      <th colspan=\"5\" halign=\"left\">AGG</th>\n",
       "      <th colspan=\"5\" halign=\"left\">SPY</th>\n",
       "    </tr>\n",
       "    <tr>\n",
       "      <th></th>\n",
       "      <th>open</th>\n",
       "      <th>high</th>\n",
       "      <th>low</th>\n",
       "      <th>close</th>\n",
       "      <th>volume</th>\n",
       "      <th>open</th>\n",
       "      <th>high</th>\n",
       "      <th>low</th>\n",
       "      <th>close</th>\n",
       "      <th>volume</th>\n",
       "    </tr>\n",
       "    <tr>\n",
       "      <th>time</th>\n",
       "      <th></th>\n",
       "      <th></th>\n",
       "      <th></th>\n",
       "      <th></th>\n",
       "      <th></th>\n",
       "      <th></th>\n",
       "      <th></th>\n",
       "      <th></th>\n",
       "      <th></th>\n",
       "      <th></th>\n",
       "    </tr>\n",
       "  </thead>\n",
       "  <tbody>\n",
       "    <tr>\n",
       "      <th>2021-07-14 00:00:00-04:00</th>\n",
       "      <td>115.59</td>\n",
       "      <td>115.76</td>\n",
       "      <td>115.569</td>\n",
       "      <td>115.75</td>\n",
       "      <td>3907266</td>\n",
       "      <td>437.39</td>\n",
       "      <td>437.92</td>\n",
       "      <td>434.91</td>\n",
       "      <td>436.22</td>\n",
       "      <td>54445950</td>\n",
       "    </tr>\n",
       "  </tbody>\n",
       "</table>\n",
       "</div>"
      ]
     },
     "metadata": {},
     "execution_count": 194
    }
   ],
   "metadata": {}
  },
  {
   "cell_type": "markdown",
   "source": [
    "#### Step 5: Navigating the Alpaca response DataFrame, select the `SPY` and `AGG` closing prices, and store them as variables."
   ],
   "metadata": {}
  },
  {
   "cell_type": "code",
   "execution_count": 195,
   "source": [
    "# Access the closing price for AGG from the Alpaca DataFrame\r\n",
    "# Converting the value to a floating point number\r\n",
    "agg_close_price = float(prices_df[\"AGG\"][\"close\"])\r\n",
    "\r\n",
    "# Print the AGG closing price\r\n",
    "agg_close_price\r\n"
   ],
   "outputs": [
    {
     "output_type": "execute_result",
     "data": {
      "text/plain": [
       "115.75"
      ]
     },
     "metadata": {},
     "execution_count": 195
    }
   ],
   "metadata": {}
  },
  {
   "cell_type": "code",
   "execution_count": 196,
   "source": [
    "# Access the closing price for SPY from the Alpaca DataFrame\r\n",
    "# Converting the value to a floating point number\r\n",
    "spy_close_price = float(prices_df[\"SPY\"][\"close\"])\r\n",
    "\r\n",
    "# Print the SPY closing price\r\n",
    "spy_close_price\r\n"
   ],
   "outputs": [
    {
     "output_type": "execute_result",
     "data": {
      "text/plain": [
       "436.22"
      ]
     },
     "metadata": {},
     "execution_count": 196
    }
   ],
   "metadata": {}
  },
  {
   "cell_type": "markdown",
   "source": [
    "#### Step 6: Calculate the value, in US dollars, of the current amount of shares in each of the stock and bond portions of the portfolio, and print the results."
   ],
   "metadata": {}
  },
  {
   "cell_type": "code",
   "execution_count": 197,
   "source": [
    "# Calculate the current value of the bond portion of the portfolio\r\n",
    "agg_value = agg_shares * agg_close_price\r\n",
    "\r\n",
    "# Print the current value of the bond portfolio\r\n",
    "print(f\"The value of the bond portfolio is ${agg_value:.2f}.\")\r\n"
   ],
   "outputs": [
    {
     "output_type": "stream",
     "name": "stdout",
     "text": [
      "The value of the bond portfolio is $23150.00.\n"
     ]
    }
   ],
   "metadata": {}
  },
  {
   "cell_type": "code",
   "execution_count": 198,
   "source": [
    "# Calculate the current value of the stock portion of the portfolio\r\n",
    "spy_value = spy_shares * spy_close_price\r\n",
    "\r\n",
    "# Print the current value of the stock portfolio\r\n",
    "print(f\"The current value of the stock portfolio is ${spy_value:.2f}.\")\r\n"
   ],
   "outputs": [
    {
     "output_type": "stream",
     "name": "stdout",
     "text": [
      "The current value of the stock portfolio is $47984.20.\n"
     ]
    }
   ],
   "metadata": {}
  },
  {
   "cell_type": "code",
   "execution_count": 199,
   "source": [
    "# Calculate the total value of the stock and bond portion of the portfolio\r\n",
    "total_stocks_bonds = agg_value + spy_value\r\n",
    "\r\n",
    "# Print the current balance of the stock and bond portion of the portfolio\r\n",
    "print(f\"The total portfolio value is ${total_stocks_bonds:.2f}.\")\r\n"
   ],
   "outputs": [
    {
     "output_type": "stream",
     "name": "stdout",
     "text": [
      "The total portfolio value is $71134.20.\n"
     ]
    }
   ],
   "metadata": {}
  },
  {
   "cell_type": "code",
   "execution_count": 200,
   "source": [
    "# Calculate the total value of the member's entire savings portfolio\r\n",
    "# Add the value of the cryptocurrency walled to the value of the total stocks and bonds\r\n",
    "total_portfolio = total_crypto_wallet + total_stocks_bonds\r\n",
    "\r\n",
    "# Print current cryptocurrency wallet balance plus the total stocks and bonds portfolio\r\n",
    "print(f\"The total savings portfolio is ${total_portfolio:.2f}.\")\r\n"
   ],
   "outputs": [
    {
     "output_type": "stream",
     "name": "stdout",
     "text": [
      "The total savings portfolio is $116314.24.\n"
     ]
    }
   ],
   "metadata": {}
  },
  {
   "cell_type": "markdown",
   "source": [
    "### Evaluate the Emergency Fund\n",
    "\n",
    "In this section, you’ll use the valuations for the cryptocurrency wallet and for the stock and bond portions of the portfolio to determine if the credit union member has enough savings to build an emergency fund into their financial plan. To do this, complete the following steps:\n",
    "\n",
    "1. Create a Python list named `savings_data` that has two elements. The first element contains the total value of the cryptocurrency wallet. The second element contains the total value of the stock and bond portions of the portfolio.\n",
    "\n",
    "2. Use the `savings_data` list to create a Pandas DataFrame named `savings_df`, and then display this DataFrame. The function to create the DataFrame should take the following three parameters:\n",
    "\n",
    "    - `savings_data`: Use the list that you just created.\n",
    "\n",
    "    - `columns`: Set this parameter equal to a Python list with a single value called `amount`.\n",
    "\n",
    "    - `index`: Set this parameter equal to a Python list with the values of `crypto` and `stock/bond`.\n",
    "\n",
    "3. Use the `savings_df` DataFrame to plot a pie chart that visualizes the composition of the member’s portfolio. The y-axis of the pie chart uses `amount`. Be sure to add a title.\n",
    "\n",
    "4. Using Python, determine if the current portfolio has enough to create an emergency fund as part of the member’s financial plan. Ideally, an emergency fund should equal to three times the member’s monthly income. To do this, implement the following steps:\n",
    "\n",
    "    1. Create a variable named `emergency_fund_value`, and set it equal to three times the value of the member’s `monthly_income` of $12000. (You set this earlier in Part 1).\n",
    "\n",
    "    2. Create a series of three if statements to determine if the member’s total portfolio is large enough to fund the emergency portfolio:\n",
    "\n",
    "        1. If the total portfolio value is greater than the emergency fund value, display a message congratulating the member for having enough money in this fund.\n",
    "\n",
    "        2. Else if the total portfolio value is equal to the emergency fund value, display a message congratulating the member on reaching this important financial goal.\n",
    "\n",
    "        3. Else the total portfolio is less than the emergency fund value, so display a message showing how many dollars away the member is from reaching the goal. (Subtract the total portfolio value from the emergency fund value.)\n"
   ],
   "metadata": {}
  },
  {
   "cell_type": "markdown",
   "source": [
    "#### Step 1: Create a Python list named `savings_data` that has two elements. The first element contains the total value of the cryptocurrency wallet. The second element contains the total value of the stock and bond portions of the portfolio."
   ],
   "metadata": {}
  },
  {
   "cell_type": "code",
   "execution_count": 201,
   "source": [
    "# Consolidate financial assets data into a Python list\r\n",
    "savings_data = [total_crypto_wallet, total_stocks_bonds]\r\n",
    "\r\n",
    "# Review the Python list savings_data\r\n",
    "savings_data"
   ],
   "outputs": [
    {
     "output_type": "execute_result",
     "data": {
      "text/plain": [
       "[45180.03999999999, 71134.20000000001]"
      ]
     },
     "metadata": {},
     "execution_count": 201
    }
   ],
   "metadata": {}
  },
  {
   "cell_type": "markdown",
   "source": [
    "#### Step 2: Use the `savings_data` list to create a Pandas DataFrame named `savings_df`, and then display this DataFrame. The function to create the DataFrame should take the following three parameters:\n",
    "\n",
    "- `savings_data`: Use the list that you just created.\n",
    "\n",
    "- `columns`: Set this parameter equal to a Python list with a single value called `amount`.\n",
    "\n",
    "- `index`: Set this parameter equal to a Python list with the values of `crypto` and `stock/bond`.\n"
   ],
   "metadata": {}
  },
  {
   "cell_type": "code",
   "execution_count": 202,
   "source": [
    "# Create a Pandas DataFrame called savings_df\r\n",
    "column_names = ['amount']\r\n",
    "\r\n",
    "savings_df = pd.DataFrame(\r\n",
    "    data=savings_data,\r\n",
    "    columns=column_names,\r\n",
    "    index=[\"crypto\", \"stock/bond\"]\r\n",
    ")\r\n",
    "\r\n",
    "\r\n",
    "# Display the savings_df DataFrame\r\n",
    "display(savings_df)"
   ],
   "outputs": [
    {
     "output_type": "display_data",
     "data": {
      "text/plain": [
       "              amount\n",
       "crypto      45180.04\n",
       "stock/bond  71134.20"
      ],
      "text/html": [
       "<div>\n",
       "<style scoped>\n",
       "    .dataframe tbody tr th:only-of-type {\n",
       "        vertical-align: middle;\n",
       "    }\n",
       "\n",
       "    .dataframe tbody tr th {\n",
       "        vertical-align: top;\n",
       "    }\n",
       "\n",
       "    .dataframe thead th {\n",
       "        text-align: right;\n",
       "    }\n",
       "</style>\n",
       "<table border=\"1\" class=\"dataframe\">\n",
       "  <thead>\n",
       "    <tr style=\"text-align: right;\">\n",
       "      <th></th>\n",
       "      <th>amount</th>\n",
       "    </tr>\n",
       "  </thead>\n",
       "  <tbody>\n",
       "    <tr>\n",
       "      <th>crypto</th>\n",
       "      <td>45180.04</td>\n",
       "    </tr>\n",
       "    <tr>\n",
       "      <th>stock/bond</th>\n",
       "      <td>71134.20</td>\n",
       "    </tr>\n",
       "  </tbody>\n",
       "</table>\n",
       "</div>"
      ]
     },
     "metadata": {}
    }
   ],
   "metadata": {}
  },
  {
   "cell_type": "markdown",
   "source": [
    "#### Step 3: Use the `savings_df` DataFrame to plot a pie chart that visualizes the composition of the member’s portfolio. The y-axis of the pie chart uses `amount`. Be sure to add a title."
   ],
   "metadata": {}
  },
  {
   "cell_type": "code",
   "execution_count": 203,
   "source": [
    "# Plot the total value of the member's portfolio (crypto and stock/bond) in a pie chart\r\n",
    "savings_df.plot.pie(figsize=(9,9), subplots=True, autopct=\"%.2f\", fontsize=20)"
   ],
   "outputs": [
    {
     "output_type": "execute_result",
     "data": {
      "text/plain": [
       "array([<AxesSubplot:ylabel='amount'>], dtype=object)"
      ]
     },
     "metadata": {},
     "execution_count": 203
    },
    {
     "output_type": "display_data",
     "data": {
      "text/plain": [
       "<Figure size 648x648 with 1 Axes>"
      ],
      "image/png": "[encoded data removed]"
     },
     "metadata": {}
    }
   ],
   "metadata": {}
  },
  {
   "cell_type": "markdown",
   "source": [
    "#### Step 4: Using Python, determine if the current portfolio has enough to create an emergency fund as part of the member’s financial plan. Ideally, an emergency fund should equal to three times the member’s monthly income. To do this, implement the following steps:\n",
    "\n",
    "Step 1. Create a variable named `emergency_fund_value`, and set it equal to three times the value of the member’s `monthly_income` of 12000. (You set this earlier in Part 1).\n",
    "\n",
    "Step 2. Create a series of three if statements to determine if the member’s total portfolio is large enough to fund the emergency portfolio:\n",
    "\n",
    "* If the total portfolio value is greater than the emergency fund value, display a message congratulating the member for having enough money in this fund.\n",
    "\n",
    "* Else if the total portfolio value is equal to the emergency fund value, display a message congratulating the member on reaching this important financial goal.\n",
    "\n",
    "* Else the total portfolio is less than the emergency fund value, so display a message showing how many dollars away the member is from reaching the goal. (Subtract the total portfolio value from the emergency fund value.)\n"
   ],
   "metadata": {}
  },
  {
   "cell_type": "markdown",
   "source": [
    "##### Step 4-1: Create a variable named `emergency_fund_value`, and set it equal to three times the value of the member’s `monthly_income` of 12000. (You set this earlier in Part 1)."
   ],
   "metadata": {}
  },
  {
   "cell_type": "code",
   "execution_count": 204,
   "source": [
    "# Create a variable named emergency_fund_value\r\n",
    "emergency_fund_value = monthly_income * 3\r\n",
    "emergency_fund_value"
   ],
   "outputs": [
    {
     "output_type": "execute_result",
     "data": {
      "text/plain": [
       "36000"
      ]
     },
     "metadata": {},
     "execution_count": 204
    }
   ],
   "metadata": {}
  },
  {
   "cell_type": "markdown",
   "source": [
    "##### Step 4-2: Create a series of three if statements to determine if the member’s total portfolio is large enough to fund the emergency portfolio:\n",
    "\n",
    "* If the total portfolio value is greater than the emergency fund value, display a message congratulating the member for having enough money in this fund.\n",
    "\n",
    "* Else if the total portfolio value is equal to the emergency fund value, display a message congratulating the member on reaching this important financial goal.\n",
    "\n",
    "* Else the total portfolio is less than the emergency fund value, so display a message showing how many dollars away the member is from reaching the goal. (Subtract the total portfolio value from the emergency fund value.)"
   ],
   "metadata": {}
  },
  {
   "cell_type": "code",
   "execution_count": 205,
   "source": [
    "# Evaluate the possibility of creating an emergency fund with 3 conditions:\r\n",
    "if total_portfolio > emergency_fund_value:\r\n",
    "    print(f\"Congratulations! You have enough money in this fund!\")\r\n",
    "elif total_portfolio == emergency_fund_value:\r\n",
    "    print(f\"Congratulations! You have reached this important financial goal!\")\r\n",
    "else:\r\n",
    "    total_portfolio < emergency_fund_value\r\n",
    "    difference = emergency_fund_value - total_portfolio\r\n",
    "    print(f\"You are ${difference:.2f} away from reaching your goal.\")"
   ],
   "outputs": [
    {
     "output_type": "stream",
     "name": "stdout",
     "text": [
      "Congratulations! You have enough money in this fund!\n"
     ]
    }
   ],
   "metadata": {}
  },
  {
   "cell_type": "markdown",
   "source": [
    "## Part 2: Create a Financial Planner for Retirement"
   ],
   "metadata": {}
  },
  {
   "cell_type": "markdown",
   "source": [
    "### Create the Monte Carlo Simulation\n",
    "\n",
    "In this section, you’ll use the MCForecastTools library to create a Monte Carlo simulation for the member’s savings portfolio. To do this, complete the following steps:\n",
    "\n",
    "1. Make an API call via the Alpaca SDK to get 10 years of historical closing prices for a traditional 60/40 portfolio split: 60% stocks (SPY) and 40% bonds (AGG).\n",
    "\n",
    "2. Run a Monte Carlo simulation of 500 samples and 30 years for the 60/40 portfolio, and then plot the results.The following image shows the overlay line plot resulting from a simulation with these characteristics. However, because a random number generator is used to run each live Monte Carlo simulation, your image will differ slightly from this exact image:\n",
    "\n",
    "![A screenshot depicts the resulting plot.](Images/5-4-monte-carlo-line-plot.png)\n",
    "\n",
    "3. Plot the probability distribution of the Monte Carlo simulation. Plot the probability distribution of the Monte Carlo simulation. The following image shows the histogram plot resulting from a simulation with these characteristics. However, because a random number generator is used to run each live Monte Carlo simulation, your image will differ slightly from this exact image:\n",
    "\n",
    "![A screenshot depicts the histogram plot.](Images/5-4-monte-carlo-histogram.png)\n",
    "\n",
    "4. Generate the summary statistics for the Monte Carlo simulation.\n",
    "\n"
   ],
   "metadata": {}
  },
  {
   "cell_type": "markdown",
   "source": [
    "#### Step 1: Make an API call via the Alpaca SDK to get 10 years of historical closing prices for a traditional 60/40 portfolio split: 60% stocks (SPY) and 40% bonds (AGG)."
   ],
   "metadata": {}
  },
  {
   "cell_type": "code",
   "execution_count": 206,
   "source": [
    "# Set start and end dates of 10 years back from your current date\r\n",
    "# Alternatively, you can use an end date of 2020-08-07 and work 10 years back from that date\r\n",
    "# I used a more recent date*** \r\n",
    "start_date = pd.Timestamp(\"2011-07-14\", tz=\"America/New_York\").isoformat()\r\n",
    "end_date = pd.Timestamp(\"2021-07-14\", tz=\"America/New_York\").isoformat()\r\n"
   ],
   "outputs": [],
   "metadata": {}
  },
  {
   "cell_type": "code",
   "execution_count": 207,
   "source": [
    "# Use the Alpaca get_barset function to make the API call to get the 10 years worth of pricing data\r\n",
    "# The tickers and timeframe parameters should have been set in Part 1 of this activity \r\n",
    "# The start and end dates should be updated with the information set above\r\n",
    "# Remember to add the df property to the end of the call so the response is returned as a DataFrame\r\n",
    "stock_and_bond_portfolio = alpaca.get_barset(\r\n",
    "    tickers,\r\n",
    "    timeframe,\r\n",
    "    start=start_date,\r\n",
    "    end=end_date,\r\n",
    "    limit=1000\r\n",
    ").df\r\n",
    "\r\n",
    "# Display both the first and last five rows of the DataFrame\r\n",
    "display(stock_and_bond_portfolio.head())\r\n",
    "display(stock_and_bond_portfolio.tail())"
   ],
   "outputs": [
    {
     "output_type": "display_data",
     "data": {
      "text/plain": [
       "                              AGG                                        \\\n",
       "                             open      high       low    close   volume   \n",
       "time                                                                      \n",
       "2017-07-25 00:00:00-04:00  109.60  109.6300  109.3900  109.429  2031555   \n",
       "2017-07-26 00:00:00-04:00  109.37  109.7100  109.3500  109.630  1506702   \n",
       "2017-07-27 00:00:00-04:00  109.51  109.5868  109.4301  109.495  1646046   \n",
       "2017-07-28 00:00:00-04:00  109.54  109.7000  109.4900  109.695  1732483   \n",
       "2017-07-31 00:00:00-04:00  109.69  109.7250  109.5800  109.660  1717095   \n",
       "\n",
       "                              SPY                                    \n",
       "                             open    high     low   close    volume  \n",
       "time                                                                 \n",
       "2017-07-25 00:00:00-04:00  247.68  247.80  247.16  247.39  35678875  \n",
       "2017-07-26 00:00:00-04:00  247.75  247.79  247.13  247.45  34672798  \n",
       "2017-07-27 00:00:00-04:00  247.96  248.00  245.68  247.22  56602565  \n",
       "2017-07-28 00:00:00-04:00  246.65  247.06  246.13  246.90  36125701  \n",
       "2017-07-31 00:00:00-04:00  247.37  247.48  246.53  246.74  36235893  "
      ],
      "text/html": [
       "<div>\n",
       "<style scoped>\n",
       "    .dataframe tbody tr th:only-of-type {\n",
       "        vertical-align: middle;\n",
       "    }\n",
       "\n",
       "    .dataframe tbody tr th {\n",
       "        vertical-align: top;\n",
       "    }\n",
       "\n",
       "    .dataframe thead tr th {\n",
       "        text-align: left;\n",
       "    }\n",
       "\n",
       "    .dataframe thead tr:last-of-type th {\n",
       "        text-align: right;\n",
       "    }\n",
       "</style>\n",
       "<table border=\"1\" class=\"dataframe\">\n",
       "  <thead>\n",
       "    <tr>\n",
       "      <th></th>\n",
       "      <th colspan=\"5\" halign=\"left\">AGG</th>\n",
       "      <th colspan=\"5\" halign=\"left\">SPY</th>\n",
       "    </tr>\n",
       "    <tr>\n",
       "      <th></th>\n",
       "      <th>open</th>\n",
       "      <th>high</th>\n",
       "      <th>low</th>\n",
       "      <th>close</th>\n",
       "      <th>volume</th>\n",
       "      <th>open</th>\n",
       "      <th>high</th>\n",
       "      <th>low</th>\n",
       "      <th>close</th>\n",
       "      <th>volume</th>\n",
       "    </tr>\n",
       "    <tr>\n",
       "      <th>time</th>\n",
       "      <th></th>\n",
       "      <th></th>\n",
       "      <th></th>\n",
       "      <th></th>\n",
       "      <th></th>\n",
       "      <th></th>\n",
       "      <th></th>\n",
       "      <th></th>\n",
       "      <th></th>\n",
       "      <th></th>\n",
       "    </tr>\n",
       "  </thead>\n",
       "  <tbody>\n",
       "    <tr>\n",
       "      <th>2017-07-25 00:00:00-04:00</th>\n",
       "      <td>109.60</td>\n",
       "      <td>109.6300</td>\n",
       "      <td>109.3900</td>\n",
       "      <td>109.429</td>\n",
       "      <td>2031555</td>\n",
       "      <td>247.68</td>\n",
       "      <td>247.80</td>\n",
       "      <td>247.16</td>\n",
       "      <td>247.39</td>\n",
       "      <td>35678875</td>\n",
       "    </tr>\n",
       "    <tr>\n",
       "      <th>2017-07-26 00:00:00-04:00</th>\n",
       "      <td>109.37</td>\n",
       "      <td>109.7100</td>\n",
       "      <td>109.3500</td>\n",
       "      <td>109.630</td>\n",
       "      <td>1506702</td>\n",
       "      <td>247.75</td>\n",
       "      <td>247.79</td>\n",
       "      <td>247.13</td>\n",
       "      <td>247.45</td>\n",
       "      <td>34672798</td>\n",
       "    </tr>\n",
       "    <tr>\n",
       "      <th>2017-07-27 00:00:00-04:00</th>\n",
       "      <td>109.51</td>\n",
       "      <td>109.5868</td>\n",
       "      <td>109.4301</td>\n",
       "      <td>109.495</td>\n",
       "      <td>1646046</td>\n",
       "      <td>247.96</td>\n",
       "      <td>248.00</td>\n",
       "      <td>245.68</td>\n",
       "      <td>247.22</td>\n",
       "      <td>56602565</td>\n",
       "    </tr>\n",
       "    <tr>\n",
       "      <th>2017-07-28 00:00:00-04:00</th>\n",
       "      <td>109.54</td>\n",
       "      <td>109.7000</td>\n",
       "      <td>109.4900</td>\n",
       "      <td>109.695</td>\n",
       "      <td>1732483</td>\n",
       "      <td>246.65</td>\n",
       "      <td>247.06</td>\n",
       "      <td>246.13</td>\n",
       "      <td>246.90</td>\n",
       "      <td>36125701</td>\n",
       "    </tr>\n",
       "    <tr>\n",
       "      <th>2017-07-31 00:00:00-04:00</th>\n",
       "      <td>109.69</td>\n",
       "      <td>109.7250</td>\n",
       "      <td>109.5800</td>\n",
       "      <td>109.660</td>\n",
       "      <td>1717095</td>\n",
       "      <td>247.37</td>\n",
       "      <td>247.48</td>\n",
       "      <td>246.53</td>\n",
       "      <td>246.74</td>\n",
       "      <td>36235893</td>\n",
       "    </tr>\n",
       "  </tbody>\n",
       "</table>\n",
       "</div>"
      ]
     },
     "metadata": {}
    },
    {
     "output_type": "display_data",
     "data": {
      "text/plain": [
       "                               AGG                                      \\\n",
       "                              open     high       low   close   volume   \n",
       "time                                                                     \n",
       "2021-07-08 00:00:00-04:00  116.040  116.180  115.9600  116.06  5685583   \n",
       "2021-07-09 00:00:00-04:00  115.735  115.760  115.6900  115.69  4602694   \n",
       "2021-07-12 00:00:00-04:00  115.800  115.805  115.6000  115.63  3184908   \n",
       "2021-07-13 00:00:00-04:00  115.650  115.760  115.3022  115.39  4698374   \n",
       "2021-07-14 00:00:00-04:00  115.590  115.760  115.5690  115.75  3907266   \n",
       "\n",
       "                              SPY                                     \n",
       "                             open    high      low   close    volume  \n",
       "time                                                                  \n",
       "2021-07-08 00:00:00-04:00  428.78  431.73  427.520  430.95  83417621  \n",
       "2021-07-09 00:00:00-04:00  432.53  435.84  430.714  435.48  59254094  \n",
       "2021-07-12 00:00:00-04:00  435.42  437.35  434.970  437.08  42031814  \n",
       "2021-07-13 00:00:00-04:00  436.26  437.84  435.310  435.62  45923305  \n",
       "2021-07-14 00:00:00-04:00  437.39  437.92  434.910  436.22  54445950  "
      ],
      "text/html": [
       "<div>\n",
       "<style scoped>\n",
       "    .dataframe tbody tr th:only-of-type {\n",
       "        vertical-align: middle;\n",
       "    }\n",
       "\n",
       "    .dataframe tbody tr th {\n",
       "        vertical-align: top;\n",
       "    }\n",
       "\n",
       "    .dataframe thead tr th {\n",
       "        text-align: left;\n",
       "    }\n",
       "\n",
       "    .dataframe thead tr:last-of-type th {\n",
       "        text-align: right;\n",
       "    }\n",
       "</style>\n",
       "<table border=\"1\" class=\"dataframe\">\n",
       "  <thead>\n",
       "    <tr>\n",
       "      <th></th>\n",
       "      <th colspan=\"5\" halign=\"left\">AGG</th>\n",
       "      <th colspan=\"5\" halign=\"left\">SPY</th>\n",
       "    </tr>\n",
       "    <tr>\n",
       "      <th></th>\n",
       "      <th>open</th>\n",
       "      <th>high</th>\n",
       "      <th>low</th>\n",
       "      <th>close</th>\n",
       "      <th>volume</th>\n",
       "      <th>open</th>\n",
       "      <th>high</th>\n",
       "      <th>low</th>\n",
       "      <th>close</th>\n",
       "      <th>volume</th>\n",
       "    </tr>\n",
       "    <tr>\n",
       "      <th>time</th>\n",
       "      <th></th>\n",
       "      <th></th>\n",
       "      <th></th>\n",
       "      <th></th>\n",
       "      <th></th>\n",
       "      <th></th>\n",
       "      <th></th>\n",
       "      <th></th>\n",
       "      <th></th>\n",
       "      <th></th>\n",
       "    </tr>\n",
       "  </thead>\n",
       "  <tbody>\n",
       "    <tr>\n",
       "      <th>2021-07-08 00:00:00-04:00</th>\n",
       "      <td>116.040</td>\n",
       "      <td>116.180</td>\n",
       "      <td>115.9600</td>\n",
       "      <td>116.06</td>\n",
       "      <td>5685583</td>\n",
       "      <td>428.78</td>\n",
       "      <td>431.73</td>\n",
       "      <td>427.520</td>\n",
       "      <td>430.95</td>\n",
       "      <td>83417621</td>\n",
       "    </tr>\n",
       "    <tr>\n",
       "      <th>2021-07-09 00:00:00-04:00</th>\n",
       "      <td>115.735</td>\n",
       "      <td>115.760</td>\n",
       "      <td>115.6900</td>\n",
       "      <td>115.69</td>\n",
       "      <td>4602694</td>\n",
       "      <td>432.53</td>\n",
       "      <td>435.84</td>\n",
       "      <td>430.714</td>\n",
       "      <td>435.48</td>\n",
       "      <td>59254094</td>\n",
       "    </tr>\n",
       "    <tr>\n",
       "      <th>2021-07-12 00:00:00-04:00</th>\n",
       "      <td>115.800</td>\n",
       "      <td>115.805</td>\n",
       "      <td>115.6000</td>\n",
       "      <td>115.63</td>\n",
       "      <td>3184908</td>\n",
       "      <td>435.42</td>\n",
       "      <td>437.35</td>\n",
       "      <td>434.970</td>\n",
       "      <td>437.08</td>\n",
       "      <td>42031814</td>\n",
       "    </tr>\n",
       "    <tr>\n",
       "      <th>2021-07-13 00:00:00-04:00</th>\n",
       "      <td>115.650</td>\n",
       "      <td>115.760</td>\n",
       "      <td>115.3022</td>\n",
       "      <td>115.39</td>\n",
       "      <td>4698374</td>\n",
       "      <td>436.26</td>\n",
       "      <td>437.84</td>\n",
       "      <td>435.310</td>\n",
       "      <td>435.62</td>\n",
       "      <td>45923305</td>\n",
       "    </tr>\n",
       "    <tr>\n",
       "      <th>2021-07-14 00:00:00-04:00</th>\n",
       "      <td>115.590</td>\n",
       "      <td>115.760</td>\n",
       "      <td>115.5690</td>\n",
       "      <td>115.75</td>\n",
       "      <td>3907266</td>\n",
       "      <td>437.39</td>\n",
       "      <td>437.92</td>\n",
       "      <td>434.910</td>\n",
       "      <td>436.22</td>\n",
       "      <td>54445950</td>\n",
       "    </tr>\n",
       "  </tbody>\n",
       "</table>\n",
       "</div>"
      ]
     },
     "metadata": {}
    }
   ],
   "metadata": {}
  },
  {
   "cell_type": "markdown",
   "source": [
    "#### Step 2: Run a Monte Carlo simulation of 500 samples and 30 years for the 60/40 portfolio, and then plot the results."
   ],
   "metadata": {}
  },
  {
   "cell_type": "code",
   "execution_count": 208,
   "source": [
    "# Configure the Monte Carlo simulation to forecast 30 years cumulative returns\r\n",
    "# The weights should be split 40% to AGG and 60% to SPY.\r\n",
    "# Run 500 samples.\r\n",
    "num_sims = 500\r\n",
    "\r\n",
    "# Review the simulation input data\r\n",
    "thirty_year_simulation = MCSimulation(\r\n",
    "    portfolio_data=stock_and_bond_portfolio,\r\n",
    "    weights=[0.60, 0.40],\r\n",
    "    num_simulation=num_sims,\r\n",
    "    num_trading_days=252*30\r\n",
    ")"
   ],
   "outputs": [],
   "metadata": {}
  },
  {
   "cell_type": "code",
   "execution_count": 209,
   "source": [
    "# Run the Monte Carlo simulation to forecast 30 years cumulative returns\r\n",
    "thirty_year_simulation.calc_cumulative_return()\r\n"
   ],
   "outputs": [
    {
     "output_type": "stream",
     "name": "stdout",
     "text": [
      "Running Monte Carlo simulation number 0.\n",
      "Running Monte Carlo simulation number 10.\n",
      "Running Monte Carlo simulation number 20.\n",
      "Running Monte Carlo simulation number 30.\n",
      "Running Monte Carlo simulation number 40.\n",
      "Running Monte Carlo simulation number 50.\n",
      "Running Monte Carlo simulation number 60.\n",
      "Running Monte Carlo simulation number 70.\n",
      "Running Monte Carlo simulation number 80.\n",
      "Running Monte Carlo simulation number 90.\n",
      "Running Monte Carlo simulation number 100.\n",
      "Running Monte Carlo simulation number 110.\n",
      "Running Monte Carlo simulation number 120.\n",
      "Running Monte Carlo simulation number 130.\n",
      "Running Monte Carlo simulation number 140.\n",
      "Running Monte Carlo simulation number 150.\n",
      "Running Monte Carlo simulation number 160.\n",
      "Running Monte Carlo simulation number 170.\n",
      "Running Monte Carlo simulation number 180.\n",
      "Running Monte Carlo simulation number 190.\n",
      "Running Monte Carlo simulation number 200.\n",
      "Running Monte Carlo simulation number 210.\n",
      "Running Monte Carlo simulation number 220.\n",
      "Running Monte Carlo simulation number 230.\n",
      "Running Monte Carlo simulation number 240.\n",
      "Running Monte Carlo simulation number 250.\n",
      "Running Monte Carlo simulation number 260.\n",
      "Running Monte Carlo simulation number 270.\n",
      "Running Monte Carlo simulation number 280.\n",
      "Running Monte Carlo simulation number 290.\n",
      "Running Monte Carlo simulation number 300.\n",
      "Running Monte Carlo simulation number 310.\n",
      "Running Monte Carlo simulation number 320.\n",
      "Running Monte Carlo simulation number 330.\n",
      "Running Monte Carlo simulation number 340.\n",
      "Running Monte Carlo simulation number 350.\n",
      "Running Monte Carlo simulation number 360.\n",
      "Running Monte Carlo simulation number 370.\n",
      "Running Monte Carlo simulation number 380.\n",
      "Running Monte Carlo simulation number 390.\n",
      "Running Monte Carlo simulation number 400.\n",
      "Running Monte Carlo simulation number 410.\n",
      "Running Monte Carlo simulation number 420.\n",
      "Running Monte Carlo simulation number 430.\n",
      "Running Monte Carlo simulation number 440.\n",
      "Running Monte Carlo simulation number 450.\n",
      "Running Monte Carlo simulation number 460.\n",
      "Running Monte Carlo simulation number 470.\n",
      "Running Monte Carlo simulation number 480.\n",
      "Running Monte Carlo simulation number 490.\n"
     ]
    },
    {
     "output_type": "execute_result",
     "data": {
      "text/plain": [
       "           0         1         2         3          4         5          6    \\\n",
       "0     1.000000  1.000000  1.000000  1.000000   1.000000  1.000000   1.000000   \n",
       "1     1.002804  0.994895  1.005758  1.006167   1.008621  0.986320   0.998972   \n",
       "2     1.008716  1.005028  1.006756  1.006370   1.006089  0.983548   0.997589   \n",
       "3     1.004710  1.001658  0.995528  1.002867   1.010124  0.985398   0.999451   \n",
       "4     0.995009  1.002364  0.999074  0.997275   1.010736  0.992599   0.997767   \n",
       "...        ...       ...       ...       ...        ...       ...        ...   \n",
       "7556  9.761113  3.273357  9.947064  9.497608  15.727189  5.933806  13.707334   \n",
       "7557  9.716269  3.255114  9.953339  9.408765  15.645067  5.945173  13.698398   \n",
       "7558  9.709307  3.288695  9.994704  9.407683  15.680199  5.921714  13.716953   \n",
       "7559  9.641216  3.250325  9.982541  9.426068  15.660842  5.891747  13.583962   \n",
       "7560  9.667907  3.253882  9.899482  9.472773  15.458579  5.895919  13.555028   \n",
       "\n",
       "           7          8          9    ...       490        491        492  \\\n",
       "0     1.000000   1.000000   1.000000  ...  1.000000   1.000000   1.000000   \n",
       "1     1.005546   0.995392   1.010001  ...  1.003717   1.004231   0.998188   \n",
       "2     1.012251   0.988631   0.999536  ...  1.010816   1.000168   1.000064   \n",
       "3     1.007576   0.994987   1.002407  ...  1.020491   0.994155   1.003151   \n",
       "4     1.005334   0.989821   1.003108  ...  1.022501   0.991204   1.008015   \n",
       "...        ...        ...        ...  ...       ...        ...        ...   \n",
       "7556  8.853038  16.109148  15.441891  ...  8.285009  15.538639  10.489268   \n",
       "7557  8.910625  16.150940  15.509211  ...  8.282680  15.539827  10.500764   \n",
       "7558  8.827809  16.238849  15.611202  ...  8.309807  15.456724  10.464686   \n",
       "7559  8.858427  16.301854  15.666476  ...  8.193747  15.534596  10.434330   \n",
       "7560  8.896141  16.285676  15.598855  ...  8.180318  15.435446  10.451698   \n",
       "\n",
       "            493        494       495        496       497       498        499  \n",
       "0      1.000000   1.000000  1.000000   1.000000  1.000000  1.000000   1.000000  \n",
       "1      0.991743   1.006733  0.998776   0.997973  1.002806  1.003540   0.997293  \n",
       "2      0.987543   1.008583  1.007519   1.004305  1.003233  0.995628   0.998094  \n",
       "3      0.988616   1.011540  1.003001   1.002257  1.001684  0.993582   1.005792  \n",
       "4      0.990635   1.015590  1.003298   1.005404  1.007027  0.992831   1.006310  \n",
       "...         ...        ...       ...        ...       ...       ...        ...  \n",
       "7556  18.055519  17.672316  6.657212  14.470394  6.682119  5.748352  12.211990  \n",
       "7557  17.955085  17.702750  6.655394  14.328655  6.694253  5.781554  12.251147  \n",
       "7558  17.907828  17.632307  6.691291  14.495556  6.700129  5.697484  12.154161  \n",
       "7559  17.936553  17.775074  6.675421  14.620202  6.722596  5.706026  12.105083  \n",
       "7560  17.810615  17.906008  6.733534  14.673336  6.716140  5.667365  12.099547  \n",
       "\n",
       "[7561 rows x 500 columns]"
      ],
      "text/html": [
       "<div>\n",
       "<style scoped>\n",
       "    .dataframe tbody tr th:only-of-type {\n",
       "        vertical-align: middle;\n",
       "    }\n",
       "\n",
       "    .dataframe tbody tr th {\n",
       "        vertical-align: top;\n",
       "    }\n",
       "\n",
       "    .dataframe thead th {\n",
       "        text-align: right;\n",
       "    }\n",
       "</style>\n",
       "<table border=\"1\" class=\"dataframe\">\n",
       "  <thead>\n",
       "    <tr style=\"text-align: right;\">\n",
       "      <th></th>\n",
       "      <th>0</th>\n",
       "      <th>1</th>\n",
       "      <th>2</th>\n",
       "      <th>3</th>\n",
       "      <th>4</th>\n",
       "      <th>5</th>\n",
       "      <th>6</th>\n",
       "      <th>7</th>\n",
       "      <th>8</th>\n",
       "      <th>9</th>\n",
       "      <th>...</th>\n",
       "      <th>490</th>\n",
       "      <th>491</th>\n",
       "      <th>492</th>\n",
       "      <th>493</th>\n",
       "      <th>494</th>\n",
       "      <th>495</th>\n",
       "      <th>496</th>\n",
       "      <th>497</th>\n",
       "      <th>498</th>\n",
       "      <th>499</th>\n",
       "    </tr>\n",
       "  </thead>\n",
       "  <tbody>\n",
       "    <tr>\n",
       "      <th>0</th>\n",
       "      <td>1.000000</td>\n",
       "      <td>1.000000</td>\n",
       "      <td>1.000000</td>\n",
       "      <td>1.000000</td>\n",
       "      <td>1.000000</td>\n",
       "      <td>1.000000</td>\n",
       "      <td>1.000000</td>\n",
       "      <td>1.000000</td>\n",
       "      <td>1.000000</td>\n",
       "      <td>1.000000</td>\n",
       "      <td>...</td>\n",
       "      <td>1.000000</td>\n",
       "      <td>1.000000</td>\n",
       "      <td>1.000000</td>\n",
       "      <td>1.000000</td>\n",
       "      <td>1.000000</td>\n",
       "      <td>1.000000</td>\n",
       "      <td>1.000000</td>\n",
       "      <td>1.000000</td>\n",
       "      <td>1.000000</td>\n",
       "      <td>1.000000</td>\n",
       "    </tr>\n",
       "    <tr>\n",
       "      <th>1</th>\n",
       "      <td>1.002804</td>\n",
       "      <td>0.994895</td>\n",
       "      <td>1.005758</td>\n",
       "      <td>1.006167</td>\n",
       "      <td>1.008621</td>\n",
       "      <td>0.986320</td>\n",
       "      <td>0.998972</td>\n",
       "      <td>1.005546</td>\n",
       "      <td>0.995392</td>\n",
       "      <td>1.010001</td>\n",
       "      <td>...</td>\n",
       "      <td>1.003717</td>\n",
       "      <td>1.004231</td>\n",
       "      <td>0.998188</td>\n",
       "      <td>0.991743</td>\n",
       "      <td>1.006733</td>\n",
       "      <td>0.998776</td>\n",
       "      <td>0.997973</td>\n",
       "      <td>1.002806</td>\n",
       "      <td>1.003540</td>\n",
       "      <td>0.997293</td>\n",
       "    </tr>\n",
       "    <tr>\n",
       "      <th>2</th>\n",
       "      <td>1.008716</td>\n",
       "      <td>1.005028</td>\n",
       "      <td>1.006756</td>\n",
       "      <td>1.006370</td>\n",
       "      <td>1.006089</td>\n",
       "      <td>0.983548</td>\n",
       "      <td>0.997589</td>\n",
       "      <td>1.012251</td>\n",
       "      <td>0.988631</td>\n",
       "      <td>0.999536</td>\n",
       "      <td>...</td>\n",
       "      <td>1.010816</td>\n",
       "      <td>1.000168</td>\n",
       "      <td>1.000064</td>\n",
       "      <td>0.987543</td>\n",
       "      <td>1.008583</td>\n",
       "      <td>1.007519</td>\n",
       "      <td>1.004305</td>\n",
       "      <td>1.003233</td>\n",
       "      <td>0.995628</td>\n",
       "      <td>0.998094</td>\n",
       "    </tr>\n",
       "    <tr>\n",
       "      <th>3</th>\n",
       "      <td>1.004710</td>\n",
       "      <td>1.001658</td>\n",
       "      <td>0.995528</td>\n",
       "      <td>1.002867</td>\n",
       "      <td>1.010124</td>\n",
       "      <td>0.985398</td>\n",
       "      <td>0.999451</td>\n",
       "      <td>1.007576</td>\n",
       "      <td>0.994987</td>\n",
       "      <td>1.002407</td>\n",
       "      <td>...</td>\n",
       "      <td>1.020491</td>\n",
       "      <td>0.994155</td>\n",
       "      <td>1.003151</td>\n",
       "      <td>0.988616</td>\n",
       "      <td>1.011540</td>\n",
       "      <td>1.003001</td>\n",
       "      <td>1.002257</td>\n",
       "      <td>1.001684</td>\n",
       "      <td>0.993582</td>\n",
       "      <td>1.005792</td>\n",
       "    </tr>\n",
       "    <tr>\n",
       "      <th>4</th>\n",
       "      <td>0.995009</td>\n",
       "      <td>1.002364</td>\n",
       "      <td>0.999074</td>\n",
       "      <td>0.997275</td>\n",
       "      <td>1.010736</td>\n",
       "      <td>0.992599</td>\n",
       "      <td>0.997767</td>\n",
       "      <td>1.005334</td>\n",
       "      <td>0.989821</td>\n",
       "      <td>1.003108</td>\n",
       "      <td>...</td>\n",
       "      <td>1.022501</td>\n",
       "      <td>0.991204</td>\n",
       "      <td>1.008015</td>\n",
       "      <td>0.990635</td>\n",
       "      <td>1.015590</td>\n",
       "      <td>1.003298</td>\n",
       "      <td>1.005404</td>\n",
       "      <td>1.007027</td>\n",
       "      <td>0.992831</td>\n",
       "      <td>1.006310</td>\n",
       "    </tr>\n",
       "    <tr>\n",
       "      <th>...</th>\n",
       "      <td>...</td>\n",
       "      <td>...</td>\n",
       "      <td>...</td>\n",
       "      <td>...</td>\n",
       "      <td>...</td>\n",
       "      <td>...</td>\n",
       "      <td>...</td>\n",
       "      <td>...</td>\n",
       "      <td>...</td>\n",
       "      <td>...</td>\n",
       "      <td>...</td>\n",
       "      <td>...</td>\n",
       "      <td>...</td>\n",
       "      <td>...</td>\n",
       "      <td>...</td>\n",
       "      <td>...</td>\n",
       "      <td>...</td>\n",
       "      <td>...</td>\n",
       "      <td>...</td>\n",
       "      <td>...</td>\n",
       "      <td>...</td>\n",
       "    </tr>\n",
       "    <tr>\n",
       "      <th>7556</th>\n",
       "      <td>9.761113</td>\n",
       "      <td>3.273357</td>\n",
       "      <td>9.947064</td>\n",
       "      <td>9.497608</td>\n",
       "      <td>15.727189</td>\n",
       "      <td>5.933806</td>\n",
       "      <td>13.707334</td>\n",
       "      <td>8.853038</td>\n",
       "      <td>16.109148</td>\n",
       "      <td>15.441891</td>\n",
       "      <td>...</td>\n",
       "      <td>8.285009</td>\n",
       "      <td>15.538639</td>\n",
       "      <td>10.489268</td>\n",
       "      <td>18.055519</td>\n",
       "      <td>17.672316</td>\n",
       "      <td>6.657212</td>\n",
       "      <td>14.470394</td>\n",
       "      <td>6.682119</td>\n",
       "      <td>5.748352</td>\n",
       "      <td>12.211990</td>\n",
       "    </tr>\n",
       "    <tr>\n",
       "      <th>7557</th>\n",
       "      <td>9.716269</td>\n",
       "      <td>3.255114</td>\n",
       "      <td>9.953339</td>\n",
       "      <td>9.408765</td>\n",
       "      <td>15.645067</td>\n",
       "      <td>5.945173</td>\n",
       "      <td>13.698398</td>\n",
       "      <td>8.910625</td>\n",
       "      <td>16.150940</td>\n",
       "      <td>15.509211</td>\n",
       "      <td>...</td>\n",
       "      <td>8.282680</td>\n",
       "      <td>15.539827</td>\n",
       "      <td>10.500764</td>\n",
       "      <td>17.955085</td>\n",
       "      <td>17.702750</td>\n",
       "      <td>6.655394</td>\n",
       "      <td>14.328655</td>\n",
       "      <td>6.694253</td>\n",
       "      <td>5.781554</td>\n",
       "      <td>12.251147</td>\n",
       "    </tr>\n",
       "    <tr>\n",
       "      <th>7558</th>\n",
       "      <td>9.709307</td>\n",
       "      <td>3.288695</td>\n",
       "      <td>9.994704</td>\n",
       "      <td>9.407683</td>\n",
       "      <td>15.680199</td>\n",
       "      <td>5.921714</td>\n",
       "      <td>13.716953</td>\n",
       "      <td>8.827809</td>\n",
       "      <td>16.238849</td>\n",
       "      <td>15.611202</td>\n",
       "      <td>...</td>\n",
       "      <td>8.309807</td>\n",
       "      <td>15.456724</td>\n",
       "      <td>10.464686</td>\n",
       "      <td>17.907828</td>\n",
       "      <td>17.632307</td>\n",
       "      <td>6.691291</td>\n",
       "      <td>14.495556</td>\n",
       "      <td>6.700129</td>\n",
       "      <td>5.697484</td>\n",
       "      <td>12.154161</td>\n",
       "    </tr>\n",
       "    <tr>\n",
       "      <th>7559</th>\n",
       "      <td>9.641216</td>\n",
       "      <td>3.250325</td>\n",
       "      <td>9.982541</td>\n",
       "      <td>9.426068</td>\n",
       "      <td>15.660842</td>\n",
       "      <td>5.891747</td>\n",
       "      <td>13.583962</td>\n",
       "      <td>8.858427</td>\n",
       "      <td>16.301854</td>\n",
       "      <td>15.666476</td>\n",
       "      <td>...</td>\n",
       "      <td>8.193747</td>\n",
       "      <td>15.534596</td>\n",
       "      <td>10.434330</td>\n",
       "      <td>17.936553</td>\n",
       "      <td>17.775074</td>\n",
       "      <td>6.675421</td>\n",
       "      <td>14.620202</td>\n",
       "      <td>6.722596</td>\n",
       "      <td>5.706026</td>\n",
       "      <td>12.105083</td>\n",
       "    </tr>\n",
       "    <tr>\n",
       "      <th>7560</th>\n",
       "      <td>9.667907</td>\n",
       "      <td>3.253882</td>\n",
       "      <td>9.899482</td>\n",
       "      <td>9.472773</td>\n",
       "      <td>15.458579</td>\n",
       "      <td>5.895919</td>\n",
       "      <td>13.555028</td>\n",
       "      <td>8.896141</td>\n",
       "      <td>16.285676</td>\n",
       "      <td>15.598855</td>\n",
       "      <td>...</td>\n",
       "      <td>8.180318</td>\n",
       "      <td>15.435446</td>\n",
       "      <td>10.451698</td>\n",
       "      <td>17.810615</td>\n",
       "      <td>17.906008</td>\n",
       "      <td>6.733534</td>\n",
       "      <td>14.673336</td>\n",
       "      <td>6.716140</td>\n",
       "      <td>5.667365</td>\n",
       "      <td>12.099547</td>\n",
       "    </tr>\n",
       "  </tbody>\n",
       "</table>\n",
       "<p>7561 rows × 500 columns</p>\n",
       "</div>"
      ]
     },
     "metadata": {},
     "execution_count": 209
    }
   ],
   "metadata": {}
  },
  {
   "cell_type": "code",
   "execution_count": 210,
   "source": [
    "# Visualize the 30-year Monte Carlo simulation by creating an\r\n",
    "# overlay line plot\r\n",
    "line_plot_1 = thirty_year_simulation.plot_simulation()"
   ],
   "outputs": [
    {
     "output_type": "display_data",
     "data": {
      "text/plain": [
       "<Figure size 432x288 with 1 Axes>"
      ],
      "image/png": "[encoded data removed]"
     },
     "metadata": {
      "needs_background": "light"
     }
    }
   ],
   "metadata": {}
  },
  {
   "cell_type": "markdown",
   "source": [
    "#### Step 3: Plot the probability distribution of the Monte Carlo simulation."
   ],
   "metadata": {}
  },
  {
   "cell_type": "code",
   "execution_count": 211,
   "source": [
    "# Visualize the probability distribution of the 30-year Monte Carlo simulation \r\n",
    "# by plotting a histogram\r\n",
    "thirty_year_simulation.plot_distribution()"
   ],
   "outputs": [
    {
     "output_type": "execute_result",
     "data": {
      "text/plain": [
       "<AxesSubplot:title={'center':'Distribution of Final Cumuluative Returns Across All 500 Simulations'}, ylabel='Frequency'>"
      ]
     },
     "metadata": {},
     "execution_count": 211
    },
    {
     "output_type": "display_data",
     "data": {
      "text/plain": [
       "<Figure size 432x288 with 1 Axes>"
      ],
      "image/png": "[encoded data removed]"
     },
     "metadata": {
      "needs_background": "light"
     }
    }
   ],
   "metadata": {}
  },
  {
   "cell_type": "markdown",
   "source": [
    "#### Step 4: Generate the summary statistics for the Monte Carlo simulation."
   ],
   "metadata": {}
  },
  {
   "cell_type": "code",
   "execution_count": 212,
   "source": [
    "# Generate summary statistics from the 30-year Monte Carlo simulation results\r\n",
    "# Save the results as a variable\r\n",
    "thirty_year_simulation_summary_stats = thirty_year_simulation.summarize_cumulative_return()\r\n",
    "\r\n",
    "# Review the 30-year Monte Carlo summary statistics\r\n",
    "print(thirty_year_simulation_summary_stats)"
   ],
   "outputs": [
    {
     "output_type": "stream",
     "name": "stdout",
     "text": [
      "count           500.000000\n",
      "mean              9.995481\n",
      "std               5.057878\n",
      "min               2.043194\n",
      "25%               6.475705\n",
      "50%               8.819113\n",
      "75%              12.094696\n",
      "max              38.992512\n",
      "95% CI Lower      3.314145\n",
      "95% CI Upper     23.126955\n",
      "Name: 7560, dtype: float64\n"
     ]
    }
   ],
   "metadata": {}
  },
  {
   "cell_type": "markdown",
   "source": [
    "### Analyze the Retirement Portfolio Forecasts\n",
    "\n",
    "Using the current value of only the stock and bond portion of the member's portfolio and the summary statistics that you generated from the Monte Carlo simulation, answer the following question in your Jupyter notebook:\n",
    "\n",
    "-  What are the lower and upper bounds for the expected value of the portfolio with a 95% confidence interval?\n"
   ],
   "metadata": {}
  },
  {
   "cell_type": "code",
   "execution_count": 213,
   "source": [
    "# Print the current balance of the stock and bond portion of the members portfolio\r\n",
    "print(total_stocks_bonds)\r\n"
   ],
   "outputs": [
    {
     "output_type": "stream",
     "name": "stdout",
     "text": [
      "71134.20000000001\n"
     ]
    }
   ],
   "metadata": {}
  },
  {
   "cell_type": "code",
   "execution_count": 214,
   "source": [
    "# Use the lower and upper `95%` confidence intervals to calculate the range of the possible outcomes for the current stock/bond portfolio\r\n",
    "ci_lower_thirty_cumulative_return = round(thirty_year_simulation_summary_stats[8],2)\r\n",
    "ci_upper_thirty_cumulative_return = round(thirty_year_simulation_summary_stats[9],2)\r\n",
    "\r\n",
    "# Print the result of your calculations\r\n",
    "display(ci_lower_thirty_cumulative_return)\r\n",
    "display(ci_upper_thirty_cumulative_return)\r\n"
   ],
   "outputs": [
    {
     "output_type": "display_data",
     "data": {
      "text/plain": [
       "3.31"
      ]
     },
     "metadata": {}
    },
    {
     "output_type": "display_data",
     "data": {
      "text/plain": [
       "23.13"
      ]
     },
     "metadata": {}
    }
   ],
   "metadata": {}
  },
  {
   "cell_type": "markdown",
   "source": [
    "### Forecast Cumulative Returns in 10 Years\n",
    "\n",
    "The CTO of the credit union is impressed with your work on these planning tools but wonders if 30 years is a long time to wait until retirement. So, your next task is to adjust the retirement portfolio and run a new Monte Carlo simulation to find out if the changes will allow members to retire earlier.\n",
    "\n",
    "For this new Monte Carlo simulation, do the following: \n",
    "\n",
    "- Forecast the cumulative returns for 10 years from now. Because of the shortened investment horizon (30 years to 10 years), the portfolio needs to invest more heavily in the riskier asset&mdash;that is, stock&mdash;to help accumulate wealth for retirement. \n",
    "\n",
    "- Adjust the weights of the retirement portfolio so that the composition for the Monte Carlo simulation consists of 20% bonds and 80% stocks. \n",
    "\n",
    "- Run the simulation over 500 samples, and use the same data that the API call to Alpaca generated.\n",
    "\n",
    "- Based on the new Monte Carlo simulation, answer the following questions in your Jupyter notebook:\n",
    "\n",
    "    - Using the current value of only the stock and bond portion of the member's portfolio and the summary statistics that you generated from the new Monte Carlo simulation, what are the lower and upper bounds for the expected value of the portfolio (with the new weights) with a 95% confidence interval?\n",
    "\n",
    "    - Will weighting the portfolio more heavily toward stocks allow the credit union members to retire after only 10 years?\n"
   ],
   "metadata": {}
  },
  {
   "cell_type": "code",
   "execution_count": 215,
   "source": [
    "# Configure a Monte Carlo simulation to forecast 10 years cumulative returns\r\n",
    "# The weights should be split 20% to AGG and 80% to SPY.\r\n",
    "# Run 500 samples.\r\n",
    "ten_year_simulation = MCSimulation(\r\n",
    "    portfolio_data=stock_and_bond_portfolio,\r\n",
    "    weights=[0.80, 0.20],\r\n",
    "    num_simulation=num_sims,\r\n",
    "    num_trading_days=252*10\r\n",
    ")\r\n",
    "\r\n",
    "\r\n",
    "# Review the simulation input data\r\n",
    "# Run the Monte Carlo simulation to forecast 10 years cumulative returns\r\n",
    "ten_year_simulation.calc_cumulative_return()\r\n"
   ],
   "outputs": [
    {
     "output_type": "stream",
     "name": "stdout",
     "text": [
      "Running Monte Carlo simulation number 0.\n",
      "Running Monte Carlo simulation number 10.\n",
      "Running Monte Carlo simulation number 20.\n",
      "Running Monte Carlo simulation number 30.\n",
      "Running Monte Carlo simulation number 40.\n",
      "Running Monte Carlo simulation number 50.\n",
      "Running Monte Carlo simulation number 60.\n",
      "Running Monte Carlo simulation number 70.\n",
      "Running Monte Carlo simulation number 80.\n",
      "Running Monte Carlo simulation number 90.\n",
      "Running Monte Carlo simulation number 100.\n",
      "Running Monte Carlo simulation number 110.\n",
      "Running Monte Carlo simulation number 120.\n",
      "Running Monte Carlo simulation number 130.\n",
      "Running Monte Carlo simulation number 140.\n",
      "Running Monte Carlo simulation number 150.\n",
      "Running Monte Carlo simulation number 160.\n",
      "Running Monte Carlo simulation number 170.\n",
      "Running Monte Carlo simulation number 180.\n",
      "Running Monte Carlo simulation number 190.\n",
      "Running Monte Carlo simulation number 200.\n",
      "Running Monte Carlo simulation number 210.\n",
      "Running Monte Carlo simulation number 220.\n",
      "Running Monte Carlo simulation number 230.\n",
      "Running Monte Carlo simulation number 240.\n",
      "Running Monte Carlo simulation number 250.\n",
      "Running Monte Carlo simulation number 260.\n",
      "Running Monte Carlo simulation number 270.\n",
      "Running Monte Carlo simulation number 280.\n",
      "Running Monte Carlo simulation number 290.\n",
      "Running Monte Carlo simulation number 300.\n",
      "Running Monte Carlo simulation number 310.\n",
      "Running Monte Carlo simulation number 320.\n",
      "Running Monte Carlo simulation number 330.\n",
      "Running Monte Carlo simulation number 340.\n",
      "Running Monte Carlo simulation number 350.\n",
      "Running Monte Carlo simulation number 360.\n",
      "Running Monte Carlo simulation number 370.\n",
      "Running Monte Carlo simulation number 380.\n",
      "Running Monte Carlo simulation number 390.\n",
      "Running Monte Carlo simulation number 400.\n",
      "Running Monte Carlo simulation number 410.\n",
      "Running Monte Carlo simulation number 420.\n",
      "Running Monte Carlo simulation number 430.\n",
      "Running Monte Carlo simulation number 440.\n",
      "Running Monte Carlo simulation number 450.\n",
      "Running Monte Carlo simulation number 460.\n",
      "Running Monte Carlo simulation number 470.\n",
      "Running Monte Carlo simulation number 480.\n",
      "Running Monte Carlo simulation number 490.\n"
     ]
    },
    {
     "output_type": "execute_result",
     "data": {
      "text/plain": [
       "           0         1         2         3         4         5         6    \\\n",
       "0     1.000000  1.000000  1.000000  1.000000  1.000000  1.000000  1.000000   \n",
       "1     1.001984  0.997948  1.003638  1.003480  0.998869  1.000520  0.995075   \n",
       "2     1.002109  1.001693  1.004760  1.004750  1.002344  1.000971  1.001554   \n",
       "3     0.997119  1.005779  1.000425  1.006109  0.999295  0.995919  0.999052   \n",
       "4     0.993302  1.001024  0.995838  1.001192  1.002332  1.001958  1.003340   \n",
       "...        ...       ...       ...       ...       ...       ...       ...   \n",
       "2516  1.477275  2.089995  1.428395  1.693903  1.568089  1.659709  1.601369   \n",
       "2517  1.477812  2.089144  1.425070  1.689237  1.565164  1.666249  1.589521   \n",
       "2518  1.473280  2.088298  1.426780  1.689141  1.575137  1.662937  1.595363   \n",
       "2519  1.473170  2.102777  1.427815  1.685932  1.583657  1.665441  1.594265   \n",
       "2520  1.477404  2.098932  1.421023  1.682010  1.579068  1.666514  1.589348   \n",
       "\n",
       "           7         8         9    ...       490       491       492  \\\n",
       "0     1.000000  1.000000  1.000000  ...  1.000000  1.000000  1.000000   \n",
       "1     0.999566  1.001821  1.004175  ...  0.998193  1.004916  0.995436   \n",
       "2     0.992844  0.995267  1.006229  ...  0.998418  1.008346  1.000948   \n",
       "3     0.997503  0.992520  1.013167  ...  0.993324  1.010346  0.994864   \n",
       "4     0.990756  0.995918  1.010782  ...  0.992108  1.012236  0.998918   \n",
       "...        ...       ...       ...  ...       ...       ...       ...   \n",
       "2516  1.032149  1.876443  1.635162  ...  1.641102  1.206963  1.703715   \n",
       "2517  1.028985  1.876998  1.636806  ...  1.644433  1.207917  1.698506   \n",
       "2518  1.018441  1.877621  1.638462  ...  1.630967  1.205253  1.708544   \n",
       "2519  1.021761  1.886624  1.637539  ...  1.628152  1.207331  1.705792   \n",
       "2520  1.015463  1.878371  1.646327  ...  1.622988  1.206424  1.693708   \n",
       "\n",
       "           493       494       495       496       497       498       499  \n",
       "0     1.000000  1.000000  1.000000  1.000000  1.000000  1.000000  1.000000  \n",
       "1     1.001222  0.999093  0.997877  1.001955  1.002916  1.007797  1.000487  \n",
       "2     0.998901  1.002119  1.000779  1.005891  1.000625  1.009625  1.006135  \n",
       "3     0.995726  0.995462  0.999979  1.004153  0.999984  1.012885  1.007885  \n",
       "4     0.996989  0.994297  0.999224  1.000259  1.005962  1.015010  1.016336  \n",
       "...        ...       ...       ...       ...       ...       ...       ...  \n",
       "2516  1.435330  1.835504  1.313111  1.622950  1.692135  1.509422  1.518753  \n",
       "2517  1.442664  1.832460  1.308411  1.626963  1.694917  1.501971  1.530394  \n",
       "2518  1.445910  1.829752  1.310758  1.623039  1.708485  1.518035  1.540578  \n",
       "2519  1.447552  1.823596  1.316129  1.615268  1.708227  1.534634  1.544087  \n",
       "2520  1.453016  1.826967  1.324972  1.612399  1.710271  1.532524  1.554934  \n",
       "\n",
       "[2521 rows x 500 columns]"
      ],
      "text/html": [
       "<div>\n",
       "<style scoped>\n",
       "    .dataframe tbody tr th:only-of-type {\n",
       "        vertical-align: middle;\n",
       "    }\n",
       "\n",
       "    .dataframe tbody tr th {\n",
       "        vertical-align: top;\n",
       "    }\n",
       "\n",
       "    .dataframe thead th {\n",
       "        text-align: right;\n",
       "    }\n",
       "</style>\n",
       "<table border=\"1\" class=\"dataframe\">\n",
       "  <thead>\n",
       "    <tr style=\"text-align: right;\">\n",
       "      <th></th>\n",
       "      <th>0</th>\n",
       "      <th>1</th>\n",
       "      <th>2</th>\n",
       "      <th>3</th>\n",
       "      <th>4</th>\n",
       "      <th>5</th>\n",
       "      <th>6</th>\n",
       "      <th>7</th>\n",
       "      <th>8</th>\n",
       "      <th>9</th>\n",
       "      <th>...</th>\n",
       "      <th>490</th>\n",
       "      <th>491</th>\n",
       "      <th>492</th>\n",
       "      <th>493</th>\n",
       "      <th>494</th>\n",
       "      <th>495</th>\n",
       "      <th>496</th>\n",
       "      <th>497</th>\n",
       "      <th>498</th>\n",
       "      <th>499</th>\n",
       "    </tr>\n",
       "  </thead>\n",
       "  <tbody>\n",
       "    <tr>\n",
       "      <th>0</th>\n",
       "      <td>1.000000</td>\n",
       "      <td>1.000000</td>\n",
       "      <td>1.000000</td>\n",
       "      <td>1.000000</td>\n",
       "      <td>1.000000</td>\n",
       "      <td>1.000000</td>\n",
       "      <td>1.000000</td>\n",
       "      <td>1.000000</td>\n",
       "      <td>1.000000</td>\n",
       "      <td>1.000000</td>\n",
       "      <td>...</td>\n",
       "      <td>1.000000</td>\n",
       "      <td>1.000000</td>\n",
       "      <td>1.000000</td>\n",
       "      <td>1.000000</td>\n",
       "      <td>1.000000</td>\n",
       "      <td>1.000000</td>\n",
       "      <td>1.000000</td>\n",
       "      <td>1.000000</td>\n",
       "      <td>1.000000</td>\n",
       "      <td>1.000000</td>\n",
       "    </tr>\n",
       "    <tr>\n",
       "      <th>1</th>\n",
       "      <td>1.001984</td>\n",
       "      <td>0.997948</td>\n",
       "      <td>1.003638</td>\n",
       "      <td>1.003480</td>\n",
       "      <td>0.998869</td>\n",
       "      <td>1.000520</td>\n",
       "      <td>0.995075</td>\n",
       "      <td>0.999566</td>\n",
       "      <td>1.001821</td>\n",
       "      <td>1.004175</td>\n",
       "      <td>...</td>\n",
       "      <td>0.998193</td>\n",
       "      <td>1.004916</td>\n",
       "      <td>0.995436</td>\n",
       "      <td>1.001222</td>\n",
       "      <td>0.999093</td>\n",
       "      <td>0.997877</td>\n",
       "      <td>1.001955</td>\n",
       "      <td>1.002916</td>\n",
       "      <td>1.007797</td>\n",
       "      <td>1.000487</td>\n",
       "    </tr>\n",
       "    <tr>\n",
       "      <th>2</th>\n",
       "      <td>1.002109</td>\n",
       "      <td>1.001693</td>\n",
       "      <td>1.004760</td>\n",
       "      <td>1.004750</td>\n",
       "      <td>1.002344</td>\n",
       "      <td>1.000971</td>\n",
       "      <td>1.001554</td>\n",
       "      <td>0.992844</td>\n",
       "      <td>0.995267</td>\n",
       "      <td>1.006229</td>\n",
       "      <td>...</td>\n",
       "      <td>0.998418</td>\n",
       "      <td>1.008346</td>\n",
       "      <td>1.000948</td>\n",
       "      <td>0.998901</td>\n",
       "      <td>1.002119</td>\n",
       "      <td>1.000779</td>\n",
       "      <td>1.005891</td>\n",
       "      <td>1.000625</td>\n",
       "      <td>1.009625</td>\n",
       "      <td>1.006135</td>\n",
       "    </tr>\n",
       "    <tr>\n",
       "      <th>3</th>\n",
       "      <td>0.997119</td>\n",
       "      <td>1.005779</td>\n",
       "      <td>1.000425</td>\n",
       "      <td>1.006109</td>\n",
       "      <td>0.999295</td>\n",
       "      <td>0.995919</td>\n",
       "      <td>0.999052</td>\n",
       "      <td>0.997503</td>\n",
       "      <td>0.992520</td>\n",
       "      <td>1.013167</td>\n",
       "      <td>...</td>\n",
       "      <td>0.993324</td>\n",
       "      <td>1.010346</td>\n",
       "      <td>0.994864</td>\n",
       "      <td>0.995726</td>\n",
       "      <td>0.995462</td>\n",
       "      <td>0.999979</td>\n",
       "      <td>1.004153</td>\n",
       "      <td>0.999984</td>\n",
       "      <td>1.012885</td>\n",
       "      <td>1.007885</td>\n",
       "    </tr>\n",
       "    <tr>\n",
       "      <th>4</th>\n",
       "      <td>0.993302</td>\n",
       "      <td>1.001024</td>\n",
       "      <td>0.995838</td>\n",
       "      <td>1.001192</td>\n",
       "      <td>1.002332</td>\n",
       "      <td>1.001958</td>\n",
       "      <td>1.003340</td>\n",
       "      <td>0.990756</td>\n",
       "      <td>0.995918</td>\n",
       "      <td>1.010782</td>\n",
       "      <td>...</td>\n",
       "      <td>0.992108</td>\n",
       "      <td>1.012236</td>\n",
       "      <td>0.998918</td>\n",
       "      <td>0.996989</td>\n",
       "      <td>0.994297</td>\n",
       "      <td>0.999224</td>\n",
       "      <td>1.000259</td>\n",
       "      <td>1.005962</td>\n",
       "      <td>1.015010</td>\n",
       "      <td>1.016336</td>\n",
       "    </tr>\n",
       "    <tr>\n",
       "      <th>...</th>\n",
       "      <td>...</td>\n",
       "      <td>...</td>\n",
       "      <td>...</td>\n",
       "      <td>...</td>\n",
       "      <td>...</td>\n",
       "      <td>...</td>\n",
       "      <td>...</td>\n",
       "      <td>...</td>\n",
       "      <td>...</td>\n",
       "      <td>...</td>\n",
       "      <td>...</td>\n",
       "      <td>...</td>\n",
       "      <td>...</td>\n",
       "      <td>...</td>\n",
       "      <td>...</td>\n",
       "      <td>...</td>\n",
       "      <td>...</td>\n",
       "      <td>...</td>\n",
       "      <td>...</td>\n",
       "      <td>...</td>\n",
       "      <td>...</td>\n",
       "    </tr>\n",
       "    <tr>\n",
       "      <th>2516</th>\n",
       "      <td>1.477275</td>\n",
       "      <td>2.089995</td>\n",
       "      <td>1.428395</td>\n",
       "      <td>1.693903</td>\n",
       "      <td>1.568089</td>\n",
       "      <td>1.659709</td>\n",
       "      <td>1.601369</td>\n",
       "      <td>1.032149</td>\n",
       "      <td>1.876443</td>\n",
       "      <td>1.635162</td>\n",
       "      <td>...</td>\n",
       "      <td>1.641102</td>\n",
       "      <td>1.206963</td>\n",
       "      <td>1.703715</td>\n",
       "      <td>1.435330</td>\n",
       "      <td>1.835504</td>\n",
       "      <td>1.313111</td>\n",
       "      <td>1.622950</td>\n",
       "      <td>1.692135</td>\n",
       "      <td>1.509422</td>\n",
       "      <td>1.518753</td>\n",
       "    </tr>\n",
       "    <tr>\n",
       "      <th>2517</th>\n",
       "      <td>1.477812</td>\n",
       "      <td>2.089144</td>\n",
       "      <td>1.425070</td>\n",
       "      <td>1.689237</td>\n",
       "      <td>1.565164</td>\n",
       "      <td>1.666249</td>\n",
       "      <td>1.589521</td>\n",
       "      <td>1.028985</td>\n",
       "      <td>1.876998</td>\n",
       "      <td>1.636806</td>\n",
       "      <td>...</td>\n",
       "      <td>1.644433</td>\n",
       "      <td>1.207917</td>\n",
       "      <td>1.698506</td>\n",
       "      <td>1.442664</td>\n",
       "      <td>1.832460</td>\n",
       "      <td>1.308411</td>\n",
       "      <td>1.626963</td>\n",
       "      <td>1.694917</td>\n",
       "      <td>1.501971</td>\n",
       "      <td>1.530394</td>\n",
       "    </tr>\n",
       "    <tr>\n",
       "      <th>2518</th>\n",
       "      <td>1.473280</td>\n",
       "      <td>2.088298</td>\n",
       "      <td>1.426780</td>\n",
       "      <td>1.689141</td>\n",
       "      <td>1.575137</td>\n",
       "      <td>1.662937</td>\n",
       "      <td>1.595363</td>\n",
       "      <td>1.018441</td>\n",
       "      <td>1.877621</td>\n",
       "      <td>1.638462</td>\n",
       "      <td>...</td>\n",
       "      <td>1.630967</td>\n",
       "      <td>1.205253</td>\n",
       "      <td>1.708544</td>\n",
       "      <td>1.445910</td>\n",
       "      <td>1.829752</td>\n",
       "      <td>1.310758</td>\n",
       "      <td>1.623039</td>\n",
       "      <td>1.708485</td>\n",
       "      <td>1.518035</td>\n",
       "      <td>1.540578</td>\n",
       "    </tr>\n",
       "    <tr>\n",
       "      <th>2519</th>\n",
       "      <td>1.473170</td>\n",
       "      <td>2.102777</td>\n",
       "      <td>1.427815</td>\n",
       "      <td>1.685932</td>\n",
       "      <td>1.583657</td>\n",
       "      <td>1.665441</td>\n",
       "      <td>1.594265</td>\n",
       "      <td>1.021761</td>\n",
       "      <td>1.886624</td>\n",
       "      <td>1.637539</td>\n",
       "      <td>...</td>\n",
       "      <td>1.628152</td>\n",
       "      <td>1.207331</td>\n",
       "      <td>1.705792</td>\n",
       "      <td>1.447552</td>\n",
       "      <td>1.823596</td>\n",
       "      <td>1.316129</td>\n",
       "      <td>1.615268</td>\n",
       "      <td>1.708227</td>\n",
       "      <td>1.534634</td>\n",
       "      <td>1.544087</td>\n",
       "    </tr>\n",
       "    <tr>\n",
       "      <th>2520</th>\n",
       "      <td>1.477404</td>\n",
       "      <td>2.098932</td>\n",
       "      <td>1.421023</td>\n",
       "      <td>1.682010</td>\n",
       "      <td>1.579068</td>\n",
       "      <td>1.666514</td>\n",
       "      <td>1.589348</td>\n",
       "      <td>1.015463</td>\n",
       "      <td>1.878371</td>\n",
       "      <td>1.646327</td>\n",
       "      <td>...</td>\n",
       "      <td>1.622988</td>\n",
       "      <td>1.206424</td>\n",
       "      <td>1.693708</td>\n",
       "      <td>1.453016</td>\n",
       "      <td>1.826967</td>\n",
       "      <td>1.324972</td>\n",
       "      <td>1.612399</td>\n",
       "      <td>1.710271</td>\n",
       "      <td>1.532524</td>\n",
       "      <td>1.554934</td>\n",
       "    </tr>\n",
       "  </tbody>\n",
       "</table>\n",
       "<p>2521 rows × 500 columns</p>\n",
       "</div>"
      ]
     },
     "metadata": {},
     "execution_count": 215
    }
   ],
   "metadata": {}
  },
  {
   "cell_type": "code",
   "execution_count": 216,
   "source": [
    "# Visualize the 10-year Monte Carlo simulation by creating an\r\n",
    "# overlay line plot\r\n",
    "line_plot_2 = ten_year_simulation.plot_simulation()"
   ],
   "outputs": [
    {
     "output_type": "display_data",
     "data": {
      "text/plain": [
       "<Figure size 432x288 with 1 Axes>"
      ],
      "image/png": "[encoded data removed]"
     },
     "metadata": {
      "needs_background": "light"
     }
    }
   ],
   "metadata": {}
  },
  {
   "cell_type": "code",
   "execution_count": 217,
   "source": [
    "# Visualize the probability distribution of the 10-year Monte Carlo simulation \r\n",
    "# by plotting a histogram\r\n",
    "ten_year_simulation.plot_distribution()"
   ],
   "outputs": [
    {
     "output_type": "execute_result",
     "data": {
      "text/plain": [
       "<AxesSubplot:title={'center':'Distribution of Final Cumuluative Returns Across All 500 Simulations'}, ylabel='Frequency'>"
      ]
     },
     "metadata": {},
     "execution_count": 217
    },
    {
     "output_type": "display_data",
     "data": {
      "text/plain": [
       "<Figure size 432x288 with 1 Axes>"
      ],
      "image/png": "[encoded data removed]"
     },
     "metadata": {
      "needs_background": "light"
     }
    }
   ],
   "metadata": {}
  },
  {
   "cell_type": "code",
   "execution_count": 218,
   "source": [
    "# Generate summary statistics from the 10-year Monte Carlo simulation results\r\n",
    "# Save the results as a variable\r\n",
    "ten_year_simulation_summary_stats = ten_year_simulation.summarize_cumulative_return()\r\n",
    "\r\n",
    "# Review the 10-year Monte Carlo summary statistics\r\n",
    "ten_year_simulation_summary_stats"
   ],
   "outputs": [
    {
     "output_type": "execute_result",
     "data": {
      "text/plain": [
       "count           500.000000\n",
       "mean              1.585585\n",
       "std               0.283090\n",
       "min               0.999954\n",
       "25%               1.358557\n",
       "50%               1.565788\n",
       "75%               1.756831\n",
       "max               2.598526\n",
       "95% CI Lower      1.120862\n",
       "95% CI Upper      2.181123\n",
       "Name: 2520, dtype: float64"
      ]
     },
     "metadata": {},
     "execution_count": 218
    }
   ],
   "metadata": {}
  },
  {
   "cell_type": "markdown",
   "source": [
    "### Answer the following questions:"
   ],
   "metadata": {}
  },
  {
   "cell_type": "markdown",
   "source": [
    "#### Question: Using the current value of only the stock and bond portion of the member's portfolio and the summary statistics that you generated from the new Monte Carlo simulation, what are the lower and upper bounds for the expected value of the portfolio (with the new weights) with a 95% confidence interval?"
   ],
   "metadata": {}
  },
  {
   "cell_type": "code",
   "execution_count": 219,
   "source": [
    "# Print the current balance of the stock and bond portion of the members portfolio\r\n",
    "print(total_stocks_bonds)"
   ],
   "outputs": [
    {
     "output_type": "stream",
     "name": "stdout",
     "text": [
      "71134.20000000001\n"
     ]
    }
   ],
   "metadata": {}
  },
  {
   "cell_type": "code",
   "execution_count": 220,
   "source": [
    "# Use the lower and upper `95%` confidence intervals to calculate the range of the possible outcomes for the current stock/bond portfolio\r\n",
    "ci_lower_ten_cumulative_return = round(ten_year_simulation_summary_stats[8],2)\r\n",
    "ci_upper_ten_cumulative_return = round(ten_year_simulation_summary_stats[9],2)\r\n",
    "\r\n",
    "# Print the result of your calculations\r\n",
    "display(ci_lower_ten_cumulative_return)\r\n",
    "display(ci_upper_ten_cumulative_return)"
   ],
   "outputs": [
    {
     "output_type": "display_data",
     "data": {
      "text/plain": [
       "1.12"
      ]
     },
     "metadata": {}
    },
    {
     "output_type": "display_data",
     "data": {
      "text/plain": [
       "2.18"
      ]
     },
     "metadata": {}
    }
   ],
   "metadata": {}
  },
  {
   "cell_type": "markdown",
   "source": [
    "#### Question: Will weighting the portfolio more heavily to stocks allow the credit union members to retire after only 10 years?"
   ],
   "metadata": {}
  },
  {
   "cell_type": "raw",
   "source": [
    "**Answer** It depends as there are more assumptions that need to be addressed to properly assess the ability to retire.\r\n",
    "The thirty year simulation with the more conservative stock/bond portfolio still shows better\r\n",
    "returns than that of the ten year stock/bond portfolio with the more aggressive portfolio.\r\n",
    "30 year, weights 60/40: lower and upper CI are 3.36 and 22.36, respectively.\r\n",
    "10 year, weights 80/20: lower and upper CI are 1.04 and 2.22, respectively."
   ],
   "metadata": {}
  },
  {
   "cell_type": "raw",
   "source": [],
   "metadata": {}
  }
 ],
 "metadata": {
  "kernelspec": {
   "display_name": "Python (dev)",
   "language": "python",
   "name": "dev"
  },
  "language_info": {
   "codemirror_mode": {
    "name": "ipython",
    "version": 3
   },
   "file_extension": ".py",
   "mimetype": "text/x-python",
   "name": "python",
   "nbconvert_exporter": "python",
   "pygments_lexer": "ipython3",
   "version": "3.7.7"
  }
 },
 "nbformat": 4,
 "nbformat_minor": 4
}